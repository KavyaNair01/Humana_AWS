{
 "cells": [
  {
   "cell_type": "code",
   "execution_count": 1,
   "id": "e00ef963",
   "metadata": {},
   "outputs": [],
   "source": [
    "import pandas as pd\n",
    "import numpy as np\n"
   ]
  },
  {
   "cell_type": "code",
   "execution_count": 2,
   "id": "df23cf82-ea83-4b7d-bd05-0aedb99caf56",
   "metadata": {},
   "outputs": [
    {
     "name": "stdout",
     "output_type": "stream",
     "text": [
      "root\n",
      " |-- measurement_year: string (nullable = true)\n",
      " |-- measure_name: string (nullable = true)\n",
      " |-- measure_desc: string (nullable = true)\n",
      " |-- measure_type: string (nullable = true)\n",
      " |-- base_event_date: string (nullable = true)\n",
      " |-- compliant_cnt: string (nullable = true)\n",
      " |-- eligible_cnt: string (nullable = true)\n",
      " |-- id: string (nullable = true)\n",
      "\n"
     ]
    }
   ],
   "source": [
    "from pyspark.sql import SparkSession\n",
    "\n",
    "# Create SparkSession\n",
    "spark = SparkSession.builder.master(\"local[1]\").appName(\"SparkByExamples.com\").getOrCreate()\n",
    "\n",
    "# Read CSV File\n",
    "df = spark.read.option(\"header\",True).csv(\"QUALITY_DATA.csv\")\n",
    "df.printSchema()"
   ]
  },
  {
   "cell_type": "code",
   "execution_count": 3,
   "id": "4b8bb913",
   "metadata": {},
   "outputs": [],
   "source": [
    "from pyspark.sql.types import IntegerType, StringType, DoubleType, LongType, BooleanType\n",
    "from pyspark.sql.functions import col\n",
    "df = df.withColumn('eligible_cnt', col('eligible_cnt').cast(IntegerType()))\n",
    "df = df.withColumn('compliant_cnt', col('compliant_cnt').cast(IntegerType()))"
   ]
  },
  {
   "cell_type": "code",
   "execution_count": 4,
   "id": "876f9b7a-f14c-43f9-a87a-dcfed410d215",
   "metadata": {},
   "outputs": [
    {
     "data": {
      "text/plain": [
       "DataFrame[measurement_year: string, measure_name: string, measure_desc: string, measure_type: string, base_event_date: string, compliant_cnt: int, eligible_cnt: int, id: string]"
      ]
     },
     "execution_count": 4,
     "metadata": {},
     "output_type": "execute_result"
    }
   ],
   "source": [
    "df.dropDuplicates( subset=['measurement_year','measure_name', 'measure_type','base_event_date','compliant_cnt',\t'eligible_cnt',\t'id'])"
   ]
  },
  {
   "cell_type": "code",
   "execution_count": 4,
   "id": "ad7aea61",
   "metadata": {
    "scrolled": true
   },
   "outputs": [
    {
     "data": {
      "text/html": [
       "<div>\n",
       "<style scoped>\n",
       "    .dataframe tbody tr th:only-of-type {\n",
       "        vertical-align: middle;\n",
       "    }\n",
       "\n",
       "    .dataframe tbody tr th {\n",
       "        vertical-align: top;\n",
       "    }\n",
       "\n",
       "    .dataframe thead th {\n",
       "        text-align: right;\n",
       "    }\n",
       "</style>\n",
       "<table border=\"1\" class=\"dataframe\">\n",
       "  <thead>\n",
       "    <tr style=\"text-align: right;\">\n",
       "      <th></th>\n",
       "      <th>measurement_year</th>\n",
       "      <th>measure_name</th>\n",
       "      <th>measure_desc</th>\n",
       "      <th>measure_type</th>\n",
       "      <th>base_event_date</th>\n",
       "      <th>compliant_cnt</th>\n",
       "      <th>eligible_cnt</th>\n",
       "      <th>id</th>\n",
       "    </tr>\n",
       "  </thead>\n",
       "  <tbody>\n",
       "    <tr>\n",
       "      <th>31216437</th>\n",
       "      <td>2020</td>\n",
       "      <td>TEX</td>\n",
       "      <td>Dr Talks Exercise</td>\n",
       "      <td>Patient Experience</td>\n",
       "      <td>28JAN2020</td>\n",
       "      <td>0.0</td>\n",
       "      <td>1</td>\n",
       "      <td>40240</td>\n",
       "    </tr>\n",
       "    <tr>\n",
       "      <th>31216438</th>\n",
       "      <td>2021</td>\n",
       "      <td>TEX</td>\n",
       "      <td>Dr Talks Exercise</td>\n",
       "      <td>Patient Experience</td>\n",
       "      <td>13APR2021</td>\n",
       "      <td>1.0</td>\n",
       "      <td>1</td>\n",
       "      <td>40240</td>\n",
       "    </tr>\n",
       "    <tr>\n",
       "      <th>31216439</th>\n",
       "      <td>2021</td>\n",
       "      <td>TEX</td>\n",
       "      <td>Dr Talks Exercise</td>\n",
       "      <td>Patient Experience</td>\n",
       "      <td>16SEP2021</td>\n",
       "      <td>1.0</td>\n",
       "      <td>1</td>\n",
       "      <td>40240</td>\n",
       "    </tr>\n",
       "    <tr>\n",
       "      <th>31216440</th>\n",
       "      <td>2022</td>\n",
       "      <td>TEX</td>\n",
       "      <td>Dr Talks Exercise</td>\n",
       "      <td>Patient Experience</td>\n",
       "      <td>17MAR2022</td>\n",
       "      <td>1.0</td>\n",
       "      <td>1</td>\n",
       "      <td>40240</td>\n",
       "    </tr>\n",
       "  </tbody>\n",
       "</table>\n",
       "</div>"
      ],
      "text/plain": [
       "          measurement_year measure_name       measure_desc  \\\n",
       "31216437              2020          TEX  Dr Talks Exercise   \n",
       "31216438              2021          TEX  Dr Talks Exercise   \n",
       "31216439              2021          TEX  Dr Talks Exercise   \n",
       "31216440              2022          TEX  Dr Talks Exercise   \n",
       "\n",
       "                measure_type base_event_date  compliant_cnt  eligible_cnt  \\\n",
       "31216437  Patient Experience       28JAN2020            0.0             1   \n",
       "31216438  Patient Experience       13APR2021            1.0             1   \n",
       "31216439  Patient Experience       16SEP2021            1.0             1   \n",
       "31216440  Patient Experience       17MAR2022            1.0             1   \n",
       "\n",
       "             id  \n",
       "31216437  40240  \n",
       "31216438  40240  \n",
       "31216439  40240  \n",
       "31216440  40240  "
      ]
     },
     "execution_count": 4,
     "metadata": {},
     "output_type": "execute_result"
    }
   ],
   "source": [
    "df[(df['id']==40240) & (df['measure_name']=='TEX')].sort_values(by='measurement_year')#['measure_name'].value_counts()\n"
   ]
  },
  {
   "cell_type": "code",
   "execution_count": 16,
   "id": "d7d0c82a",
   "metadata": {},
   "outputs": [
    {
     "data": {
      "text/plain": [
       "TEX           6\n",
       "ESA           4\n",
       "SWT           4\n",
       "EGR           4\n",
       "RXC           4\n",
       "ETA           4\n",
       "MDR           4\n",
       "ADH (DIAB)    3\n",
       "ADH (ACE)     3\n",
       "TFP           2\n",
       "TBC           2\n",
       "SBT           2\n",
       "ASV           1\n",
       "SFT           1\n",
       "Name: measure_name, dtype: int64"
      ]
     },
     "execution_count": 16,
     "metadata": {},
     "output_type": "execute_result"
    }
   ],
   "source": [
    "df[df['id']==40240]['measure_name'].value_counts()"
   ]
  },
  {
   "cell_type": "code",
   "execution_count": 8,
   "id": "8481a2a7-643d-4408-be8c-e46024910d88",
   "metadata": {},
   "outputs": [],
   "source": [
    "from pyspark.sql import functions as F\n",
    "\n",
    "df_agg=df.groupby(['id']).pivot('measure_name').agg({'eligible_cnt':'sum'})\n",
    "        #agg(F.first('measurement_year').alias('measurement_year'),F.first('eligible_cnt').alias('eligible_cnt')))"
   ]
  },
  {
   "cell_type": "code",
   "execution_count": 12,
   "id": "ddaf65e8-3fe9-40de-874f-559262c66344",
   "metadata": {
    "scrolled": true
   },
   "outputs": [
    {
     "data": {
      "text/plain": [
       "{'ABA': 'ABA_elig_cnt',\n",
       " 'ADH (ACE)': 'ADH_(ACE)_elig_cnt',\n",
       " 'ADH (DIAB)': 'ADH_(DIAB)_elig_cnt',\n",
       " 'ADH (STATIN)': 'ADH_(STATIN)_elig_cnt',\n",
       " 'ART': 'ART_elig_cnt',\n",
       " 'ASV': 'ASV_elig_cnt',\n",
       " 'BCS': 'BCS_elig_cnt',\n",
       " 'CBP': 'CBP_elig_cnt',\n",
       " 'CDC (EYE)': 'CDC_(EYE)_elig_cnt',\n",
       " 'CDC (HbA1c)': 'CDC_(HbA1c)_elig_cnt',\n",
       " 'CDC (NPH)': 'CDC_(NPH)_elig_cnt',\n",
       " 'COA (FSA)': 'COA_(FSA)_elig_cnt',\n",
       " 'COA (MDR)': 'COA_(MDR)_elig_cnt',\n",
       " 'COA (PNS)': 'COA_(PNS)_elig_cnt',\n",
       " 'COL': 'COL_elig_cnt',\n",
       " 'COL (45-50)': 'COL_(45-50)_elig_cnt',\n",
       " 'EED': 'EED_elig_cnt',\n",
       " 'EGR': 'EGR_elig_cnt',\n",
       " 'ESA': 'ESA_elig_cnt',\n",
       " 'ETA': 'ETA_elig_cnt',\n",
       " 'FMC': 'FMC_elig_cnt',\n",
       " 'HBD': 'HBD_elig_cnt',\n",
       " 'KED': 'KED_elig_cnt',\n",
       " 'MDR': 'MDR_elig_cnt',\n",
       " 'MRP': 'MRP_elig_cnt',\n",
       " 'OMW': 'OMW_elig_cnt',\n",
       " 'PCR': 'PCR_elig_cnt',\n",
       " 'RXC': 'RXC_elig_cnt',\n",
       " 'SBT': 'SBT_elig_cnt',\n",
       " 'SFT': 'SFT_elig_cnt',\n",
       " 'SPC STATIN': 'SPC_STATIN_elig_cnt',\n",
       " 'SUPD': 'SUPD_elig_cnt',\n",
       " 'SWT': 'SWT_elig_cnt',\n",
       " 'TBC': 'TBC_elig_cnt',\n",
       " 'TEX': 'TEX_elig_cnt',\n",
       " 'TFP': 'TFP_elig_cnt',\n",
       " 'TRC (MRP)': 'TRC_(MRP)_elig_cnt',\n",
       " 'TRC (PED)': 'TRC_(PED)_elig_cnt'}"
      ]
     },
     "execution_count": 12,
     "metadata": {},
     "output_type": "execute_result"
    }
   ],
   "source": [
    "dct=dict()\n",
    "for i in df_agg.columns:\n",
    "  if i not in ['id','measurement_year''measure_name']:\n",
    "    dct[i]= i.replace(' ', '_')+'_elig_cnt'\n",
    "    \n",
    "dct"
   ]
  },
  {
   "cell_type": "code",
   "execution_count": 13,
   "id": "732c064a-e767-44fd-a3e2-0fe716ea3852",
   "metadata": {},
   "outputs": [],
   "source": [
    "\n",
    "#df.filter(df.age > 3)\n",
    "df_agg.toPandas().rename(columns=dct).to_csv('QUALITY_DATA_measure_name_elig_cnt_pyspark.csv')"
   ]
  },
  {
   "cell_type": "code",
   "execution_count": 14,
   "id": "67e26342-47dc-4e20-a87f-95cc2459f9ac",
   "metadata": {},
   "outputs": [],
   "source": [
    "from pyspark.sql import functions as F\n",
    "\n",
    "df_agg=df.groupby(['id']).pivot('measure_name').agg({'compliant_cnt':'sum'})"
   ]
  },
  {
   "cell_type": "code",
   "execution_count": 17,
   "id": "5266a38d-90d9-4c73-b995-5dc32d04ea32",
   "metadata": {
    "scrolled": true
   },
   "outputs": [
    {
     "data": {
      "text/plain": [
       "{'ABA': 'ABA_comp_cnt',\n",
       " 'ADH (ACE)': 'ADH_(ACE)_comp_cnt',\n",
       " 'ADH (DIAB)': 'ADH_(DIAB)_comp_cnt',\n",
       " 'ADH (STATIN)': 'ADH_(STATIN)_comp_cnt',\n",
       " 'ART': 'ART_comp_cnt',\n",
       " 'ASV': 'ASV_comp_cnt',\n",
       " 'BCS': 'BCS_comp_cnt',\n",
       " 'CBP': 'CBP_comp_cnt',\n",
       " 'CDC (EYE)': 'CDC_(EYE)_comp_cnt',\n",
       " 'CDC (HbA1c)': 'CDC_(HbA1c)_comp_cnt',\n",
       " 'CDC (NPH)': 'CDC_(NPH)_comp_cnt',\n",
       " 'COA (FSA)': 'COA_(FSA)_comp_cnt',\n",
       " 'COA (MDR)': 'COA_(MDR)_comp_cnt',\n",
       " 'COA (PNS)': 'COA_(PNS)_comp_cnt',\n",
       " 'COL': 'COL_comp_cnt',\n",
       " 'COL (45-50)': 'COL_(45-50)_comp_cnt',\n",
       " 'EED': 'EED_comp_cnt',\n",
       " 'EGR': 'EGR_comp_cnt',\n",
       " 'ESA': 'ESA_comp_cnt',\n",
       " 'ETA': 'ETA_comp_cnt',\n",
       " 'FMC': 'FMC_comp_cnt',\n",
       " 'HBD': 'HBD_comp_cnt',\n",
       " 'KED': 'KED_comp_cnt',\n",
       " 'MDR': 'MDR_comp_cnt',\n",
       " 'MRP': 'MRP_comp_cnt',\n",
       " 'OMW': 'OMW_comp_cnt',\n",
       " 'PCR': 'PCR_comp_cnt',\n",
       " 'RXC': 'RXC_comp_cnt',\n",
       " 'SBT': 'SBT_comp_cnt',\n",
       " 'SFT': 'SFT_comp_cnt',\n",
       " 'SPC STATIN': 'SPC_STATIN_comp_cnt',\n",
       " 'SUPD': 'SUPD_comp_cnt',\n",
       " 'SWT': 'SWT_comp_cnt',\n",
       " 'TBC': 'TBC_comp_cnt',\n",
       " 'TEX': 'TEX_comp_cnt',\n",
       " 'TFP': 'TFP_comp_cnt',\n",
       " 'TRC (MRP)': 'TRC_(MRP)_comp_cnt',\n",
       " 'TRC (PED)': 'TRC_(PED)_comp_cnt'}"
      ]
     },
     "execution_count": 17,
     "metadata": {},
     "output_type": "execute_result"
    }
   ],
   "source": [
    "dct_comp=dict()\n",
    "for i in df_agg.columns:\n",
    "  if i not in ['id','measurement_year''measure_name']:\n",
    "    dct_comp[i]= i.replace(' ', '_')+'_comp_cnt'\n",
    "    \n",
    "dct_comp"
   ]
  },
  {
   "cell_type": "code",
   "execution_count": 18,
   "id": "57cebaa9-4612-4ed4-9c9f-41e754d4cba6",
   "metadata": {},
   "outputs": [],
   "source": [
    "df_agg.toPandas().rename(columns=dct_comp).to_csv('QUALITY_DATA_measure_name_comp_cnt_pyspark.csv')"
   ]
  },
  {
   "cell_type": "code",
   "execution_count": 19,
   "id": "a9fc3d59-bc41-4c36-919d-ea33f01b7e32",
   "metadata": {},
   "outputs": [],
   "source": [
    "from pyspark.sql import functions as F\n",
    "\n",
    "df_agg=df.groupby(['id']).pivot('measure_type').agg({'compliant_cnt':'sum'})"
   ]
  },
  {
   "cell_type": "code",
   "execution_count": 20,
   "id": "b69cdd18-b19a-4c99-92ba-aa25f9f5fbf0",
   "metadata": {},
   "outputs": [
    {
     "data": {
      "text/plain": [
       "{'HEDIS': 'HEDIS_comp_cnt',\n",
       " 'Patient Experience': 'Patient_Experience_comp_cnt',\n",
       " 'Patient Safety': 'Patient_Safety_comp_cnt'}"
      ]
     },
     "execution_count": 20,
     "metadata": {},
     "output_type": "execute_result"
    }
   ],
   "source": [
    "dct_comp=dict()\n",
    "for i in df_agg.columns:\n",
    "  if i not in ['id','measurement_year''measure_name']:\n",
    "    dct_comp[i]= i.replace(' ', '_')+'_comp_cnt'\n",
    "    \n",
    "dct_comp"
   ]
  },
  {
   "cell_type": "code",
   "execution_count": 21,
   "id": "7bbb2db0-574b-4ff4-8a7c-98c127bae240",
   "metadata": {},
   "outputs": [],
   "source": [
    "df_agg.toPandas().rename(columns=dct_comp).to_csv('QUALITY_DATA_measure_type_comp_cnt_pyspark.csv')"
   ]
  },
  {
   "cell_type": "code",
   "execution_count": 5,
   "id": "1f53420e-b44b-4123-8372-7e2124df7efb",
   "metadata": {},
   "outputs": [],
   "source": [
    "from pyspark.sql import functions as F\n",
    "\n",
    "df_agg=df.groupby(['id']).pivot('measure_type').agg({'eligible_cnt':'sum'})"
   ]
  },
  {
   "cell_type": "code",
   "execution_count": 6,
   "id": "84cdf3f9-c590-41f8-9e7e-5dce16ac2fbc",
   "metadata": {},
   "outputs": [
    {
     "data": {
      "text/plain": [
       "{'HEDIS': 'HEDIS_elig_cnt',\n",
       " 'Patient Experience': 'Patient_Experience_elig_cnt',\n",
       " 'Patient Safety': 'Patient_Safety_elig_cnt'}"
      ]
     },
     "execution_count": 6,
     "metadata": {},
     "output_type": "execute_result"
    }
   ],
   "source": [
    "dct=dict()\n",
    "for i in df_agg.columns:\n",
    "  if i not in ['id','measurement_year''measure_name']:\n",
    "    dct[i]= i.replace(' ', '_')+'_elig_cnt'\n",
    "    \n",
    "dct"
   ]
  },
  {
   "cell_type": "code",
   "execution_count": 7,
   "id": "e5e81365-97da-491f-bb5f-1012e42c1d32",
   "metadata": {},
   "outputs": [],
   "source": [
    "df_agg.toPandas().rename(columns=dct).to_csv('QUALITY_DATA_measure_type_elig_cnt_pyspark.csv')"
   ]
  },
  {
   "cell_type": "code",
   "execution_count": null,
   "id": "a367dbeb-34e3-4841-a08b-0db6091d7ac4",
   "metadata": {},
   "outputs": [],
   "source": [
    "from pyspark.sql import functions as F\n",
    "\n",
    "df_agg2=df.groupby(['id']).pivot('measure_type').agg({'eligible_cnt':'sum','compliant_cnt':'sum'})"
   ]
  },
  {
   "cell_type": "code",
   "execution_count": null,
   "id": "4de6d3e7-ed7d-48ec-bccc-7e18654e956c",
   "metadata": {},
   "outputs": [],
   "source": [
    "dct2=dict()\n",
    "for i in df_agg2.columns:\n",
    "  if i not in ['id','measurement_year']:\n",
    "    dc2t[i]= i.replace(' ', '_')\n",
    "    \n",
    "dct2"
   ]
  },
  {
   "cell_type": "code",
   "execution_count": null,
   "id": "f676f165-6b39-4b5e-b6b5-40c4b43360e5",
   "metadata": {},
   "outputs": [],
   "source": [
    "\n",
    "#df.filter(df.age > 3)\n",
    "df_agg.toPandas().rename(columns=dct).to_csv('QUALITY_DATA_measure_name_pyspark.csv')"
   ]
  },
  {
   "cell_type": "code",
   "execution_count": 31,
   "id": "2ef52b70-09d3-45cb-a400-a7da50f08f01",
   "metadata": {},
   "outputs": [],
   "source": [
    "\n",
    "#df.filter(df.age > 3)\n",
    "df_agg.filter(df_agg['measurement_year']==2021).toPandas().rename(columns=dct_2021).to_csv('QUALITY_DATA__measure_name_eligible_cnt_2021_pyspark.csv')"
   ]
  },
  {
   "cell_type": "code",
   "execution_count": null,
   "id": "d18909e6-84e2-43ae-a9bc-d90cb0d8dd9d",
   "metadata": {},
   "outputs": [],
   "source": [
    "df_agg.filter(df_agg['measurement_year']==2022).toPandas().rename(columns=dct_2022).to_csv('QUALITY_DATA__measure_name_eligible_cnt_2022_pyspark.csv')"
   ]
  },
  {
   "cell_type": "code",
   "execution_count": null,
   "id": "9315d49a-858e-443f-85ff-970607e1c6a6",
   "metadata": {},
   "outputs": [],
   "source": [
    "df_agg.filter(df_agg['measurement_year']==2020).toPandas().rename(columns=dct_2022).to_csv('QUALITY_DATA__measure_name_eligible_cnt_2022_pyspark.csv')"
   ]
  },
  {
   "cell_type": "code",
   "execution_count": 7,
   "id": "673fbc2b-f0c9-4650-b64e-d0bef3e66681",
   "metadata": {},
   "outputs": [
    {
     "ename": "TypeError",
     "evalue": "values should be a numeric type.",
     "output_type": "error",
     "traceback": [
      "\u001b[1;31m---------------------------------------------------------------------------\u001b[0m",
      "\u001b[1;31mTypeError\u001b[0m                                 Traceback (most recent call last)",
      "\u001b[1;32m~\\AppData\\Local\\Temp\\ipykernel_23684\\2554000097.py\u001b[0m in \u001b[0;36m?\u001b[1;34m()\u001b[0m\n\u001b[1;32m----> 1\u001b[1;33m \u001b[0mdf\u001b[0m\u001b[1;33m.\u001b[0m\u001b[0mpivot_table\u001b[0m\u001b[1;33m(\u001b[0m\u001b[0mindex\u001b[0m \u001b[1;33m=\u001b[0m \u001b[1;33m[\u001b[0m\u001b[1;34m'id'\u001b[0m\u001b[1;33m,\u001b[0m\u001b[1;34m'measurement_year'\u001b[0m\u001b[1;33m]\u001b[0m\u001b[1;33m,\u001b[0m \u001b[0mcolumns\u001b[0m \u001b[1;33m=\u001b[0m\u001b[1;34m'measure_name'\u001b[0m\u001b[1;33m,\u001b[0m \u001b[0mvalues\u001b[0m \u001b[1;33m=\u001b[0m \u001b[1;34m'base_event_date'\u001b[0m \u001b[1;33m,\u001b[0m \u001b[0maggfunc\u001b[0m\u001b[1;33m=\u001b[0m\u001b[1;34m'nunique'\u001b[0m\u001b[1;33m,\u001b[0m \u001b[0mfill_value\u001b[0m \u001b[1;33m=\u001b[0m \u001b[1;36m0\u001b[0m\u001b[1;33m)\u001b[0m\u001b[1;31m#.to_csv('QUALITY_DATA_measure_name.csv')\u001b[0m\u001b[1;33m\u001b[0m\u001b[1;33m\u001b[0m\u001b[0m\n\u001b[0m",
      "\u001b[1;32m~\\anaconda3\\envs\\spark\\lib\\site-packages\\pyspark\\pandas\\frame.py\u001b[0m in \u001b[0;36m?\u001b[1;34m(self, values, index, columns, aggfunc, fill_value)\u001b[0m\n\u001b[0;32m   6588\u001b[0m                 \u001b[1;32mraise\u001b[0m \u001b[0mTypeError\u001b[0m\u001b[1;33m(\u001b[0m\u001b[1;34m\"values should be a numeric type.\"\u001b[0m\u001b[1;33m)\u001b[0m\u001b[1;33m\u001b[0m\u001b[1;33m\u001b[0m\u001b[0m\n\u001b[0;32m   6589\u001b[0m         \u001b[1;32melse\u001b[0m\u001b[1;33m:\u001b[0m\u001b[1;33m\u001b[0m\u001b[1;33m\u001b[0m\u001b[0m\n\u001b[0;32m   6590\u001b[0m             \u001b[0mvalues\u001b[0m \u001b[1;33m=\u001b[0m \u001b[0mvalues\u001b[0m \u001b[1;32mif\u001b[0m \u001b[0mis_name_like_tuple\u001b[0m\u001b[1;33m(\u001b[0m\u001b[0mvalues\u001b[0m\u001b[1;33m)\u001b[0m \u001b[1;32melse\u001b[0m \u001b[1;33m(\u001b[0m\u001b[0mvalues\u001b[0m\u001b[1;33m,\u001b[0m\u001b[1;33m)\u001b[0m\u001b[1;33m\u001b[0m\u001b[1;33m\u001b[0m\u001b[0m\n\u001b[0;32m   6591\u001b[0m             \u001b[1;32mif\u001b[0m \u001b[1;32mnot\u001b[0m \u001b[0misinstance\u001b[0m\u001b[1;33m(\u001b[0m\u001b[0mself\u001b[0m\u001b[1;33m.\u001b[0m\u001b[0m_internal\u001b[0m\u001b[1;33m.\u001b[0m\u001b[0mspark_type_for\u001b[0m\u001b[1;33m(\u001b[0m\u001b[0mvalues\u001b[0m\u001b[1;33m)\u001b[0m\u001b[1;33m,\u001b[0m \u001b[0mNumericType\u001b[0m\u001b[1;33m)\u001b[0m\u001b[1;33m:\u001b[0m\u001b[1;33m\u001b[0m\u001b[1;33m\u001b[0m\u001b[0m\n\u001b[1;32m-> 6592\u001b[1;33m                 \u001b[1;32mraise\u001b[0m \u001b[0mTypeError\u001b[0m\u001b[1;33m(\u001b[0m\u001b[1;34m\"values should be a numeric type.\"\u001b[0m\u001b[1;33m)\u001b[0m\u001b[1;33m\u001b[0m\u001b[1;33m\u001b[0m\u001b[0m\n\u001b[0m\u001b[0;32m   6593\u001b[0m \u001b[1;33m\u001b[0m\u001b[0m\n\u001b[0;32m   6594\u001b[0m         \u001b[1;32mif\u001b[0m \u001b[0misinstance\u001b[0m\u001b[1;33m(\u001b[0m\u001b[0maggfunc\u001b[0m\u001b[1;33m,\u001b[0m \u001b[0mstr\u001b[0m\u001b[1;33m)\u001b[0m\u001b[1;33m:\u001b[0m\u001b[1;33m\u001b[0m\u001b[1;33m\u001b[0m\u001b[0m\n\u001b[0;32m   6595\u001b[0m             \u001b[1;32mif\u001b[0m \u001b[0misinstance\u001b[0m\u001b[1;33m(\u001b[0m\u001b[0mvalues\u001b[0m\u001b[1;33m,\u001b[0m \u001b[0mlist\u001b[0m\u001b[1;33m)\u001b[0m\u001b[1;33m:\u001b[0m\u001b[1;33m\u001b[0m\u001b[1;33m\u001b[0m\u001b[0m\n",
      "\u001b[1;31mTypeError\u001b[0m: values should be a numeric type."
     ]
    }
   ],
   "source": [
    "df.pivot_table(index = ['id', columns ='measure_name', values = 'base_event_date' , aggfunc='nunique', fill_value = 0)#.to_csv('QUALITY_DATA_measure_name.csv')"
   ]
  },
  {
   "cell_type": "code",
   "execution_count": 15,
   "id": "132f80f6-1a06-4ada-8d55-06eeb09f79c2",
   "metadata": {},
   "outputs": [],
   "source": [
    "df.pivot_table(index = 'id', columns =['measure_name','measurement_year'], values = 'compliant_cnt' , aggfunc='sum', fill_value = 0).to_csv('QUALITY_DATA__measure_nm_comp_cnt.csv')"
   ]
  },
  {
   "cell_type": "code",
   "execution_count": 16,
   "id": "ee69e9ec-16b7-4a32-8e67-b750aa63cfea",
   "metadata": {},
   "outputs": [],
   "source": [
    "df.pivot_table(index = 'id', columns =['measure_type','measurement_year'], values = 'compliant_cnt' , aggfunc='sum', fill_value = 0).to_csv('QUALITY_DATA__measure_type_comp_cnt.csv')"
   ]
  },
  {
   "cell_type": "code",
   "execution_count": 17,
   "id": "d23e8147-e2a2-48a0-9af5-0bce3f4b00e6",
   "metadata": {},
   "outputs": [],
   "source": [
    "df.pivot_table(index = 'id', columns =['measure_type','measurement_year'], values = 'eligible_cnt' , aggfunc='sum', fill_value = 0).to_csv('QUALITY_DATA__measure_type_eligible_cnt.csv')"
   ]
  },
  {
   "cell_type": "code",
   "execution_count": 6,
   "id": "9acabda9-e5cc-4c6a-9f0b-6a05a83c4aa2",
   "metadata": {
    "scrolled": true
   },
   "outputs": [
    {
     "ename": "MemoryError",
     "evalue": "",
     "output_type": "error",
     "traceback": [
      "\u001b[1;31m---------------------------------------------------------------------------\u001b[0m",
      "\u001b[1;31mMemoryError\u001b[0m                               Traceback (most recent call last)",
      "Cell \u001b[1;32mIn[6], line 5\u001b[0m\n\u001b[0;32m      1\u001b[0m \u001b[38;5;66;03m#df['base_event_dt_lag'] = df.sort_values(by=['id','base_event_date']).groupby('id')['base_event_date'].shift(periods=1)\u001b[39;00m\n\u001b[0;32m      2\u001b[0m \u001b[38;5;66;03m# Convert the base_event_date to a proper datetime format\u001b[39;00m\n\u001b[0;32m      3\u001b[0m df[\u001b[38;5;124m'\u001b[39m\u001b[38;5;124mbase_event_date\u001b[39m\u001b[38;5;124m'\u001b[39m] \u001b[38;5;241m=\u001b[39m pd\u001b[38;5;241m.\u001b[39mto_datetime(df[\u001b[38;5;124m'\u001b[39m\u001b[38;5;124mbase_event_date\u001b[39m\u001b[38;5;124m'\u001b[39m], \u001b[38;5;28mformat\u001b[39m\u001b[38;5;241m=\u001b[39m\u001b[38;5;124m'\u001b[39m\u001b[38;5;132;01m%d\u001b[39;00m\u001b[38;5;124m%\u001b[39m\u001b[38;5;124mb\u001b[39m\u001b[38;5;124m%\u001b[39m\u001b[38;5;124mY\u001b[39m\u001b[38;5;124m'\u001b[39m, errors\u001b[38;5;241m=\u001b[39m\u001b[38;5;124m'\u001b[39m\u001b[38;5;124mcoerce\u001b[39m\u001b[38;5;124m'\u001b[39m)\n\u001b[1;32m----> 5\u001b[0m df[\u001b[38;5;124m'\u001b[39m\u001b[38;5;124mbase_event_dt_lag\u001b[39m\u001b[38;5;124m'\u001b[39m] \u001b[38;5;241m=\u001b[39m \u001b[43mdf\u001b[49m\u001b[38;5;241;43m.\u001b[39;49m\u001b[43msort_values\u001b[49m\u001b[43m(\u001b[49m\u001b[43mby\u001b[49m\u001b[38;5;241;43m=\u001b[39;49m\u001b[43m[\u001b[49m\u001b[38;5;124;43m'\u001b[39;49m\u001b[38;5;124;43mid\u001b[39;49m\u001b[38;5;124;43m'\u001b[39;49m\u001b[43m,\u001b[49m\u001b[43m \u001b[49m\u001b[38;5;124;43m'\u001b[39;49m\u001b[38;5;124;43mbase_event_date\u001b[39;49m\u001b[38;5;124;43m'\u001b[39;49m\u001b[43m]\u001b[49m\u001b[43m)\u001b[49m\u001b[38;5;241;43m.\u001b[39;49m\u001b[43mgroupby\u001b[49m\u001b[43m(\u001b[49m\u001b[38;5;124;43m'\u001b[39;49m\u001b[38;5;124;43mid\u001b[39;49m\u001b[38;5;124;43m'\u001b[39;49m\u001b[43m)\u001b[49m\u001b[38;5;241;43m.\u001b[39;49m\u001b[43mapply\u001b[49m\u001b[43m(\u001b[49m\u001b[38;5;28;43;01mlambda\u001b[39;49;00m\u001b[43m \u001b[49m\u001b[43mx\u001b[49m\u001b[43m:\u001b[49m\u001b[43m \u001b[49m\u001b[43mx\u001b[49m\u001b[43m[\u001b[49m\u001b[38;5;124;43m'\u001b[39;49m\u001b[38;5;124;43mbase_event_date\u001b[39;49m\u001b[38;5;124;43m'\u001b[39;49m\u001b[43m]\u001b[49m\u001b[38;5;241;43m.\u001b[39;49m\u001b[43mshift\u001b[49m\u001b[43m(\u001b[49m\u001b[38;5;241;43m1\u001b[39;49m\u001b[43m)\u001b[49m\u001b[43m)\u001b[49m\n",
      "File \u001b[1;32m~\\AppData\\Roaming\\Python\\Python311\\site-packages\\pandas\\core\\groupby\\groupby.py:1567\u001b[0m, in \u001b[0;36mGroupBy.apply\u001b[1;34m(self, func, *args, **kwargs)\u001b[0m\n\u001b[0;32m   1559\u001b[0m     new_msg \u001b[38;5;241m=\u001b[39m (\n\u001b[0;32m   1560\u001b[0m         \u001b[38;5;124mf\u001b[39m\u001b[38;5;124m\"\u001b[39m\u001b[38;5;124mThe operation \u001b[39m\u001b[38;5;132;01m{\u001b[39;00morig_func\u001b[38;5;132;01m}\u001b[39;00m\u001b[38;5;124m failed on a column. If any error is \u001b[39m\u001b[38;5;124m\"\u001b[39m\n\u001b[0;32m   1561\u001b[0m         \u001b[38;5;124mf\u001b[39m\u001b[38;5;124m\"\u001b[39m\u001b[38;5;124mraised, this will raise an exception in a future version \u001b[39m\u001b[38;5;124m\"\u001b[39m\n\u001b[0;32m   1562\u001b[0m         \u001b[38;5;124mf\u001b[39m\u001b[38;5;124m\"\u001b[39m\u001b[38;5;124mof pandas. Drop these columns to avoid this warning.\u001b[39m\u001b[38;5;124m\"\u001b[39m\n\u001b[0;32m   1563\u001b[0m     )\n\u001b[0;32m   1564\u001b[0m     \u001b[38;5;28;01mwith\u001b[39;00m rewrite_warning(\n\u001b[0;32m   1565\u001b[0m         old_msg, \u001b[38;5;167;01mFutureWarning\u001b[39;00m, new_msg\n\u001b[0;32m   1566\u001b[0m     ) \u001b[38;5;28;01mif\u001b[39;00m is_np_func \u001b[38;5;28;01melse\u001b[39;00m nullcontext():\n\u001b[1;32m-> 1567\u001b[0m         result \u001b[38;5;241m=\u001b[39m \u001b[38;5;28;43mself\u001b[39;49m\u001b[38;5;241;43m.\u001b[39;49m\u001b[43m_python_apply_general\u001b[49m\u001b[43m(\u001b[49m\u001b[43mf\u001b[49m\u001b[43m,\u001b[49m\u001b[43m \u001b[49m\u001b[38;5;28;43mself\u001b[39;49m\u001b[38;5;241;43m.\u001b[39;49m\u001b[43m_selected_obj\u001b[49m\u001b[43m)\u001b[49m\n\u001b[0;32m   1568\u001b[0m \u001b[38;5;28;01mexcept\u001b[39;00m \u001b[38;5;167;01mTypeError\u001b[39;00m:\n\u001b[0;32m   1569\u001b[0m     \u001b[38;5;66;03m# gh-20949\u001b[39;00m\n\u001b[0;32m   1570\u001b[0m     \u001b[38;5;66;03m# try again, with .apply acting as a filtering\u001b[39;00m\n\u001b[1;32m   (...)\u001b[0m\n\u001b[0;32m   1574\u001b[0m     \u001b[38;5;66;03m# fails on *some* columns, e.g. a numeric operation\u001b[39;00m\n\u001b[0;32m   1575\u001b[0m     \u001b[38;5;66;03m# on a string grouper column\u001b[39;00m\n\u001b[0;32m   1577\u001b[0m     \u001b[38;5;28;01mwith\u001b[39;00m \u001b[38;5;28mself\u001b[39m\u001b[38;5;241m.\u001b[39m_group_selection_context():\n\u001b[0;32m   1578\u001b[0m         \u001b[38;5;66;03m# GH#50538\u001b[39;00m\n",
      "File \u001b[1;32m~\\AppData\\Roaming\\Python\\Python311\\site-packages\\pandas\\core\\groupby\\groupby.py:1629\u001b[0m, in \u001b[0;36mGroupBy._python_apply_general\u001b[1;34m(self, f, data, not_indexed_same, is_transform, is_agg)\u001b[0m\n\u001b[0;32m   1592\u001b[0m \u001b[38;5;129m@final\u001b[39m\n\u001b[0;32m   1593\u001b[0m \u001b[38;5;28;01mdef\u001b[39;00m \u001b[38;5;21m_python_apply_general\u001b[39m(\n\u001b[0;32m   1594\u001b[0m     \u001b[38;5;28mself\u001b[39m,\n\u001b[1;32m   (...)\u001b[0m\n\u001b[0;32m   1599\u001b[0m     is_agg: \u001b[38;5;28mbool\u001b[39m \u001b[38;5;241m=\u001b[39m \u001b[38;5;28;01mFalse\u001b[39;00m,\n\u001b[0;32m   1600\u001b[0m ) \u001b[38;5;241m-\u001b[39m\u001b[38;5;241m>\u001b[39m NDFrameT:\n\u001b[0;32m   1601\u001b[0m \u001b[38;5;250m    \u001b[39m\u001b[38;5;124;03m\"\"\"\u001b[39;00m\n\u001b[0;32m   1602\u001b[0m \u001b[38;5;124;03m    Apply function f in python space\u001b[39;00m\n\u001b[0;32m   1603\u001b[0m \n\u001b[1;32m   (...)\u001b[0m\n\u001b[0;32m   1627\u001b[0m \u001b[38;5;124;03m        data after applying f\u001b[39;00m\n\u001b[0;32m   1628\u001b[0m \u001b[38;5;124;03m    \"\"\"\u001b[39;00m\n\u001b[1;32m-> 1629\u001b[0m     values, mutated \u001b[38;5;241m=\u001b[39m \u001b[38;5;28;43mself\u001b[39;49m\u001b[38;5;241;43m.\u001b[39;49m\u001b[43mgrouper\u001b[49m\u001b[38;5;241;43m.\u001b[39;49m\u001b[43mapply\u001b[49m\u001b[43m(\u001b[49m\u001b[43mf\u001b[49m\u001b[43m,\u001b[49m\u001b[43m \u001b[49m\u001b[43mdata\u001b[49m\u001b[43m,\u001b[49m\u001b[43m \u001b[49m\u001b[38;5;28;43mself\u001b[39;49m\u001b[38;5;241;43m.\u001b[39;49m\u001b[43maxis\u001b[49m\u001b[43m)\u001b[49m\n\u001b[0;32m   1630\u001b[0m     \u001b[38;5;28;01mif\u001b[39;00m not_indexed_same \u001b[38;5;129;01mis\u001b[39;00m \u001b[38;5;28;01mNone\u001b[39;00m:\n\u001b[0;32m   1631\u001b[0m         not_indexed_same \u001b[38;5;241m=\u001b[39m mutated \u001b[38;5;129;01mor\u001b[39;00m \u001b[38;5;28mself\u001b[39m\u001b[38;5;241m.\u001b[39mmutated\n",
      "File \u001b[1;32m~\\AppData\\Roaming\\Python\\Python311\\site-packages\\pandas\\core\\groupby\\ops.py:842\u001b[0m, in \u001b[0;36mBaseGrouper.apply\u001b[1;34m(self, f, data, axis)\u001b[0m\n\u001b[0;32m    840\u001b[0m     \u001b[38;5;28;01mif\u001b[39;00m \u001b[38;5;129;01mnot\u001b[39;00m mutated \u001b[38;5;129;01mand\u001b[39;00m \u001b[38;5;129;01mnot\u001b[39;00m _is_indexed_like(res, group_axes, axis):\n\u001b[0;32m    841\u001b[0m         mutated \u001b[38;5;241m=\u001b[39m \u001b[38;5;28;01mTrue\u001b[39;00m\n\u001b[1;32m--> 842\u001b[0m     result_values\u001b[38;5;241m.\u001b[39mappend(res)\n\u001b[0;32m    843\u001b[0m \u001b[38;5;66;03m# getattr pattern for __name__ is needed for functools.partial objects\u001b[39;00m\n\u001b[0;32m    844\u001b[0m \u001b[38;5;28;01mif\u001b[39;00m \u001b[38;5;28mlen\u001b[39m(group_keys) \u001b[38;5;241m==\u001b[39m \u001b[38;5;241m0\u001b[39m \u001b[38;5;129;01mand\u001b[39;00m \u001b[38;5;28mgetattr\u001b[39m(f, \u001b[38;5;124m\"\u001b[39m\u001b[38;5;124m__name__\u001b[39m\u001b[38;5;124m\"\u001b[39m, \u001b[38;5;28;01mNone\u001b[39;00m) \u001b[38;5;129;01min\u001b[39;00m [\n\u001b[0;32m    845\u001b[0m     \u001b[38;5;124m\"\u001b[39m\u001b[38;5;124mmad\u001b[39m\u001b[38;5;124m\"\u001b[39m,\n\u001b[0;32m    846\u001b[0m     \u001b[38;5;124m\"\u001b[39m\u001b[38;5;124mskew\u001b[39m\u001b[38;5;124m\"\u001b[39m,\n\u001b[1;32m   (...)\u001b[0m\n\u001b[0;32m    851\u001b[0m     \u001b[38;5;66;03m#  so we will not have raised even if this is an invalid dtype.\u001b[39;00m\n\u001b[0;32m    852\u001b[0m     \u001b[38;5;66;03m#  So do one dummy call here to raise appropriate TypeError.\u001b[39;00m\n",
      "\u001b[1;31mMemoryError\u001b[0m: "
     ]
    }
   ],
   "source": [
    "#df['base_event_dt_lag'] = df.sort_values(by=['id','base_event_date']).groupby('id')['base_event_date'].shift(periods=1)\n",
    "# Convert the base_event_date to a proper datetime format\n",
    "df['base_event_date'] = pd.to_datetime(df['base_event_date'], format='%d%b%Y', errors='coerce')\n",
    "\n",
    "df['base_event_dt_lag'] = df.sort_values(by=['id', 'base_event_date']).groupby('id').apply(lambda x: x['base_event_date'].shift(1))\n"
   ]
  },
  {
   "cell_type": "code",
   "execution_count": 31,
   "id": "a81bad57-1e66-4141-8358-a6613a71de8f",
   "metadata": {},
   "outputs": [
    {
     "data": {
      "text/html": [
       "<div>\n",
       "<style scoped>\n",
       "    .dataframe tbody tr th:only-of-type {\n",
       "        vertical-align: middle;\n",
       "    }\n",
       "\n",
       "    .dataframe tbody tr th {\n",
       "        vertical-align: top;\n",
       "    }\n",
       "\n",
       "    .dataframe thead th {\n",
       "        text-align: right;\n",
       "    }\n",
       "</style>\n",
       "<table border=\"1\" class=\"dataframe\">\n",
       "  <thead>\n",
       "    <tr style=\"text-align: right;\">\n",
       "      <th></th>\n",
       "      <th>measurement_year</th>\n",
       "      <th>measure_name</th>\n",
       "      <th>measure_desc</th>\n",
       "      <th>measure_type</th>\n",
       "      <th>base_event_date</th>\n",
       "      <th>compliant_cnt</th>\n",
       "      <th>eligible_cnt</th>\n",
       "      <th>id</th>\n",
       "      <th>base_event_dt_lag</th>\n",
       "      <th>lag_diff_days</th>\n",
       "    </tr>\n",
       "  </thead>\n",
       "  <tbody>\n",
       "    <tr>\n",
       "      <th>31216437</th>\n",
       "      <td>2020</td>\n",
       "      <td>TEX</td>\n",
       "      <td>Dr Talks Exercise</td>\n",
       "      <td>Patient Experience</td>\n",
       "      <td>2020-01-28</td>\n",
       "      <td>0.0</td>\n",
       "      <td>1</td>\n",
       "      <td>40240</td>\n",
       "      <td>2020-01-28</td>\n",
       "      <td>0.0</td>\n",
       "    </tr>\n",
       "    <tr>\n",
       "      <th>31216438</th>\n",
       "      <td>2021</td>\n",
       "      <td>TEX</td>\n",
       "      <td>Dr Talks Exercise</td>\n",
       "      <td>Patient Experience</td>\n",
       "      <td>2021-04-13</td>\n",
       "      <td>1.0</td>\n",
       "      <td>1</td>\n",
       "      <td>40240</td>\n",
       "      <td>2021-04-13</td>\n",
       "      <td>0.0</td>\n",
       "    </tr>\n",
       "    <tr>\n",
       "      <th>31216439</th>\n",
       "      <td>2021</td>\n",
       "      <td>TEX</td>\n",
       "      <td>Dr Talks Exercise</td>\n",
       "      <td>Patient Experience</td>\n",
       "      <td>2021-09-16</td>\n",
       "      <td>1.0</td>\n",
       "      <td>1</td>\n",
       "      <td>40240</td>\n",
       "      <td>2021-09-16</td>\n",
       "      <td>0.0</td>\n",
       "    </tr>\n",
       "    <tr>\n",
       "      <th>31216440</th>\n",
       "      <td>2022</td>\n",
       "      <td>TEX</td>\n",
       "      <td>Dr Talks Exercise</td>\n",
       "      <td>Patient Experience</td>\n",
       "      <td>2022-03-17</td>\n",
       "      <td>1.0</td>\n",
       "      <td>1</td>\n",
       "      <td>40240</td>\n",
       "      <td>2022-03-17</td>\n",
       "      <td>0.0</td>\n",
       "    </tr>\n",
       "  </tbody>\n",
       "</table>\n",
       "</div>"
      ],
      "text/plain": [
       "          measurement_year measure_name       measure_desc  \\\n",
       "31216437              2020          TEX  Dr Talks Exercise   \n",
       "31216438              2021          TEX  Dr Talks Exercise   \n",
       "31216439              2021          TEX  Dr Talks Exercise   \n",
       "31216440              2022          TEX  Dr Talks Exercise   \n",
       "\n",
       "                measure_type base_event_date  compliant_cnt  eligible_cnt  \\\n",
       "31216437  Patient Experience      2020-01-28            0.0             1   \n",
       "31216438  Patient Experience      2021-04-13            1.0             1   \n",
       "31216439  Patient Experience      2021-09-16            1.0             1   \n",
       "31216440  Patient Experience      2022-03-17            1.0             1   \n",
       "\n",
       "             id base_event_dt_lag  lag_diff_days  \n",
       "31216437  40240        2020-01-28            0.0  \n",
       "31216438  40240        2021-04-13            0.0  \n",
       "31216439  40240        2021-09-16            0.0  \n",
       "31216440  40240        2022-03-17            0.0  "
      ]
     },
     "execution_count": 31,
     "metadata": {},
     "output_type": "execute_result"
    }
   ],
   "source": [
    "df[(df['id']==40240) & (df['measure_name']=='TEX')].sort_values(by='measurement_year')#['measure_name'].value_counts()"
   ]
  },
  {
   "cell_type": "markdown",
   "id": "a99d8d1b-6d59-4d50-bf97-cd9df121b0b6",
   "metadata": {},
   "source": [
    "## Member conditions"
   ]
  },
  {
   "cell_type": "code",
   "execution_count": 2,
   "id": "d5baf712-4e12-4ba2-9935-c3a05c68caae",
   "metadata": {},
   "outputs": [],
   "source": [
    "mc=pd.read_csv('humana_mays_target_member_conditions.csv', low_memory = False)"
   ]
  },
  {
   "cell_type": "code",
   "execution_count": 3,
   "id": "111fbb11-46ed-46f6-a523-54d22b9ffcf3",
   "metadata": {},
   "outputs": [],
   "source": [
    "mc['condition']=mc.apply(lambda x: x['cond_desc'].split(',', 1)[0].replace(' ','_'), axis=1)"
   ]
  },
  {
   "cell_type": "code",
   "execution_count": 8,
   "id": "7a941bbe-7cee-4aef-8c5e-160cdb4404ab",
   "metadata": {},
   "outputs": [
    {
     "data": {
      "text/html": [
       "<div>\n",
       "<style scoped>\n",
       "    .dataframe tbody tr th:only-of-type {\n",
       "        vertical-align: middle;\n",
       "    }\n",
       "\n",
       "    .dataframe tbody tr th {\n",
       "        vertical-align: top;\n",
       "    }\n",
       "\n",
       "    .dataframe thead th {\n",
       "        text-align: right;\n",
       "    }\n",
       "</style>\n",
       "<table border=\"1\" class=\"dataframe\">\n",
       "  <thead>\n",
       "    <tr style=\"text-align: right;\">\n",
       "      <th></th>\n",
       "      <th>cond_key</th>\n",
       "      <th>cond_desc</th>\n",
       "    </tr>\n",
       "  </thead>\n",
       "  <tbody>\n",
       "    <tr>\n",
       "      <th>2</th>\n",
       "      <td>329</td>\n",
       "      <td>Chronic Kidney Disease, Moderate Stage 3, Exce...</td>\n",
       "    </tr>\n",
       "    <tr>\n",
       "      <th>17</th>\n",
       "      <td>328</td>\n",
       "      <td>Chronic Kidney Disease, Moderate Stage 3B</td>\n",
       "    </tr>\n",
       "    <tr>\n",
       "      <th>21</th>\n",
       "      <td>327</td>\n",
       "      <td>Chronic Kidney Disease, Severe Stage 4</td>\n",
       "    </tr>\n",
       "    <tr>\n",
       "      <th>114</th>\n",
       "      <td>326</td>\n",
       "      <td>Chronic Kidney Disease, Stage 5</td>\n",
       "    </tr>\n",
       "  </tbody>\n",
       "</table>\n",
       "</div>"
      ],
      "text/plain": [
       "     cond_key                                          cond_desc\n",
       "2         329  Chronic Kidney Disease, Moderate Stage 3, Exce...\n",
       "17        328          Chronic Kidney Disease, Moderate Stage 3B\n",
       "21        327             Chronic Kidney Disease, Severe Stage 4\n",
       "114       326                    Chronic Kidney Disease, Stage 5"
      ]
     },
     "execution_count": 8,
     "metadata": {},
     "output_type": "execute_result"
    }
   ],
   "source": [
    "mc[mc['cond_key'].between(326,329)][['cond_key','cond_desc']].drop_duplicates()"
   ]
  },
  {
   "cell_type": "code",
   "execution_count": 9,
   "id": "d5567786-0ed1-443a-9046-79a4ca08ec2b",
   "metadata": {},
   "outputs": [
    {
     "data": {
      "text/html": [
       "<div>\n",
       "<style scoped>\n",
       "    .dataframe tbody tr th:only-of-type {\n",
       "        vertical-align: middle;\n",
       "    }\n",
       "\n",
       "    .dataframe tbody tr th {\n",
       "        vertical-align: top;\n",
       "    }\n",
       "\n",
       "    .dataframe thead th {\n",
       "        text-align: right;\n",
       "    }\n",
       "</style>\n",
       "<table border=\"1\" class=\"dataframe\">\n",
       "  <thead>\n",
       "    <tr style=\"text-align: right;\">\n",
       "      <th></th>\n",
       "      <th>cond_key</th>\n",
       "      <th>cond_desc</th>\n",
       "    </tr>\n",
       "  </thead>\n",
       "  <tbody>\n",
       "    <tr>\n",
       "      <th>29</th>\n",
       "      <td>136</td>\n",
       "      <td>Chronic Kidney Disease, Stage 5</td>\n",
       "    </tr>\n",
       "    <tr>\n",
       "      <th>185</th>\n",
       "      <td>137</td>\n",
       "      <td>Drug Use Disorder, Moderate/Severe, or Drug Us...</td>\n",
       "    </tr>\n",
       "    <tr>\n",
       "      <th>232</th>\n",
       "      <td>137</td>\n",
       "      <td>Chronic Kidney Disease, Severe Stage 4</td>\n",
       "    </tr>\n",
       "    <tr>\n",
       "      <th>378</th>\n",
       "      <td>138</td>\n",
       "      <td>Chronic Kidney Disease, Moderate Stage 3</td>\n",
       "    </tr>\n",
       "    <tr>\n",
       "      <th>778</th>\n",
       "      <td>138</td>\n",
       "      <td>Drug Use Disorder, Mild, Uncomplicated, Except...</td>\n",
       "    </tr>\n",
       "  </tbody>\n",
       "</table>\n",
       "</div>"
      ],
      "text/plain": [
       "     cond_key                                          cond_desc\n",
       "29        136                    Chronic Kidney Disease, Stage 5\n",
       "185       137  Drug Use Disorder, Moderate/Severe, or Drug Us...\n",
       "232       137             Chronic Kidney Disease, Severe Stage 4\n",
       "378       138           Chronic Kidney Disease, Moderate Stage 3\n",
       "778       138  Drug Use Disorder, Mild, Uncomplicated, Except..."
      ]
     },
     "execution_count": 9,
     "metadata": {},
     "output_type": "execute_result"
    }
   ],
   "source": [
    "mc[mc['cond_key'].between(136,138)][['cond_key','cond_desc']].drop_duplicates()"
   ]
  },
  {
   "cell_type": "code",
   "execution_count": 4,
   "id": "7174f4ae-33cc-493d-bf50-e24acba73642",
   "metadata": {},
   "outputs": [
    {
     "data": {
      "text/html": [
       "<div>\n",
       "<style scoped>\n",
       "    .dataframe tbody tr th:only-of-type {\n",
       "        vertical-align: middle;\n",
       "    }\n",
       "\n",
       "    .dataframe tbody tr th {\n",
       "        vertical-align: top;\n",
       "    }\n",
       "\n",
       "    .dataframe thead th {\n",
       "        text-align: right;\n",
       "    }\n",
       "</style>\n",
       "<table border=\"1\" class=\"dataframe\">\n",
       "  <thead>\n",
       "    <tr style=\"text-align: right;\">\n",
       "      <th></th>\n",
       "      <th>cond_key</th>\n",
       "      <th>chronicity</th>\n",
       "      <th>cond_desc</th>\n",
       "      <th>hcc_model_type</th>\n",
       "      <th>cms_model_vers_cd</th>\n",
       "      <th>membership_year</th>\n",
       "      <th>id</th>\n",
       "      <th>condition</th>\n",
       "    </tr>\n",
       "  </thead>\n",
       "  <tbody>\n",
       "    <tr>\n",
       "      <th>2</th>\n",
       "      <td>329</td>\n",
       "      <td>Chronic</td>\n",
       "      <td>Chronic Kidney Disease, Moderate Stage 3, Exce...</td>\n",
       "      <td>MEDICAL</td>\n",
       "      <td>V28</td>\n",
       "      <td>2023</td>\n",
       "      <td>993642</td>\n",
       "      <td>Chronic_Kidney_Disease</td>\n",
       "    </tr>\n",
       "    <tr>\n",
       "      <th>15</th>\n",
       "      <td>329</td>\n",
       "      <td>Chronic</td>\n",
       "      <td>Chronic Kidney Disease, Moderate Stage 3, Exce...</td>\n",
       "      <td>MEDICAL</td>\n",
       "      <td>V28</td>\n",
       "      <td>2023</td>\n",
       "      <td>1898678</td>\n",
       "      <td>Chronic_Kidney_Disease</td>\n",
       "    </tr>\n",
       "    <tr>\n",
       "      <th>17</th>\n",
       "      <td>328</td>\n",
       "      <td>Chronic</td>\n",
       "      <td>Chronic Kidney Disease, Moderate Stage 3B</td>\n",
       "      <td>MEDICAL</td>\n",
       "      <td>V28</td>\n",
       "      <td>2023</td>\n",
       "      <td>1898678</td>\n",
       "      <td>Chronic_Kidney_Disease</td>\n",
       "    </tr>\n",
       "    <tr>\n",
       "      <th>21</th>\n",
       "      <td>327</td>\n",
       "      <td>Chronic</td>\n",
       "      <td>Chronic Kidney Disease, Severe Stage 4</td>\n",
       "      <td>MEDICAL</td>\n",
       "      <td>V28</td>\n",
       "      <td>2023</td>\n",
       "      <td>1898678</td>\n",
       "      <td>Chronic_Kidney_Disease</td>\n",
       "    </tr>\n",
       "    <tr>\n",
       "      <th>23</th>\n",
       "      <td>329</td>\n",
       "      <td>Chronic</td>\n",
       "      <td>Chronic Kidney Disease, Moderate Stage 3, Exce...</td>\n",
       "      <td>MEDICAL</td>\n",
       "      <td>V28</td>\n",
       "      <td>2023</td>\n",
       "      <td>1752583</td>\n",
       "      <td>Chronic_Kidney_Disease</td>\n",
       "    </tr>\n",
       "    <tr>\n",
       "      <th>...</th>\n",
       "      <td>...</td>\n",
       "      <td>...</td>\n",
       "      <td>...</td>\n",
       "      <td>...</td>\n",
       "      <td>...</td>\n",
       "      <td>...</td>\n",
       "      <td>...</td>\n",
       "      <td>...</td>\n",
       "    </tr>\n",
       "    <tr>\n",
       "      <th>4009276</th>\n",
       "      <td>329</td>\n",
       "      <td>Chronic</td>\n",
       "      <td>Chronic Kidney Disease, Moderate Stage 3, Exce...</td>\n",
       "      <td>MEDICAL</td>\n",
       "      <td>V28</td>\n",
       "      <td>2023</td>\n",
       "      <td>883811</td>\n",
       "      <td>Chronic_Kidney_Disease</td>\n",
       "    </tr>\n",
       "    <tr>\n",
       "      <th>4009287</th>\n",
       "      <td>328</td>\n",
       "      <td>Chronic</td>\n",
       "      <td>Chronic Kidney Disease, Moderate Stage 3B</td>\n",
       "      <td>MEDICAL</td>\n",
       "      <td>V28</td>\n",
       "      <td>2023</td>\n",
       "      <td>587490</td>\n",
       "      <td>Chronic_Kidney_Disease</td>\n",
       "    </tr>\n",
       "    <tr>\n",
       "      <th>4009307</th>\n",
       "      <td>329</td>\n",
       "      <td>Chronic</td>\n",
       "      <td>Chronic Kidney Disease, Moderate Stage 3, Exce...</td>\n",
       "      <td>MEDICAL</td>\n",
       "      <td>V28</td>\n",
       "      <td>2023</td>\n",
       "      <td>1817131</td>\n",
       "      <td>Chronic_Kidney_Disease</td>\n",
       "    </tr>\n",
       "    <tr>\n",
       "      <th>4009329</th>\n",
       "      <td>328</td>\n",
       "      <td>Chronic</td>\n",
       "      <td>Chronic Kidney Disease, Moderate Stage 3B</td>\n",
       "      <td>MEDICAL</td>\n",
       "      <td>V28</td>\n",
       "      <td>2023</td>\n",
       "      <td>654526</td>\n",
       "      <td>Chronic_Kidney_Disease</td>\n",
       "    </tr>\n",
       "    <tr>\n",
       "      <th>4009339</th>\n",
       "      <td>329</td>\n",
       "      <td>Chronic</td>\n",
       "      <td>Chronic Kidney Disease, Moderate Stage 3, Exce...</td>\n",
       "      <td>MEDICAL</td>\n",
       "      <td>V28</td>\n",
       "      <td>2023</td>\n",
       "      <td>654526</td>\n",
       "      <td>Chronic_Kidney_Disease</td>\n",
       "    </tr>\n",
       "  </tbody>\n",
       "</table>\n",
       "<p>312872 rows × 8 columns</p>\n",
       "</div>"
      ],
      "text/plain": [
       "         cond_key chronicity  \\\n",
       "2             329    Chronic   \n",
       "15            329    Chronic   \n",
       "17            328    Chronic   \n",
       "21            327    Chronic   \n",
       "23            329    Chronic   \n",
       "...           ...        ...   \n",
       "4009276       329    Chronic   \n",
       "4009287       328    Chronic   \n",
       "4009307       329    Chronic   \n",
       "4009329       328    Chronic   \n",
       "4009339       329    Chronic   \n",
       "\n",
       "                                                 cond_desc hcc_model_type  \\\n",
       "2        Chronic Kidney Disease, Moderate Stage 3, Exce...        MEDICAL   \n",
       "15       Chronic Kidney Disease, Moderate Stage 3, Exce...        MEDICAL   \n",
       "17               Chronic Kidney Disease, Moderate Stage 3B        MEDICAL   \n",
       "21                  Chronic Kidney Disease, Severe Stage 4        MEDICAL   \n",
       "23       Chronic Kidney Disease, Moderate Stage 3, Exce...        MEDICAL   \n",
       "...                                                    ...            ...   \n",
       "4009276  Chronic Kidney Disease, Moderate Stage 3, Exce...        MEDICAL   \n",
       "4009287          Chronic Kidney Disease, Moderate Stage 3B        MEDICAL   \n",
       "4009307  Chronic Kidney Disease, Moderate Stage 3, Exce...        MEDICAL   \n",
       "4009329          Chronic Kidney Disease, Moderate Stage 3B        MEDICAL   \n",
       "4009339  Chronic Kidney Disease, Moderate Stage 3, Exce...        MEDICAL   \n",
       "\n",
       "        cms_model_vers_cd  membership_year       id               condition  \n",
       "2                     V28             2023   993642  Chronic_Kidney_Disease  \n",
       "15                    V28             2023  1898678  Chronic_Kidney_Disease  \n",
       "17                    V28             2023  1898678  Chronic_Kidney_Disease  \n",
       "21                    V28             2023  1898678  Chronic_Kidney_Disease  \n",
       "23                    V28             2023  1752583  Chronic_Kidney_Disease  \n",
       "...                   ...              ...      ...                     ...  \n",
       "4009276               V28             2023   883811  Chronic_Kidney_Disease  \n",
       "4009287               V28             2023   587490  Chronic_Kidney_Disease  \n",
       "4009307               V28             2023  1817131  Chronic_Kidney_Disease  \n",
       "4009329               V28             2023   654526  Chronic_Kidney_Disease  \n",
       "4009339               V28             2023   654526  Chronic_Kidney_Disease  \n",
       "\n",
       "[312872 rows x 8 columns]"
      ]
     },
     "execution_count": 4,
     "metadata": {},
     "output_type": "execute_result"
    }
   ],
   "source": [
    "mc[mc['cond_desc'].str.contains('Kidney')]"
   ]
  },
  {
   "cell_type": "code",
   "execution_count": 25,
   "id": "59d4eaa8-289b-46f7-9db6-ddbe4fc0cfdb",
   "metadata": {},
   "outputs": [],
   "source": [
    "aggregated_categories = {\n",
    "    \"Cardiovascular_Diseases\": ['Heart_Failure', 'Acute_on_Chronic_Heart_Failure', 'Congestive_Heart_Failure', \n",
    "                                'Specified_Heart_Arrhythmias', 'Angina_Pectoris', 'Cardiomyopathy/Myocarditis', \n",
    "                                'End-Stage_Heart_Failure'],\n",
    "    \n",
    "    \"Diabetes_Related\": ['Diabetes_with_Chronic_Complications', 'Diabetes_without_Complication', \n",
    "                         'Diabetes_with_Glycemic', 'Proliferative_Diabetic_Retinopathy_and_Vitreous_Hemorrhage', \n",
    "                         'Diabetes_with_Severe_Acute_Complications', 'Severe_Diabetic_Eye_Disease'],\n",
    "    \n",
    "    \"Kidney_and_Liver_Diseases\": ['Chronic_Kidney_Disease', 'Dialysis_Status', 'Chronic_Liver_Failure/End-Stage_Liver_Disorders', \n",
    "                                  'Cirrhosis_of_Liver', 'Chronic_Hepatitis'],\n",
    "    \n",
    "    \"Respiratory_Diseases\": ['Chronic_Obstructive_Pulmonary_Disease', 'Severe_Persistent_Asthma', \n",
    "                              'Fibrosis_of_Lung_and_Other_Chronic_Lung_Disorders', 'Idiopathic_Pulmonary_Fibrosis_and_Lung_Involvement_in_Systemic_Sclerosis'],\n",
    "    \n",
    "    \"Cancers\": ['Lung_and_Other_Severe_Cancers', 'Lymphoma_and_Other_Cancers', 'Breast', 'Prostate', \n",
    "                'Colorectal', 'Cancer_Metastatic_to_Bone', 'Cancer_Metastatic_to_Lung', 'Metastatic_Cancer_and_Acute_Leukemia'],\n",
    "    \n",
    "    \"Mental_Health_Disorders\": ['Major_Depressive', 'Bipolar_Disorders_without_Psychosis', 'Schizophrenia', \n",
    "                                'Reactive_and_Unspecified_Psychosis', 'Personality_Disorders', \n",
    "                                'Substance_Use_Disorder', 'Drug_Use_Disorder', 'Alcohol_Use_Disorder'],\n",
    "    \n",
    "    \"Neurological_Disorders\": ['Parkinson_and_Other_Degenerative_Disease_of_Basal_Ganglia', 'Seizure_Disorders_and_Convulsions', \n",
    "                               'Multiple_Sclerosis', 'Cerebral_Palsy', 'Quadriplegic_Cerebral_Palsy'],\n",
    "    \n",
    "    \"Immunological_Disorders\": ['Disorders_of_Immunity', 'Systemic_Lupus_Erythematosus_and_Other_Specified_Systemic_Connective_Tissue_Disorders', \n",
    "                                'Chronic_Inflammatory_Demyelinating_Polyneuritis_and_Multifocal_Motor_Neuropathy', \n",
    "                                'Rheumatoid_Arthritis_and_Other_Specified_Inflammatory_Rheumatic_Disorders', \n",
    "                                'Rheumatoid_Arthritis_and_Inflammatory_Connective_Tissue_Disease', 'Specified_Immunodeficiencies_and_White_Blood_Cell_Disorders'],\n",
    "    \n",
    "    \"Miscellaneous\": ['Morbid_Obesity', 'Amputation_Status', 'Chronic_Ulcer_of_Skin', 'Artificial_Openings_for_Feeding_or_Elimination', \n",
    "                      'Pressure_Ulcer_of_Skin_with_Partial_Thickness_Skin_Loss']\n",
    "}\n"
   ]
  },
  {
   "cell_type": "code",
   "execution_count": 61,
   "id": "1527a54c-0051-4f2a-a3c7-4af7cbb13a2a",
   "metadata": {},
   "outputs": [],
   "source": [
    "def agg_condition(x,aggregated_categories=aggregated_categories):\n",
    "    for k , v in aggregated_categories.items():\n",
    "        if x in v:\n",
    "            return k\n",
    "    return 'other'\n",
    "    "
   ]
  },
  {
   "cell_type": "code",
   "execution_count": 67,
   "id": "4b5fed0e-d491-4fa2-8769-32fbfb421ae3",
   "metadata": {},
   "outputs": [],
   "source": [
    "mc['condition_agg']=mc['condition'].apply(agg_condition)"
   ]
  },
  {
   "cell_type": "code",
   "execution_count": 79,
   "id": "58ed3dc8-8e21-4e1a-8521-e56077e4135e",
   "metadata": {},
   "outputs": [
    {
     "data": {
      "text/html": [
       "<div>\n",
       "<style scoped>\n",
       "    .dataframe tbody tr th:only-of-type {\n",
       "        vertical-align: middle;\n",
       "    }\n",
       "\n",
       "    .dataframe tbody tr th {\n",
       "        vertical-align: top;\n",
       "    }\n",
       "\n",
       "    .dataframe thead th {\n",
       "        text-align: right;\n",
       "    }\n",
       "</style>\n",
       "<table border=\"1\" class=\"dataframe\">\n",
       "  <thead>\n",
       "    <tr style=\"text-align: right;\">\n",
       "      <th>condition_agg</th>\n",
       "      <th>Cancers</th>\n",
       "      <th>Cardiovascular_Diseases</th>\n",
       "      <th>Diabetes_Related</th>\n",
       "      <th>Immunological_Disorders</th>\n",
       "      <th>Kidney_and_Liver_Diseases</th>\n",
       "      <th>Mental_Health_Disorders</th>\n",
       "      <th>Miscellaneous</th>\n",
       "      <th>Neurological_Disorders</th>\n",
       "      <th>Respiratory_Diseases</th>\n",
       "      <th>other</th>\n",
       "    </tr>\n",
       "    <tr>\n",
       "      <th>id</th>\n",
       "      <th></th>\n",
       "      <th></th>\n",
       "      <th></th>\n",
       "      <th></th>\n",
       "      <th></th>\n",
       "      <th></th>\n",
       "      <th></th>\n",
       "      <th></th>\n",
       "      <th></th>\n",
       "      <th></th>\n",
       "    </tr>\n",
       "  </thead>\n",
       "  <tbody>\n",
       "    <tr>\n",
       "      <th>1</th>\n",
       "      <td>1.0</td>\n",
       "      <td>2.0</td>\n",
       "      <td>0.0</td>\n",
       "      <td>0.0</td>\n",
       "      <td>0.0</td>\n",
       "      <td>0.0</td>\n",
       "      <td>0.0</td>\n",
       "      <td>0.0</td>\n",
       "      <td>1.0</td>\n",
       "      <td>3.0</td>\n",
       "    </tr>\n",
       "    <tr>\n",
       "      <th>2</th>\n",
       "      <td>0.0</td>\n",
       "      <td>1.0</td>\n",
       "      <td>2.0</td>\n",
       "      <td>0.0</td>\n",
       "      <td>0.0</td>\n",
       "      <td>0.0</td>\n",
       "      <td>0.0</td>\n",
       "      <td>0.0</td>\n",
       "      <td>0.0</td>\n",
       "      <td>2.0</td>\n",
       "    </tr>\n",
       "    <tr>\n",
       "      <th>3</th>\n",
       "      <td>0.0</td>\n",
       "      <td>0.0</td>\n",
       "      <td>0.0</td>\n",
       "      <td>0.0</td>\n",
       "      <td>1.0</td>\n",
       "      <td>0.0</td>\n",
       "      <td>0.0</td>\n",
       "      <td>0.0</td>\n",
       "      <td>0.0</td>\n",
       "      <td>1.0</td>\n",
       "    </tr>\n",
       "    <tr>\n",
       "      <th>4</th>\n",
       "      <td>0.0</td>\n",
       "      <td>0.0</td>\n",
       "      <td>1.0</td>\n",
       "      <td>0.0</td>\n",
       "      <td>0.0</td>\n",
       "      <td>0.0</td>\n",
       "      <td>0.0</td>\n",
       "      <td>0.0</td>\n",
       "      <td>0.0</td>\n",
       "      <td>0.0</td>\n",
       "    </tr>\n",
       "    <tr>\n",
       "      <th>7</th>\n",
       "      <td>0.0</td>\n",
       "      <td>0.0</td>\n",
       "      <td>1.0</td>\n",
       "      <td>0.0</td>\n",
       "      <td>4.0</td>\n",
       "      <td>0.0</td>\n",
       "      <td>0.0</td>\n",
       "      <td>0.0</td>\n",
       "      <td>0.0</td>\n",
       "      <td>2.0</td>\n",
       "    </tr>\n",
       "    <tr>\n",
       "      <th>...</th>\n",
       "      <td>...</td>\n",
       "      <td>...</td>\n",
       "      <td>...</td>\n",
       "      <td>...</td>\n",
       "      <td>...</td>\n",
       "      <td>...</td>\n",
       "      <td>...</td>\n",
       "      <td>...</td>\n",
       "      <td>...</td>\n",
       "      <td>...</td>\n",
       "    </tr>\n",
       "    <tr>\n",
       "      <th>1999992</th>\n",
       "      <td>0.0</td>\n",
       "      <td>0.0</td>\n",
       "      <td>1.0</td>\n",
       "      <td>0.0</td>\n",
       "      <td>0.0</td>\n",
       "      <td>3.0</td>\n",
       "      <td>0.0</td>\n",
       "      <td>0.0</td>\n",
       "      <td>0.0</td>\n",
       "      <td>0.0</td>\n",
       "    </tr>\n",
       "    <tr>\n",
       "      <th>1999994</th>\n",
       "      <td>0.0</td>\n",
       "      <td>0.0</td>\n",
       "      <td>0.0</td>\n",
       "      <td>0.0</td>\n",
       "      <td>0.0</td>\n",
       "      <td>0.0</td>\n",
       "      <td>0.0</td>\n",
       "      <td>0.0</td>\n",
       "      <td>1.0</td>\n",
       "      <td>1.0</td>\n",
       "    </tr>\n",
       "    <tr>\n",
       "      <th>1999995</th>\n",
       "      <td>0.0</td>\n",
       "      <td>0.0</td>\n",
       "      <td>0.0</td>\n",
       "      <td>0.0</td>\n",
       "      <td>0.0</td>\n",
       "      <td>0.0</td>\n",
       "      <td>0.0</td>\n",
       "      <td>1.0</td>\n",
       "      <td>0.0</td>\n",
       "      <td>1.0</td>\n",
       "    </tr>\n",
       "    <tr>\n",
       "      <th>1999997</th>\n",
       "      <td>1.0</td>\n",
       "      <td>1.0</td>\n",
       "      <td>0.0</td>\n",
       "      <td>2.0</td>\n",
       "      <td>1.0</td>\n",
       "      <td>0.0</td>\n",
       "      <td>0.0</td>\n",
       "      <td>0.0</td>\n",
       "      <td>0.0</td>\n",
       "      <td>0.0</td>\n",
       "    </tr>\n",
       "    <tr>\n",
       "      <th>1999998</th>\n",
       "      <td>0.0</td>\n",
       "      <td>3.0</td>\n",
       "      <td>0.0</td>\n",
       "      <td>0.0</td>\n",
       "      <td>0.0</td>\n",
       "      <td>0.0</td>\n",
       "      <td>0.0</td>\n",
       "      <td>0.0</td>\n",
       "      <td>2.0</td>\n",
       "      <td>0.0</td>\n",
       "    </tr>\n",
       "  </tbody>\n",
       "</table>\n",
       "<p>1152178 rows × 10 columns</p>\n",
       "</div>"
      ],
      "text/plain": [
       "condition_agg  Cancers  Cardiovascular_Diseases  Diabetes_Related  \\\n",
       "id                                                                  \n",
       "1                  1.0                      2.0               0.0   \n",
       "2                  0.0                      1.0               2.0   \n",
       "3                  0.0                      0.0               0.0   \n",
       "4                  0.0                      0.0               1.0   \n",
       "7                  0.0                      0.0               1.0   \n",
       "...                ...                      ...               ...   \n",
       "1999992            0.0                      0.0               1.0   \n",
       "1999994            0.0                      0.0               0.0   \n",
       "1999995            0.0                      0.0               0.0   \n",
       "1999997            1.0                      1.0               0.0   \n",
       "1999998            0.0                      3.0               0.0   \n",
       "\n",
       "condition_agg  Immunological_Disorders  Kidney_and_Liver_Diseases  \\\n",
       "id                                                                  \n",
       "1                                  0.0                        0.0   \n",
       "2                                  0.0                        0.0   \n",
       "3                                  0.0                        1.0   \n",
       "4                                  0.0                        0.0   \n",
       "7                                  0.0                        4.0   \n",
       "...                                ...                        ...   \n",
       "1999992                            0.0                        0.0   \n",
       "1999994                            0.0                        0.0   \n",
       "1999995                            0.0                        0.0   \n",
       "1999997                            2.0                        1.0   \n",
       "1999998                            0.0                        0.0   \n",
       "\n",
       "condition_agg  Mental_Health_Disorders  Miscellaneous  Neurological_Disorders  \\\n",
       "id                                                                              \n",
       "1                                  0.0            0.0                     0.0   \n",
       "2                                  0.0            0.0                     0.0   \n",
       "3                                  0.0            0.0                     0.0   \n",
       "4                                  0.0            0.0                     0.0   \n",
       "7                                  0.0            0.0                     0.0   \n",
       "...                                ...            ...                     ...   \n",
       "1999992                            3.0            0.0                     0.0   \n",
       "1999994                            0.0            0.0                     0.0   \n",
       "1999995                            0.0            0.0                     1.0   \n",
       "1999997                            0.0            0.0                     0.0   \n",
       "1999998                            0.0            0.0                     0.0   \n",
       "\n",
       "condition_agg  Respiratory_Diseases  other  \n",
       "id                                          \n",
       "1                               1.0    3.0  \n",
       "2                               0.0    2.0  \n",
       "3                               0.0    1.0  \n",
       "4                               0.0    0.0  \n",
       "7                               0.0    2.0  \n",
       "...                             ...    ...  \n",
       "1999992                         0.0    0.0  \n",
       "1999994                         1.0    1.0  \n",
       "1999995                         0.0    1.0  \n",
       "1999997                         0.0    0.0  \n",
       "1999998                         2.0    0.0  \n",
       "\n",
       "[1152178 rows x 10 columns]"
      ]
     },
     "execution_count": 79,
     "metadata": {},
     "output_type": "execute_result"
    }
   ],
   "source": [
    "mc.pivot_table(index='id',columns='condition_agg',  values='membership_year',aggfunc='count').fillna(0)"
   ]
  },
  {
   "cell_type": "code",
   "execution_count": 80,
   "id": "e5748cdd-a622-4d07-a190-555b3e9b4a12",
   "metadata": {},
   "outputs": [],
   "source": [
    "mc.pivot_table(index='id',columns='condition_agg',  values='membership_year',aggfunc='count').fillna(0).to_csv(r'C:\\Users\\shanm\\OneDrive\\Desktop\\Kavya\\Humana_Mays_24\\Data\\Training_final\\Training_final\\member_conditions_agg.csv')"
   ]
  }
 ],
 "metadata": {
  "kernelspec": {
   "display_name": "Python 3 (ipykernel)",
   "language": "python",
   "name": "python3"
  },
  "language_info": {
   "codemirror_mode": {
    "name": "ipython",
    "version": 3
   },
   "file_extension": ".py",
   "mimetype": "text/x-python",
   "name": "python",
   "nbconvert_exporter": "python",
   "pygments_lexer": "ipython3",
   "version": "3.11.1"
  }
 },
 "nbformat": 4,
 "nbformat_minor": 5
}

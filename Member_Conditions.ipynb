{
 "cells": [
  {
   "cell_type": "markdown",
   "metadata": {
    "editable": true
   },
   "source": [
    "# AWS Glue Studio Notebook\n",
    "##### You are now running a AWS Glue Studio notebook; To start using your notebook you need to start an AWS Glue Interactive Session.\n"
   ]
  },
  {
   "cell_type": "markdown",
   "metadata": {
    "editable": true
   },
   "source": [
    "#### Optional: Run this cell to see available notebook commands (\"magics\").\n"
   ]
  },
  {
   "cell_type": "code",
   "execution_count": null,
   "metadata": {
    "editable": true
   },
   "outputs": [],
   "source": [
    "%help"
   ]
  },
  {
   "cell_type": "markdown",
   "metadata": {
    "editable": true
   },
   "source": [
    "####  Run this cell to set up and start your interactive session.\n"
   ]
  },
  {
   "cell_type": "code",
   "execution_count": 1,
   "metadata": {
    "editable": true
   },
   "outputs": [
    {
     "name": "stdout",
     "output_type": "stream",
     "text": [
      "Welcome to the Glue Interactive Sessions Kernel\n",
      "For more information on available magic commands, please type %help in any new cell.\n",
      "\n",
      "Please view our Getting Started page to access the most up-to-date information on the Interactive Sessions kernel: https://docs.aws.amazon.com/glue/latest/dg/interactive-sessions.html\n",
      "Installed kernel version: 1.0.7 \n",
      "Current idle_timeout is None minutes.\n",
      "idle_timeout has been set to 2880 minutes.\n",
      "Setting Glue version to: 5.0\n",
      "Previous worker type: None\n",
      "Setting new worker type to: G.1X\n",
      "Previous number of workers: None\n",
      "Setting new number of workers to: 5\n",
      "Trying to create a Glue session for the kernel.\n",
      "Session Type: glueetl\n",
      "Worker Type: G.1X\n",
      "Number of Workers: 5\n",
      "Idle Timeout: 2880\n",
      "Session ID: 8a79ef5b-7979-46fd-a08a-04775f487086\n",
      "Applying the following default arguments:\n",
      "--glue_kernel_version 1.0.7\n",
      "--enable-glue-datacatalog true\n",
      "Waiting for session 8a79ef5b-7979-46fd-a08a-04775f487086 to get into ready status...\n",
      "Session 8a79ef5b-7979-46fd-a08a-04775f487086 has been created.\n",
      "\n"
     ]
    }
   ],
   "source": [
    "%idle_timeout 2880\n",
    "%glue_version 5.0\n",
    "%worker_type G.1X\n",
    "%number_of_workers 5\n",
    "\n",
    "import sys\n",
    "from awsglue.transforms import *\n",
    "from awsglue.utils import getResolvedOptions\n",
    "from pyspark.context import SparkContext\n",
    "from awsglue.context import GlueContext\n",
    "from awsglue.job import Job\n",
    "  \n",
    "sc = SparkContext.getOrCreate()\n",
    "glueContext = GlueContext(sc)\n",
    "spark = glueContext.spark_session\n",
    "job = Job(glueContext)"
   ]
  },
  {
   "cell_type": "markdown",
   "metadata": {
    "editable": true
   },
   "source": [
    "#### Example: Create a DynamicFrame from a table in the AWS Glue Data Catalog and display its schema\n"
   ]
  },
  {
   "cell_type": "code",
   "execution_count": null,
   "metadata": {
    "editable": true
   },
   "outputs": [],
   "source": [
    "dyf = glueContext.create_dynamic_frame.from_catalog(database='database_name', table_name='table_name')\n",
    "dyf.printSchema()"
   ]
  },
  {
   "cell_type": "markdown",
   "metadata": {
    "editable": true
   },
   "source": [
    "#### Example: Convert the DynamicFrame to a Spark DataFrame and display a sample of the data\n"
   ]
  },
  {
   "cell_type": "code",
   "execution_count": null,
   "metadata": {
    "editable": true
   },
   "outputs": [],
   "source": [
    "df = dyf.toDF()\n",
    "df.show()"
   ]
  },
  {
   "cell_type": "markdown",
   "metadata": {
    "editable": true
   },
   "source": [
    "#### Example: Visualize data with matplotlib\n"
   ]
  },
  {
   "cell_type": "code",
   "execution_count": 2,
   "metadata": {
    "editable": true
   },
   "outputs": [
    {
     "data": {
      "image/png": "[encoded data removed]"
     },
     "metadata": {
      "image/png": {
       "height": 480,
       "width": 640
      }
     },
     "output_type": "display_data"
    }
   ],
   "source": [
    "import matplotlib.pyplot as plt\n",
    "\n",
    "# Set X-axis and Y-axis values\n",
    "x = [5, 2, 8, 4, 9]\n",
    "y = [10, 4, 8, 5, 2]\n",
    "  \n",
    "# Create a bar chart \n",
    "plt.bar(x, y)\n",
    "  \n",
    "# Show the plot\n",
    "%matplot plt"
   ]
  },
  {
   "cell_type": "markdown",
   "metadata": {
    "editable": true
   },
   "source": [
    "#### Example: Write the data in the DynamicFrame to a location in Amazon S3 and a table for it in the AWS Glue Data Catalog\n"
   ]
  },
  {
   "cell_type": "code",
   "execution_count": null,
   "metadata": {
    "editable": true
   },
   "outputs": [],
   "source": [
    "s3output = glueContext.getSink(\n",
    "  path=\"s3://bucket_name/folder_name\",\n",
    "  connection_type=\"s3\",\n",
    "  updateBehavior=\"UPDATE_IN_DATABASE\",\n",
    "  partitionKeys=[],\n",
    "  compression=\"snappy\",\n",
    "  enableUpdateCatalog=True,\n",
    "  transformation_ctx=\"s3output\",\n",
    ")\n",
    "s3output.setCatalogInfo(\n",
    "  catalogDatabase=\"demo\", catalogTableName=\"populations\"\n",
    ")\n",
    "s3output.setFormat(\"glueparquet\")\n",
    "s3output.writeFrame(DyF)"
   ]
  },
  {
   "cell_type": "code",
   "execution_count": 3,
   "metadata": {
    "tags": []
   },
   "outputs": [
    {
     "name": "stdout",
     "output_type": "stream",
     "text": [
      "\n"
     ]
    }
   ],
   "source": [
    "#importing necessary library\n",
    "import pandas as pd"
   ]
  },
  {
   "cell_type": "code",
   "execution_count": 4,
   "metadata": {
    "tags": []
   },
   "outputs": [
    {
     "name": "stdout",
     "output_type": "stream",
     "text": [
      "\n"
     ]
    }
   ],
   "source": [
    "mc=pd.read_csv('s3://humanaproject/humana_mays_target_member_conditions.csv')"
   ]
  },
  {
   "cell_type": "code",
   "execution_count": 5,
   "metadata": {
    "tags": []
   },
   "outputs": [
    {
     "name": "stdout",
     "output_type": "stream",
     "text": [
      "   cond_key chronicity  ... membership_year      id\n",
      "0       226    Chronic  ...            2023  993642\n",
      "1        94    Chronic  ...            2023  993642\n",
      "2       329    Chronic  ...            2023  993642\n",
      "3        81    Chronic  ...            2023  803124\n",
      "4        47    Chronic  ...            2023  803124\n",
      "\n",
      "[5 rows x 7 columns]\n"
     ]
    }
   ],
   "source": [
    "mc.head()"
   ]
  },
  {
   "cell_type": "code",
   "execution_count": 6,
   "metadata": {
    "tags": []
   },
   "outputs": [
    {
     "name": "stdout",
     "output_type": "stream",
     "text": [
      "\n"
     ]
    }
   ],
   "source": [
    "mc['condition']=mc.apply(lambda x: x['cond_desc'].split(',', 1)[0].replace(' ','_'), axis=1)"
   ]
  },
  {
   "cell_type": "code",
   "execution_count": 7,
   "metadata": {
    "tags": []
   },
   "outputs": [
    {
     "name": "stdout",
     "output_type": "stream",
     "text": [
      "\n"
     ]
    }
   ],
   "source": [
    "aggregated_categories = {\n",
    "    \"Cardiovascular_Diseases\": ['Heart_Failure', 'Acute_on_Chronic_Heart_Failure', 'Congestive_Heart_Failure',\n",
    "                                'Specified_Heart_Arrhythmias', 'Angina_Pectoris', 'Cardiomyopathy/Myocarditis',\n",
    "                                'End-Stage_Heart_Failure'],\n",
    "\n",
    "    \"Diabetes_Related\": ['Diabetes_with_Chronic_Complications', 'Diabetes_without_Complication',\n",
    "                         'Diabetes_with_Glycemic', 'Proliferative_Diabetic_Retinopathy_and_Vitreous_Hemorrhage',\n",
    "                         'Diabetes_with_Severe_Acute_Complications', 'Severe_Diabetic_Eye_Disease'],\n",
    "\n",
    "    \"Kidney_and_Liver_Diseases\": ['Chronic_Kidney_Disease', 'Dialysis_Status', 'Chronic_Liver_Failure/End-Stage_Liver_Disorders',\n",
    "                                  'Cirrhosis_of_Liver', 'Chronic_Hepatitis'],\n",
    "\n",
    "    \"Respiratory_Diseases\": ['Chronic_Obstructive_Pulmonary_Disease', 'Severe_Persistent_Asthma',\n",
    "                              'Fibrosis_of_Lung_and_Other_Chronic_Lung_Disorders', 'Idiopathic_Pulmonary_Fibrosis_and_Lung_Involvement_in_Systemic_Sclerosis'],\n",
    "\n",
    "    \"Cancers\": ['Lung_and_Other_Severe_Cancers', 'Lymphoma_and_Other_Cancers', 'Breast', 'Prostate',\n",
    "                'Colorectal', 'Cancer_Metastatic_to_Bone', 'Cancer_Metastatic_to_Lung', 'Metastatic_Cancer_and_Acute_Leukemia'],\n",
    "\n",
    "    \"Mental_Health_Disorders\": ['Major_Depressive', 'Bipolar_Disorders_without_Psychosis', 'Schizophrenia',\n",
    "                                'Reactive_and_Unspecified_Psychosis', 'Personality_Disorders',\n",
    "                                'Substance_Use_Disorder', 'Drug_Use_Disorder', 'Alcohol_Use_Disorder'],\n",
    "\n",
    "    \"Neurological_Disorders\": ['Parkinson_and_Other_Degenerative_Disease_of_Basal_Ganglia', 'Seizure_Disorders_and_Convulsions',\n",
    "                               'Multiple_Sclerosis', 'Cerebral_Palsy', 'Quadriplegic_Cerebral_Palsy'],\n",
    "\n",
    "    \"Immunological_Disorders\": ['Disorders_of_Immunity', 'Systemic_Lupus_Erythematosus_and_Other_Specified_Systemic_Connective_Tissue_Disorders',\n",
    "                                'Chronic_Inflammatory_Demyelinating_Polyneuritis_and_Multifocal_Motor_Neuropathy',\n",
    "                                'Rheumatoid_Arthritis_and_Other_Specified_Inflammatory_Rheumatic_Disorders',\n",
    "                                'Rheumatoid_Arthritis_and_Inflammatory_Connective_Tissue_Disease', 'Specified_Immunodeficiencies_and_White_Blood_Cell_Disorders'],\n",
    "\n",
    "    \"Miscellaneous\": ['Morbid_Obesity', 'Amputation_Status', 'Chronic_Ulcer_of_Skin', 'Artificial_Openings_for_Feeding_or_Elimination',\n",
    "                      'Pressure_Ulcer_of_Skin_with_Partial_Thickness_Skin_Loss']\n",
    "}"
   ]
  },
  {
   "cell_type": "code",
   "execution_count": 8,
   "metadata": {
    "tags": []
   },
   "outputs": [
    {
     "name": "stdout",
     "output_type": "stream",
     "text": [
      "\n"
     ]
    }
   ],
   "source": [
    "def agg_condition(x,aggregated_categories=aggregated_categories):\n",
    "    for k , v in aggregated_categories.items():\n",
    "        if x in v:\n",
    "            return k\n",
    "    return 'other'"
   ]
  },
  {
   "cell_type": "code",
   "execution_count": 9,
   "metadata": {
    "tags": []
   },
   "outputs": [
    {
     "name": "stdout",
     "output_type": "stream",
     "text": [
      "\n"
     ]
    }
   ],
   "source": [
    "mc['condition_agg']=mc['condition'].apply(agg_condition)"
   ]
  },
  {
   "cell_type": "code",
   "execution_count": 11,
   "metadata": {
    "tags": []
   },
   "outputs": [
    {
     "name": "stdout",
     "output_type": "stream",
     "text": [
      "\n"
     ]
    }
   ],
   "source": [
    "mc_agg = mc.pivot_table(index='id',columns='condition_agg',  values='membership_year',aggfunc='count').fillna(0)"
   ]
  },
  {
   "cell_type": "code",
   "execution_count": 12,
   "metadata": {
    "tags": []
   },
   "outputs": [
    {
     "name": "stdout",
     "output_type": "stream",
     "text": [
      "Data successfully written to s3://humanaproject/staging_temp/member_conditions/\n"
     ]
    }
   ],
   "source": [
    "import sys\n",
    "from awsglue.context import GlueContext\n",
    "from awsglue.transforms import *\n",
    "from awsglue.dynamicframe import DynamicFrame\n",
    "from pyspark.context import SparkContext\n",
    "\n",
    "# Initialize Spark and Glue Context\n",
    "sc = SparkContext.getOrCreate()\n",
    "glueContext = GlueContext(sc)\n",
    "\n",
    "\n",
    "# Convert Pandas DataFrame to Spark DataFrame\n",
    "spark_df = glueContext.spark_session.createDataFrame(mc_agg)\n",
    "\n",
    "# Convert Spark DataFrame to Glue DynamicFrame\n",
    "dynamic_df = DynamicFrame.fromDF(spark_df, glueContext, \"dynamic_df\")\n",
    "\n",
    "# Specify the S3 path where the file should be stored\n",
    "output_path = \"s3://humanaproject/staging_temp/member_conditions/\"\n",
    "\n",
    "# Write the DynamicFrame to S3 in CSV format\n",
    "glueContext.write_dynamic_frame.from_options(\n",
    "    frame=dynamic_df,\n",
    "    connection_type=\"s3\",\n",
    "    connection_options={\"path\": output_path},\n",
    "    format=\"csv\"\n",
    ")\n",
    "\n",
    "print(f\"Data successfully written to {output_path}\")\n"
   ]
  }
 ],
 "metadata": {
  "kernelspec": {
   "display_name": "Python 3 (ipykernel)",
   "language": "python",
   "name": "python3"
  },
  "language_info": {
   "codemirror_mode": {
    "name": "ipython",
    "version": 3
   },
   "file_extension": ".py",
   "mimetype": "text/x-python",
   "name": "python",
   "nbconvert_exporter": "python",
   "pygments_lexer": "ipython3",
   "version": "3.8.19"
  }
 },
 "nbformat": 4,
 "nbformat_minor": 4
}

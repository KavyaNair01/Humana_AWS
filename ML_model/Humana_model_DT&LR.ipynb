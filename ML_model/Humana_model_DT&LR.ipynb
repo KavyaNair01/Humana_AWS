{
 "cells": [
  {
   "cell_type": "code",
   "execution_count": 1,
   "id": "db4fc610-69d9-417d-9239-9615cbe0d4ab",
   "metadata": {},
   "outputs": [],
   "source": [
    "import pandas as pd"
   ]
  },
  {
   "cell_type": "code",
   "execution_count": 18,
   "id": "fe17da19-dcdc-4bd8-9bbf-a7fbc11974de",
   "metadata": {},
   "outputs": [],
   "source": [
    "df=pd.read_csv(r\"C:\\Users\\shanm\\OneDrive\\Desktop\\Kavya\\Humana_Mays_24\\Data\\Training_final\\Training_final\\final_train.csv\")"
   ]
  },
  {
   "cell_type": "code",
   "execution_count": 3,
   "id": "e8e166c9-932a-481d-9cc2-25e8113ab58e",
   "metadata": {},
   "outputs": [],
   "source": [
    "null_cols = df.isnull().sum().reset_index()"
   ]
  },
  {
   "cell_type": "code",
   "execution_count": 6,
   "id": "1b589601-cdb4-4239-98d7-d619549478b2",
   "metadata": {
    "scrolled": true
   },
   "outputs": [
    {
     "data": {
      "text/plain": [
       "['rwjf_homicides_rate',\n",
       " 'rwjf_infant_mortality',\n",
       " 'rwjf_drug_overdose_deaths_rate',\n",
       " 'rwjf_disconnect_youth_pct',\n",
       " '2021_annual_wellness',\n",
       " '2021_clm_unique_key',\n",
       " '2021_podiatrist_visit',\n",
       " '2021_pcp_visit',\n",
       " '2021_fqhc_visit',\n",
       " '2021_cardiologist_visit',\n",
       " '2021_telehealth',\n",
       " '2021_urgent_care_visit',\n",
       " '2021_gastroenterologist_visit',\n",
       " '2021_oncolologist_visit',\n",
       " '2021_pulmonologist_visit',\n",
       " '2021_preventative_visit',\n",
       " '2021_nephroloogist_visit',\n",
       " '2021_orthopedist_visit',\n",
       " '2021_ophthalmologist_visit',\n",
       " '2021_humana_paf',\n",
       " '2021_optometrist_visit',\n",
       " '2021_endocrinologist_visit',\n",
       " '2021_radiologist_visit',\n",
       " '2021_physical_therapist_visit',\n",
       " '2021_comp_physical_exam',\n",
       " '2021_er_visit',\n",
       " '2021_obgyn_visit',\n",
       " '2022_annual_wellness',\n",
       " '2022_clm_unique_key',\n",
       " '2022_podiatrist_visit',\n",
       " '2022_pcp_visit',\n",
       " '2022_fqhc_visit',\n",
       " '2022_cardiologist_visit',\n",
       " '2022_telehealth',\n",
       " '2022_urgent_care_visit',\n",
       " '2022_gastroenterologist_visit',\n",
       " '2022_oncolologist_visit',\n",
       " '2022_pulmonologist_visit',\n",
       " '2022_preventative_visit',\n",
       " '2022_nephroloogist_visit',\n",
       " '2022_orthopedist_visit',\n",
       " '2022_ophthalmologist_visit',\n",
       " '2022_humana_paf',\n",
       " '2022_optometrist_visit',\n",
       " '2022_endocrinologist_visit',\n",
       " '2022_radiologist_visit',\n",
       " '2022_physical_therapist_visit',\n",
       " '2022_comp_physical_exam',\n",
       " '2022_er_visit',\n",
       " '2022_obgyn_visit',\n",
       " 'Cancers',\n",
       " 'Cardiovascular_Diseases',\n",
       " 'Diabetes_Related',\n",
       " 'Immunological_Disorders',\n",
       " 'Kidney_and_Liver_Diseases',\n",
       " 'Mental_Health_Disorders',\n",
       " 'Miscellaneous',\n",
       " 'Neurological_Disorders',\n",
       " 'Respiratory_Diseases',\n",
       " 'other',\n",
       " 'ABA_comp_cnt',\n",
       " 'ADH_(ACE)_comp_cnt',\n",
       " 'ADH_(DIAB)_comp_cnt',\n",
       " 'ADH_(STATIN)_comp_cnt',\n",
       " 'ART_comp_cnt',\n",
       " 'ASV_comp_cnt',\n",
       " 'BCS_comp_cnt',\n",
       " 'CBP_comp_cnt',\n",
       " 'CDC_(EYE)_comp_cnt',\n",
       " 'CDC_(HbA1c)_comp_cnt',\n",
       " 'CDC_(NPH)_comp_cnt',\n",
       " 'COA_(FSA)_comp_cnt',\n",
       " 'COA_(MDR)_comp_cnt',\n",
       " 'COA_(PNS)_comp_cnt',\n",
       " 'COL_comp_cnt',\n",
       " 'COL_(45-50)_comp_cnt',\n",
       " 'EED_comp_cnt',\n",
       " 'EGR_comp_cnt',\n",
       " 'ESA_comp_cnt',\n",
       " 'ETA_comp_cnt',\n",
       " 'FMC_comp_cnt',\n",
       " 'HBD_comp_cnt',\n",
       " 'KED_comp_cnt',\n",
       " 'MDR_comp_cnt',\n",
       " 'MRP_comp_cnt',\n",
       " 'OMW_comp_cnt',\n",
       " 'PCR_comp_cnt',\n",
       " 'RXC_comp_cnt',\n",
       " 'SBT_comp_cnt',\n",
       " 'SFT_comp_cnt',\n",
       " 'SPC_STATIN_comp_cnt',\n",
       " 'SUPD_comp_cnt',\n",
       " 'SWT_comp_cnt',\n",
       " 'TBC_comp_cnt',\n",
       " 'TEX_comp_cnt',\n",
       " 'TFP_comp_cnt',\n",
       " 'TRC_(MRP)_comp_cnt',\n",
       " 'TRC_(PED)_comp_cnt',\n",
       " 'ABA_elig_cnt',\n",
       " 'ADH_(ACE)_elig_cnt',\n",
       " 'ADH_(DIAB)_elig_cnt',\n",
       " 'ADH_(STATIN)_elig_cnt',\n",
       " 'ART_elig_cnt',\n",
       " 'ASV_elig_cnt',\n",
       " 'BCS_elig_cnt',\n",
       " 'CBP_elig_cnt',\n",
       " 'CDC_(EYE)_elig_cnt',\n",
       " 'CDC_(HbA1c)_elig_cnt',\n",
       " 'CDC_(NPH)_elig_cnt',\n",
       " 'COA_(FSA)_elig_cnt',\n",
       " 'COA_(MDR)_elig_cnt',\n",
       " 'COA_(PNS)_elig_cnt',\n",
       " 'COL_elig_cnt',\n",
       " 'COL_(45-50)_elig_cnt',\n",
       " 'EED_elig_cnt',\n",
       " 'EGR_elig_cnt',\n",
       " 'ESA_elig_cnt',\n",
       " 'ETA_elig_cnt',\n",
       " 'FMC_elig_cnt',\n",
       " 'HBD_elig_cnt',\n",
       " 'KED_elig_cnt',\n",
       " 'MDR_elig_cnt',\n",
       " 'MRP_elig_cnt',\n",
       " 'OMW_elig_cnt',\n",
       " 'PCR_elig_cnt',\n",
       " 'RXC_elig_cnt',\n",
       " 'SBT_elig_cnt',\n",
       " 'SFT_elig_cnt',\n",
       " 'SPC_STATIN_elig_cnt',\n",
       " 'SUPD_elig_cnt',\n",
       " 'SWT_elig_cnt',\n",
       " 'TBC_elig_cnt',\n",
       " 'TEX_elig_cnt',\n",
       " 'TFP_elig_cnt',\n",
       " 'TRC_(MRP)_elig_cnt',\n",
       " 'TRC_(PED)_elig_cnt',\n",
       " 'HEDIS_comp_cnt',\n",
       " 'Patient_Experience_comp_cnt',\n",
       " 'Patient_Safety_comp_cnt',\n",
       " 'HEDIS_elig_cnt',\n",
       " 'Patient_Experience_elig_cnt',\n",
       " 'Patient_Safety_elig_cnt']"
      ]
     },
     "execution_count": 6,
     "metadata": {},
     "output_type": "execute_result"
    }
   ],
   "source": [
    "list(null_cols.loc[null_cols[0]>(0.1*df.shape[0])]['index'])"
   ]
  },
  {
   "cell_type": "code",
   "execution_count": 3,
   "id": "6b3fc2c7-94b6-4402-808c-48ef27784bdb",
   "metadata": {},
   "outputs": [],
   "source": [
    "df.fillna(0, inplace=True)"
   ]
  },
  {
   "cell_type": "code",
   "execution_count": 3,
   "id": "f9d871d4-1e27-4805-821d-aeb9a4ccd652",
   "metadata": {},
   "outputs": [],
   "source": [
    "from sklearn.linear_model import LogisticRegression\n"
   ]
  },
  {
   "cell_type": "code",
   "execution_count": 19,
   "id": "6b966828-9576-4058-aea7-c8a332d2791a",
   "metadata": {},
   "outputs": [],
   "source": [
    "from sklearn.model_selection import train_test_split"
   ]
  },
  {
   "cell_type": "code",
   "execution_count": 18,
   "id": "a653276a-c4b1-478a-b8fb-eb9873ed3431",
   "metadata": {},
   "outputs": [
    {
     "data": {
      "text/plain": [
       "Index(['Unnamed: 0', 'id', 'preventive_visit_gap_ind', 'cms_frailty_ind',\n",
       "       'cms_tot_ma_payment_amt', 'cms_tot_partd_payment_amt',\n",
       "       'atlas_recfacpth14', 'atlas_ffrpth14', 'atlas_fsrpth14',\n",
       "       'atlas_grocpth14',\n",
       "       ...\n",
       "       'TFP_elig_cnt', 'TRC_(MRP)_elig_cnt', 'TRC_(PED)_elig_cnt',\n",
       "       'HEDIS_comp_cnt', 'Patient_Experience_comp_cnt',\n",
       "       'Patient_Safety_comp_cnt', 'HEDIS_elig_cnt',\n",
       "       'Patient_Experience_elig_cnt', 'Patient_Safety_elig_cnt',\n",
       "       'rucc_category'],\n",
       "      dtype='object', length=379)"
      ]
     },
     "execution_count": 18,
     "metadata": {},
     "output_type": "execute_result"
    }
   ],
   "source": [
    "df.columns"
   ]
  },
  {
   "cell_type": "code",
   "execution_count": 14,
   "id": "dd9da1a4-f316-4a22-b8b6-a68617f0dd63",
   "metadata": {
    "scrolled": true
   },
   "outputs": [
    {
     "ename": "KeyError",
     "evalue": "\"['preventive_visit_gap_ind'] not found in axis\"",
     "output_type": "error",
     "traceback": [
      "\u001b[1;31m---------------------------------------------------------------------------\u001b[0m",
      "\u001b[1;31mKeyError\u001b[0m                                  Traceback (most recent call last)",
      "Cell \u001b[1;32mIn[14], line 1\u001b[0m\n\u001b[1;32m----> 1\u001b[0m X_train,X_test,y_train,y_test\u001b[38;5;241m=\u001b[39mtrain_test_split(\u001b[43mdf\u001b[49m\u001b[38;5;241;43m.\u001b[39;49m\u001b[43mdrop\u001b[49m\u001b[43m(\u001b[49m\u001b[38;5;124;43m'\u001b[39;49m\u001b[38;5;124;43mpreventive_visit_gap_ind\u001b[39;49m\u001b[38;5;124;43m'\u001b[39;49m\u001b[43m)\u001b[49m,df[\u001b[38;5;124m'\u001b[39m\u001b[38;5;124mpreventive_visit_gap_ind\u001b[39m\u001b[38;5;124m'\u001b[39m],test_size\u001b[38;5;241m=\u001b[39m\u001b[38;5;241m0.3\u001b[39m)\n",
      "File \u001b[1;32m~\\anaconda3\\envs\\spark\\lib\\site-packages\\pandas\\core\\frame.py:5258\u001b[0m, in \u001b[0;36mDataFrame.drop\u001b[1;34m(self, labels, axis, index, columns, level, inplace, errors)\u001b[0m\n\u001b[0;32m   5110\u001b[0m \u001b[38;5;28;01mdef\u001b[39;00m \u001b[38;5;21mdrop\u001b[39m(\n\u001b[0;32m   5111\u001b[0m     \u001b[38;5;28mself\u001b[39m,\n\u001b[0;32m   5112\u001b[0m     labels: IndexLabel \u001b[38;5;241m=\u001b[39m \u001b[38;5;28;01mNone\u001b[39;00m,\n\u001b[1;32m   (...)\u001b[0m\n\u001b[0;32m   5119\u001b[0m     errors: IgnoreRaise \u001b[38;5;241m=\u001b[39m \u001b[38;5;124m\"\u001b[39m\u001b[38;5;124mraise\u001b[39m\u001b[38;5;124m\"\u001b[39m,\n\u001b[0;32m   5120\u001b[0m ) \u001b[38;5;241m-\u001b[39m\u001b[38;5;241m>\u001b[39m DataFrame \u001b[38;5;241m|\u001b[39m \u001b[38;5;28;01mNone\u001b[39;00m:\n\u001b[0;32m   5121\u001b[0m \u001b[38;5;250m    \u001b[39m\u001b[38;5;124;03m\"\"\"\u001b[39;00m\n\u001b[0;32m   5122\u001b[0m \u001b[38;5;124;03m    Drop specified labels from rows or columns.\u001b[39;00m\n\u001b[0;32m   5123\u001b[0m \n\u001b[1;32m   (...)\u001b[0m\n\u001b[0;32m   5256\u001b[0m \u001b[38;5;124;03m            weight  1.0     0.8\u001b[39;00m\n\u001b[0;32m   5257\u001b[0m \u001b[38;5;124;03m    \"\"\"\u001b[39;00m\n\u001b[1;32m-> 5258\u001b[0m     \u001b[38;5;28;01mreturn\u001b[39;00m \u001b[38;5;28;43msuper\u001b[39;49m\u001b[43m(\u001b[49m\u001b[43m)\u001b[49m\u001b[38;5;241;43m.\u001b[39;49m\u001b[43mdrop\u001b[49m\u001b[43m(\u001b[49m\n\u001b[0;32m   5259\u001b[0m \u001b[43m        \u001b[49m\u001b[43mlabels\u001b[49m\u001b[38;5;241;43m=\u001b[39;49m\u001b[43mlabels\u001b[49m\u001b[43m,\u001b[49m\n\u001b[0;32m   5260\u001b[0m \u001b[43m        \u001b[49m\u001b[43maxis\u001b[49m\u001b[38;5;241;43m=\u001b[39;49m\u001b[43maxis\u001b[49m\u001b[43m,\u001b[49m\n\u001b[0;32m   5261\u001b[0m \u001b[43m        \u001b[49m\u001b[43mindex\u001b[49m\u001b[38;5;241;43m=\u001b[39;49m\u001b[43mindex\u001b[49m\u001b[43m,\u001b[49m\n\u001b[0;32m   5262\u001b[0m \u001b[43m        \u001b[49m\u001b[43mcolumns\u001b[49m\u001b[38;5;241;43m=\u001b[39;49m\u001b[43mcolumns\u001b[49m\u001b[43m,\u001b[49m\n\u001b[0;32m   5263\u001b[0m \u001b[43m        \u001b[49m\u001b[43mlevel\u001b[49m\u001b[38;5;241;43m=\u001b[39;49m\u001b[43mlevel\u001b[49m\u001b[43m,\u001b[49m\n\u001b[0;32m   5264\u001b[0m \u001b[43m        \u001b[49m\u001b[43minplace\u001b[49m\u001b[38;5;241;43m=\u001b[39;49m\u001b[43minplace\u001b[49m\u001b[43m,\u001b[49m\n\u001b[0;32m   5265\u001b[0m \u001b[43m        \u001b[49m\u001b[43merrors\u001b[49m\u001b[38;5;241;43m=\u001b[39;49m\u001b[43merrors\u001b[49m\u001b[43m,\u001b[49m\n\u001b[0;32m   5266\u001b[0m \u001b[43m    \u001b[49m\u001b[43m)\u001b[49m\n",
      "File \u001b[1;32m~\\anaconda3\\envs\\spark\\lib\\site-packages\\pandas\\core\\generic.py:4549\u001b[0m, in \u001b[0;36mNDFrame.drop\u001b[1;34m(self, labels, axis, index, columns, level, inplace, errors)\u001b[0m\n\u001b[0;32m   4547\u001b[0m \u001b[38;5;28;01mfor\u001b[39;00m axis, labels \u001b[38;5;129;01min\u001b[39;00m axes\u001b[38;5;241m.\u001b[39mitems():\n\u001b[0;32m   4548\u001b[0m     \u001b[38;5;28;01mif\u001b[39;00m labels \u001b[38;5;129;01mis\u001b[39;00m \u001b[38;5;129;01mnot\u001b[39;00m \u001b[38;5;28;01mNone\u001b[39;00m:\n\u001b[1;32m-> 4549\u001b[0m         obj \u001b[38;5;241m=\u001b[39m \u001b[43mobj\u001b[49m\u001b[38;5;241;43m.\u001b[39;49m\u001b[43m_drop_axis\u001b[49m\u001b[43m(\u001b[49m\u001b[43mlabels\u001b[49m\u001b[43m,\u001b[49m\u001b[43m \u001b[49m\u001b[43maxis\u001b[49m\u001b[43m,\u001b[49m\u001b[43m \u001b[49m\u001b[43mlevel\u001b[49m\u001b[38;5;241;43m=\u001b[39;49m\u001b[43mlevel\u001b[49m\u001b[43m,\u001b[49m\u001b[43m \u001b[49m\u001b[43merrors\u001b[49m\u001b[38;5;241;43m=\u001b[39;49m\u001b[43merrors\u001b[49m\u001b[43m)\u001b[49m\n\u001b[0;32m   4551\u001b[0m \u001b[38;5;28;01mif\u001b[39;00m inplace:\n\u001b[0;32m   4552\u001b[0m     \u001b[38;5;28mself\u001b[39m\u001b[38;5;241m.\u001b[39m_update_inplace(obj)\n",
      "File \u001b[1;32m~\\anaconda3\\envs\\spark\\lib\\site-packages\\pandas\\core\\generic.py:4591\u001b[0m, in \u001b[0;36mNDFrame._drop_axis\u001b[1;34m(self, labels, axis, level, errors, only_slice)\u001b[0m\n\u001b[0;32m   4589\u001b[0m         new_axis \u001b[38;5;241m=\u001b[39m axis\u001b[38;5;241m.\u001b[39mdrop(labels, level\u001b[38;5;241m=\u001b[39mlevel, errors\u001b[38;5;241m=\u001b[39merrors)\n\u001b[0;32m   4590\u001b[0m     \u001b[38;5;28;01melse\u001b[39;00m:\n\u001b[1;32m-> 4591\u001b[0m         new_axis \u001b[38;5;241m=\u001b[39m \u001b[43maxis\u001b[49m\u001b[38;5;241;43m.\u001b[39;49m\u001b[43mdrop\u001b[49m\u001b[43m(\u001b[49m\u001b[43mlabels\u001b[49m\u001b[43m,\u001b[49m\u001b[43m \u001b[49m\u001b[43merrors\u001b[49m\u001b[38;5;241;43m=\u001b[39;49m\u001b[43merrors\u001b[49m\u001b[43m)\u001b[49m\n\u001b[0;32m   4592\u001b[0m     indexer \u001b[38;5;241m=\u001b[39m axis\u001b[38;5;241m.\u001b[39mget_indexer(new_axis)\n\u001b[0;32m   4594\u001b[0m \u001b[38;5;66;03m# Case for non-unique axis\u001b[39;00m\n\u001b[0;32m   4595\u001b[0m \u001b[38;5;28;01melse\u001b[39;00m:\n",
      "File \u001b[1;32m~\\anaconda3\\envs\\spark\\lib\\site-packages\\pandas\\core\\indexes\\base.py:6699\u001b[0m, in \u001b[0;36mIndex.drop\u001b[1;34m(self, labels, errors)\u001b[0m\n\u001b[0;32m   6697\u001b[0m \u001b[38;5;28;01mif\u001b[39;00m mask\u001b[38;5;241m.\u001b[39many():\n\u001b[0;32m   6698\u001b[0m     \u001b[38;5;28;01mif\u001b[39;00m errors \u001b[38;5;241m!=\u001b[39m \u001b[38;5;124m\"\u001b[39m\u001b[38;5;124mignore\u001b[39m\u001b[38;5;124m\"\u001b[39m:\n\u001b[1;32m-> 6699\u001b[0m         \u001b[38;5;28;01mraise\u001b[39;00m \u001b[38;5;167;01mKeyError\u001b[39;00m(\u001b[38;5;124mf\u001b[39m\u001b[38;5;124m\"\u001b[39m\u001b[38;5;132;01m{\u001b[39;00m\u001b[38;5;28mlist\u001b[39m(labels[mask])\u001b[38;5;132;01m}\u001b[39;00m\u001b[38;5;124m not found in axis\u001b[39m\u001b[38;5;124m\"\u001b[39m)\n\u001b[0;32m   6700\u001b[0m     indexer \u001b[38;5;241m=\u001b[39m indexer[\u001b[38;5;241m~\u001b[39mmask]\n\u001b[0;32m   6701\u001b[0m \u001b[38;5;28;01mreturn\u001b[39;00m \u001b[38;5;28mself\u001b[39m\u001b[38;5;241m.\u001b[39mdelete(indexer)\n",
      "\u001b[1;31mKeyError\u001b[0m: \"['preventive_visit_gap_ind'] not found in axis\""
     ]
    }
   ],
   "source": [
    "X_train,X_test,y_train,y_test=train_test_split(df.drop('preventive_visit_gap_ind'),df['preventive_visit_gap_ind'],test_size=0.3)"
   ]
  },
  {
   "cell_type": "code",
   "execution_count": 27,
   "id": "984a8c39-0a15-4ff8-96d7-57b646006174",
   "metadata": {},
   "outputs": [
    {
     "name": "stderr",
     "output_type": "stream",
     "text": [
      "C:\\Users\\shanm\\anaconda3\\envs\\spark\\lib\\site-packages\\sklearn\\linear_model\\_sag.py:350: ConvergenceWarning: The max_iter was reached which means the coef_ did not converge\n",
      "  warnings.warn(\n"
     ]
    },
    {
     "data": {
      "text/html": [
       "<style>#sk-container-id-1 {color: black;}#sk-container-id-1 pre{padding: 0;}#sk-container-id-1 div.sk-toggleable {background-color: white;}#sk-container-id-1 label.sk-toggleable__label {cursor: pointer;display: block;width: 100%;margin-bottom: 0;padding: 0.3em;box-sizing: border-box;text-align: center;}#sk-container-id-1 label.sk-toggleable__label-arrow:before {content: \"▸\";float: left;margin-right: 0.25em;color: #696969;}#sk-container-id-1 label.sk-toggleable__label-arrow:hover:before {color: black;}#sk-container-id-1 div.sk-estimator:hover label.sk-toggleable__label-arrow:before {color: black;}#sk-container-id-1 div.sk-toggleable__content {max-height: 0;max-width: 0;overflow: hidden;text-align: left;background-color: #f0f8ff;}#sk-container-id-1 div.sk-toggleable__content pre {margin: 0.2em;color: black;border-radius: 0.25em;background-color: #f0f8ff;}#sk-container-id-1 input.sk-toggleable__control:checked~div.sk-toggleable__content {max-height: 200px;max-width: 100%;overflow: auto;}#sk-container-id-1 input.sk-toggleable__control:checked~label.sk-toggleable__label-arrow:before {content: \"▾\";}#sk-container-id-1 div.sk-estimator input.sk-toggleable__control:checked~label.sk-toggleable__label {background-color: #d4ebff;}#sk-container-id-1 div.sk-label input.sk-toggleable__control:checked~label.sk-toggleable__label {background-color: #d4ebff;}#sk-container-id-1 input.sk-hidden--visually {border: 0;clip: rect(1px 1px 1px 1px);clip: rect(1px, 1px, 1px, 1px);height: 1px;margin: -1px;overflow: hidden;padding: 0;position: absolute;width: 1px;}#sk-container-id-1 div.sk-estimator {font-family: monospace;background-color: #f0f8ff;border: 1px dotted black;border-radius: 0.25em;box-sizing: border-box;margin-bottom: 0.5em;}#sk-container-id-1 div.sk-estimator:hover {background-color: #d4ebff;}#sk-container-id-1 div.sk-parallel-item::after {content: \"\";width: 100%;border-bottom: 1px solid gray;flex-grow: 1;}#sk-container-id-1 div.sk-label:hover label.sk-toggleable__label {background-color: #d4ebff;}#sk-container-id-1 div.sk-serial::before {content: \"\";position: absolute;border-left: 1px solid gray;box-sizing: border-box;top: 0;bottom: 0;left: 50%;z-index: 0;}#sk-container-id-1 div.sk-serial {display: flex;flex-direction: column;align-items: center;background-color: white;padding-right: 0.2em;padding-left: 0.2em;position: relative;}#sk-container-id-1 div.sk-item {position: relative;z-index: 1;}#sk-container-id-1 div.sk-parallel {display: flex;align-items: stretch;justify-content: center;background-color: white;position: relative;}#sk-container-id-1 div.sk-item::before, #sk-container-id-1 div.sk-parallel-item::before {content: \"\";position: absolute;border-left: 1px solid gray;box-sizing: border-box;top: 0;bottom: 0;left: 50%;z-index: -1;}#sk-container-id-1 div.sk-parallel-item {display: flex;flex-direction: column;z-index: 1;position: relative;background-color: white;}#sk-container-id-1 div.sk-parallel-item:first-child::after {align-self: flex-end;width: 50%;}#sk-container-id-1 div.sk-parallel-item:last-child::after {align-self: flex-start;width: 50%;}#sk-container-id-1 div.sk-parallel-item:only-child::after {width: 0;}#sk-container-id-1 div.sk-dashed-wrapped {border: 1px dashed gray;margin: 0 0.4em 0.5em 0.4em;box-sizing: border-box;padding-bottom: 0.4em;background-color: white;}#sk-container-id-1 div.sk-label label {font-family: monospace;font-weight: bold;display: inline-block;line-height: 1.2em;}#sk-container-id-1 div.sk-label-container {text-align: center;}#sk-container-id-1 div.sk-container {/* jupyter's `normalize.less` sets `[hidden] { display: none; }` but bootstrap.min.css set `[hidden] { display: none !important; }` so we also need the `!important` here to be able to override the default hidden behavior on the sphinx rendered scikit-learn.org. See: https://github.com/scikit-learn/scikit-learn/issues/21755 */display: inline-block !important;position: relative;}#sk-container-id-1 div.sk-text-repr-fallback {display: none;}</style><div id=\"sk-container-id-1\" class=\"sk-top-container\"><div class=\"sk-text-repr-fallback\"><pre>LogisticRegression(max_iter=10, n_jobs=-1, penalty=&#x27;l1&#x27;, solver=&#x27;saga&#x27;)</pre><b>In a Jupyter environment, please rerun this cell to show the HTML representation or trust the notebook. <br />On GitHub, the HTML representation is unable to render, please try loading this page with nbviewer.org.</b></div><div class=\"sk-container\" hidden><div class=\"sk-item\"><div class=\"sk-estimator sk-toggleable\"><input class=\"sk-toggleable__control sk-hidden--visually\" id=\"sk-estimator-id-1\" type=\"checkbox\" checked><label for=\"sk-estimator-id-1\" class=\"sk-toggleable__label sk-toggleable__label-arrow\">LogisticRegression</label><div class=\"sk-toggleable__content\"><pre>LogisticRegression(max_iter=10, n_jobs=-1, penalty=&#x27;l1&#x27;, solver=&#x27;saga&#x27;)</pre></div></div></div></div></div>"
      ],
      "text/plain": [
       "LogisticRegression(max_iter=10, n_jobs=-1, penalty='l1', solver='saga')"
      ]
     },
     "execution_count": 27,
     "metadata": {},
     "output_type": "execute_result"
    }
   ],
   "source": [
    "lr=LogisticRegression(penalty='l1',max_iter=10, n_jobs=-1, solver='saga')\n",
    "lr.fit(df.drop(['preventive_visit_gap_ind','Unnamed: 0'], axis=1),df['preventive_visit_gap_ind'])"
   ]
  },
  {
   "cell_type": "code",
   "execution_count": 41,
   "id": "239b286e-3248-4612-9c4b-8ea3abddccc3",
   "metadata": {
    "scrolled": true
   },
   "outputs": [
    {
     "data": {
      "text/plain": [
       "array([ 6.26115236e-10,  1.71607198e-10,  1.17256001e-07,  1.36918941e-07,\n",
       "        0.00000000e+00, -5.98482205e-10, -1.30247077e-10,  7.79884254e-12,\n",
       "        1.32683773e-08, -1.44611940e-08, -3.97206031e-08, -1.17115991e-08,\n",
       "       -1.64386705e-08, -1.67520285e-08, -1.46660338e-08, -1.63176720e-08,\n",
       "       -1.62545758e-08, -1.35694736e-08, -1.56592497e-08, -2.07129977e-08,\n",
       "       -1.57754126e-08, -1.68474043e-08, -9.87484691e-09, -1.14702922e-08,\n",
       "       -6.75269795e-09, -6.22960875e-09, -7.56126685e-09,  9.45601289e-10,\n",
       "       -7.39569622e-09, -7.07808299e-09, -7.45489706e-09, -7.62183086e-09,\n",
       "       -6.95661430e-09, -6.82314685e-09, -6.81377840e-09, -5.94252368e-09,\n",
       "       -1.02384714e-08, -1.39560262e-08, -1.28137428e-08, -1.03049115e-08,\n",
       "       -9.74265210e-09, -9.97778642e-09, -1.24269535e-08, -1.36303391e-08,\n",
       "       -1.02955214e-08, -1.08152781e-08, -8.80314994e-09, -1.16290396e-08,\n",
       "       -3.87918596e-08, -3.91836309e-08, -3.54483613e-08, -3.77093128e-08,\n",
       "       -3.29009487e-08, -3.84207948e-08, -3.22417590e-08, -4.35863101e-08,\n",
       "       -3.97308227e-08, -3.60264434e-08, -3.62014965e-08, -3.04605757e-08,\n",
       "        0.00000000e+00,  0.00000000e+00,  0.00000000e+00,  0.00000000e+00,\n",
       "        0.00000000e+00,  0.00000000e+00,  0.00000000e+00,  0.00000000e+00,\n",
       "        0.00000000e+00,  0.00000000e+00,  0.00000000e+00,  0.00000000e+00,\n",
       "       -1.32999184e-08, -6.68040048e-09, -8.38877217e-09, -3.58365797e-08,\n",
       "        0.00000000e+00,  2.71004032e-09,  1.11190329e-06,  9.07115154e-07,\n",
       "        1.02734950e-08,  9.66919985e-08,  7.62998493e-08,  1.32873781e-08,\n",
       "        1.77086349e-07,  1.20386804e-06,  2.71870661e-09,  1.12227036e-06,\n",
       "        9.17176358e-07,  9.55190515e-09,  9.61169262e-08,  7.78273165e-08,\n",
       "        1.32734970e-08,  1.78043713e-07,  1.18355649e-06, -9.49774907e-07,\n",
       "       -9.36024976e-07,  7.64280580e-08,  1.77762218e-07, -2.07404532e-07,\n",
       "       -3.68852347e-08, -5.25512902e-08,  3.70029206e-06,  0.00000000e+00,\n",
       "        6.13025270e-13,  5.45519730e-12,  6.23436101e-10,  1.62130705e-11,\n",
       "       -1.64228003e-13,  1.01754857e-10,  3.15386613e-11,  8.12987273e-10,\n",
       "       -5.46589103e-09, -8.41427843e-09,  6.35377401e-11, -3.02761152e-09,\n",
       "       -3.03567391e-06, -2.66719487e-06, -6.94208676e-09, -1.70279647e-07,\n",
       "       -2.24990099e-07, -3.70473855e-07, -2.09706270e-08, -4.91888560e-09,\n",
       "       -2.49291131e-08, -1.46507631e-08,  1.97639606e-10,  6.57257401e-10,\n",
       "       -1.59279593e-10,  4.64078135e-06, -9.88257063e-11,  0.00000000e+00,\n",
       "        3.62626374e-09,  4.28468529e-06,  0.00000000e+00,  0.00000000e+00,\n",
       "        0.00000000e+00,  1.48379792e-08,  0.00000000e+00,  0.00000000e+00,\n",
       "        6.22129170e-08, -2.49146214e-09,  0.00000000e+00,  0.00000000e+00,\n",
       "        0.00000000e+00,  1.66032834e-09,  0.00000000e+00,  4.02823910e-08,\n",
       "       -1.52063602e-09, -2.09459719e-09,  5.73595607e-10,  2.99630223e-08,\n",
       "        0.00000000e+00,  0.00000000e+00, -3.84712774e-08,  0.00000000e+00,\n",
       "        0.00000000e+00,  0.00000000e+00,  0.00000000e+00,  0.00000000e+00,\n",
       "        0.00000000e+00,  2.42930090e-10,  0.00000000e+00,  0.00000000e+00,\n",
       "       -4.31343345e-07,  0.00000000e+00, -3.66382818e-06,  6.33438555e-11,\n",
       "        0.00000000e+00,  0.00000000e+00,  0.00000000e+00,  0.00000000e+00,\n",
       "        0.00000000e+00,  0.00000000e+00,  0.00000000e+00,  0.00000000e+00,\n",
       "        0.00000000e+00,  0.00000000e+00,  1.29105139e-09, -5.46835762e-09,\n",
       "        0.00000000e+00,  2.37716401e-07, -3.21113660e-08, -1.54268388e-08,\n",
       "        0.00000000e+00,  6.09468146e-11, -2.74546090e-09,  2.26189012e-11,\n",
       "        2.28317607e-08,  0.00000000e+00,  0.00000000e+00, -7.72475936e-08,\n",
       "        0.00000000e+00, -2.45366446e-09, -3.05765616e-08, -2.83600619e-08,\n",
       "        0.00000000e+00,  0.00000000e+00,  0.00000000e+00, -5.37240257e-09,\n",
       "       -3.67969591e-09,  0.00000000e+00,  0.00000000e+00,  0.00000000e+00,\n",
       "        0.00000000e+00,  1.72108851e-08,  0.00000000e+00,  0.00000000e+00,\n",
       "       -2.62526622e-07, -4.50908701e-09,  2.40626569e-06, -1.18038830e-08,\n",
       "       -1.40612773e-08, -1.32768825e-08, -1.34514999e-08, -1.19487966e-08,\n",
       "       -1.14057373e-08, -1.15016993e-08, -1.19347372e-08, -1.27595351e-08,\n",
       "       -1.42481140e-08, -1.49860469e-08, -1.31688557e-08, -1.70831602e-08,\n",
       "       -2.55232414e-07, -2.45712683e-07,  2.48978810e-09,  4.53744315e-09,\n",
       "        2.64487936e-09,  4.94675210e-09,  1.46289474e-08,  1.06800321e-08,\n",
       "       -3.78574890e-08,  7.07751681e-09,  3.07112980e-09,  7.57630128e-09,\n",
       "        2.65942792e-08, -2.34716427e-08, -7.81444637e-11, -7.85108882e-08,\n",
       "       -2.41594445e-09, -1.09968512e-10, -1.16786564e-11, -6.99946166e-09,\n",
       "       -2.49872022e-10, -1.92105597e-09, -6.34093075e-09, -1.37291284e-09,\n",
       "       -2.15062565e-09, -2.29109188e-09,  8.41438881e-10, -1.09582333e-08,\n",
       "       -1.46926401e-08, -3.27866710e-11, -7.65904442e-09, -2.13516893e-09,\n",
       "       -1.07427967e-08, -1.20704126e-08, -1.19426519e-09,  5.48827505e-09,\n",
       "       -5.38541574e-09, -1.04116026e-10, -8.19304109e-08, -2.82303106e-09,\n",
       "       -1.76813660e-10, -3.12009441e-11, -7.40312988e-09, -1.10604158e-10,\n",
       "       -2.46868042e-09, -7.68612003e-09, -1.11586822e-09, -2.53736962e-09,\n",
       "       -2.35240711e-09,  1.82801803e-09, -1.27947214e-08, -1.68021867e-08,\n",
       "       -2.72440809e-11, -8.76819531e-09, -2.48708317e-09, -8.65478828e-09,\n",
       "       -1.47383436e-08, -1.22464786e-09,  1.02975059e-08, -5.77345839e-09,\n",
       "       -1.73732382e-09, -1.78967710e-09, -6.14267115e-09, -2.38432982e-09,\n",
       "       -4.24390905e-09, -2.47111394e-09, -2.10858498e-09,  1.94374603e-10,\n",
       "       -1.22893195e-09, -5.17576422e-09, -4.17069426e-09, -1.84024730e-08,\n",
       "       -6.09695711e-09, -2.38162610e-08, -9.62483332e-11, -2.40927812e-08,\n",
       "       -1.13343864e-08, -1.90580724e-08, -3.28877130e-09, -3.71190967e-09,\n",
       "       -5.28728904e-09, -3.28558872e-10, -5.03792888e-10, -2.65336064e-10,\n",
       "       -1.73716429e-08, -9.73918008e-12, -2.45629977e-09, -2.67827824e-08,\n",
       "       -4.82626881e-08, -4.17114668e-08,  9.06921744e-11, -2.88280649e-09,\n",
       "       -2.44116950e-09, -4.07179437e-08, -6.16686914e-10, -1.09279261e-10,\n",
       "        2.06003429e-10, -4.33980044e-08, -6.74630069e-09, -4.01330704e-09,\n",
       "       -1.64733605e-09, -4.78809951e-09, -4.09243336e-08, -8.49420693e-09,\n",
       "       -4.63549488e-08, -5.39101167e-09, -1.38224858e-09,  4.69604864e-10,\n",
       "       -3.02694117e-09, -1.85489709e-08, -6.28266887e-09, -2.50374767e-08,\n",
       "       -1.22305101e-10, -2.63137207e-08, -7.90923723e-09, -2.09463842e-08,\n",
       "       -2.75923503e-09, -2.76033648e-09, -4.62399821e-09, -7.60235218e-11,\n",
       "       -7.60235218e-11, -7.60235218e-11, -7.23880977e-09,  1.50966178e-10,\n",
       "       -1.86348136e-09, -2.82878859e-08, -5.04462188e-08, -4.34219622e-08,\n",
       "        6.68919178e-10, -1.86348136e-09, -2.73190779e-09, -4.55930547e-08,\n",
       "        1.12999513e-09, -9.80944585e-11,  4.88906301e-10, -4.63047585e-08,\n",
       "       -8.41304378e-09, -5.27425463e-09, -1.73454505e-09, -4.96691057e-09,\n",
       "       -4.89138263e-08, -1.82481309e-08, -6.46150198e-08, -6.91291527e-09,\n",
       "        1.94187547e-09,  1.12999513e-09, -7.61988121e-08, -3.36891876e-07,\n",
       "       -5.31043635e-08, -5.23978934e-08, -3.92746892e-07, -5.48365999e-08,\n",
       "        1.43918729e-08])"
      ]
     },
     "execution_count": 41,
     "metadata": {},
     "output_type": "execute_result"
    }
   ],
   "source": [
    "lr.coef_[0]"
   ]
  },
  {
   "cell_type": "code",
   "execution_count": 43,
   "id": "ae751b6c-494a-4570-85c3-e83919e5ffb0",
   "metadata": {},
   "outputs": [],
   "source": [
    "ypred=lr.predict(df.drop(['preventive_visit_gap_ind','Unnamed: 0'], axis=1))"
   ]
  },
  {
   "cell_type": "code",
   "execution_count": 4,
   "id": "29dd7b8b-284d-4b19-a445-94acd0ab064b",
   "metadata": {},
   "outputs": [],
   "source": [
    "from sklearn.metrics import *"
   ]
  },
  {
   "cell_type": "code",
   "execution_count": 47,
   "id": "911c22ac-8b84-4200-aa98-c26d04eb311f",
   "metadata": {},
   "outputs": [
    {
     "data": {
      "text/plain": [
       "array([[840494, 686525],\n",
       "       [   350,    535]], dtype=int64)"
      ]
     },
     "execution_count": 47,
     "metadata": {},
     "output_type": "execute_result"
    }
   ],
   "source": [
    "confusion_matrix(ypred,df['preventive_visit_gap_ind'])"
   ]
  },
  {
   "cell_type": "code",
   "execution_count": 39,
   "id": "2fabe244-54c9-4919-a85c-be272b5fcd23",
   "metadata": {},
   "outputs": [],
   "source": [
    "feat_imp=pd.DataFrame((df.drop(['preventive_visit_gap_ind','Unnamed: 0'], axis=1).columns,[x for x in lr.coef_[0]])).T.sort_values(by=1, ascending=False)"
   ]
  },
  {
   "cell_type": "code",
   "execution_count": 40,
   "id": "5949763f-a1c8-4131-b848-b3a0dc36c060",
   "metadata": {},
   "outputs": [
    {
     "data": {
      "text/html": [
       "<div>\n",
       "<style scoped>\n",
       "    .dataframe tbody tr th:only-of-type {\n",
       "        vertical-align: middle;\n",
       "    }\n",
       "\n",
       "    .dataframe tbody tr th {\n",
       "        vertical-align: top;\n",
       "    }\n",
       "\n",
       "    .dataframe thead th {\n",
       "        text-align: right;\n",
       "    }\n",
       "</style>\n",
       "<table border=\"1\" class=\"dataframe\">\n",
       "  <thead>\n",
       "    <tr style=\"text-align: right;\">\n",
       "      <th></th>\n",
       "      <th>0</th>\n",
       "      <th>1</th>\n",
       "    </tr>\n",
       "  </thead>\n",
       "  <tbody>\n",
       "    <tr>\n",
       "      <th>129</th>\n",
       "      <td>rx_days_since_last_script</td>\n",
       "      <td>0.000005</td>\n",
       "    </tr>\n",
       "    <tr>\n",
       "      <th>133</th>\n",
       "      <td>rwjf_premature_death_rate</td>\n",
       "      <td>0.000004</td>\n",
       "    </tr>\n",
       "    <tr>\n",
       "      <th>102</th>\n",
       "      <td>days_since_last_clm</td>\n",
       "      <td>0.000004</td>\n",
       "    </tr>\n",
       "    <tr>\n",
       "      <th>210</th>\n",
       "      <td>days_since_last_login</td>\n",
       "      <td>0.000002</td>\n",
       "    </tr>\n",
       "    <tr>\n",
       "      <th>85</th>\n",
       "      <td>nonpar_ds_clm</td>\n",
       "      <td>0.000001</td>\n",
       "    </tr>\n",
       "    <tr>\n",
       "      <th>...</th>\n",
       "      <td>...</td>\n",
       "      <td>...</td>\n",
       "    </tr>\n",
       "    <tr>\n",
       "      <th>96</th>\n",
       "      <td>total_net_paid_pmpm_cost</td>\n",
       "      <td>-0.000001</td>\n",
       "    </tr>\n",
       "    <tr>\n",
       "      <th>95</th>\n",
       "      <td>total_allowed_pmpm_cost</td>\n",
       "      <td>-0.000001</td>\n",
       "    </tr>\n",
       "    <tr>\n",
       "      <th>117</th>\n",
       "      <td>rx_overall_net_paid_pmpm_cost</td>\n",
       "      <td>-0.000003</td>\n",
       "    </tr>\n",
       "    <tr>\n",
       "      <th>116</th>\n",
       "      <td>rx_overall_pmpm_cost</td>\n",
       "      <td>-0.000003</td>\n",
       "    </tr>\n",
       "    <tr>\n",
       "      <th>166</th>\n",
       "      <td>rwjf_median_house_income</td>\n",
       "      <td>-0.000004</td>\n",
       "    </tr>\n",
       "  </tbody>\n",
       "</table>\n",
       "<p>377 rows × 2 columns</p>\n",
       "</div>"
      ],
      "text/plain": [
       "                                 0         1\n",
       "129      rx_days_since_last_script  0.000005\n",
       "133      rwjf_premature_death_rate  0.000004\n",
       "102            days_since_last_clm  0.000004\n",
       "210          days_since_last_login  0.000002\n",
       "85                   nonpar_ds_clm  0.000001\n",
       "..                             ...       ...\n",
       "96        total_net_paid_pmpm_cost -0.000001\n",
       "95         total_allowed_pmpm_cost -0.000001\n",
       "117  rx_overall_net_paid_pmpm_cost -0.000003\n",
       "116           rx_overall_pmpm_cost -0.000003\n",
       "166       rwjf_median_house_income -0.000004\n",
       "\n",
       "[377 rows x 2 columns]"
      ]
     },
     "execution_count": 40,
     "metadata": {},
     "output_type": "execute_result"
    }
   ],
   "source": [
    "feat_imp"
   ]
  },
  {
   "cell_type": "code",
   "execution_count": 5,
   "id": "0687b51b-7704-4200-96d2-eb3d1ef4d40e",
   "metadata": {},
   "outputs": [],
   "source": [
    "from sklearn.tree import DecisionTreeClassifier,export_graphviz, plot_tree"
   ]
  },
  {
   "cell_type": "code",
   "execution_count": 9,
   "id": "b3c1e68d-0945-4584-bf15-21a044f99fcc",
   "metadata": {},
   "outputs": [
    {
     "data": {
      "text/html": [
       "<style>#sk-container-id-1 {color: black;}#sk-container-id-1 pre{padding: 0;}#sk-container-id-1 div.sk-toggleable {background-color: white;}#sk-container-id-1 label.sk-toggleable__label {cursor: pointer;display: block;width: 100%;margin-bottom: 0;padding: 0.3em;box-sizing: border-box;text-align: center;}#sk-container-id-1 label.sk-toggleable__label-arrow:before {content: \"▸\";float: left;margin-right: 0.25em;color: #696969;}#sk-container-id-1 label.sk-toggleable__label-arrow:hover:before {color: black;}#sk-container-id-1 div.sk-estimator:hover label.sk-toggleable__label-arrow:before {color: black;}#sk-container-id-1 div.sk-toggleable__content {max-height: 0;max-width: 0;overflow: hidden;text-align: left;background-color: #f0f8ff;}#sk-container-id-1 div.sk-toggleable__content pre {margin: 0.2em;color: black;border-radius: 0.25em;background-color: #f0f8ff;}#sk-container-id-1 input.sk-toggleable__control:checked~div.sk-toggleable__content {max-height: 200px;max-width: 100%;overflow: auto;}#sk-container-id-1 input.sk-toggleable__control:checked~label.sk-toggleable__label-arrow:before {content: \"▾\";}#sk-container-id-1 div.sk-estimator input.sk-toggleable__control:checked~label.sk-toggleable__label {background-color: #d4ebff;}#sk-container-id-1 div.sk-label input.sk-toggleable__control:checked~label.sk-toggleable__label {background-color: #d4ebff;}#sk-container-id-1 input.sk-hidden--visually {border: 0;clip: rect(1px 1px 1px 1px);clip: rect(1px, 1px, 1px, 1px);height: 1px;margin: -1px;overflow: hidden;padding: 0;position: absolute;width: 1px;}#sk-container-id-1 div.sk-estimator {font-family: monospace;background-color: #f0f8ff;border: 1px dotted black;border-radius: 0.25em;box-sizing: border-box;margin-bottom: 0.5em;}#sk-container-id-1 div.sk-estimator:hover {background-color: #d4ebff;}#sk-container-id-1 div.sk-parallel-item::after {content: \"\";width: 100%;border-bottom: 1px solid gray;flex-grow: 1;}#sk-container-id-1 div.sk-label:hover label.sk-toggleable__label {background-color: #d4ebff;}#sk-container-id-1 div.sk-serial::before {content: \"\";position: absolute;border-left: 1px solid gray;box-sizing: border-box;top: 0;bottom: 0;left: 50%;z-index: 0;}#sk-container-id-1 div.sk-serial {display: flex;flex-direction: column;align-items: center;background-color: white;padding-right: 0.2em;padding-left: 0.2em;position: relative;}#sk-container-id-1 div.sk-item {position: relative;z-index: 1;}#sk-container-id-1 div.sk-parallel {display: flex;align-items: stretch;justify-content: center;background-color: white;position: relative;}#sk-container-id-1 div.sk-item::before, #sk-container-id-1 div.sk-parallel-item::before {content: \"\";position: absolute;border-left: 1px solid gray;box-sizing: border-box;top: 0;bottom: 0;left: 50%;z-index: -1;}#sk-container-id-1 div.sk-parallel-item {display: flex;flex-direction: column;z-index: 1;position: relative;background-color: white;}#sk-container-id-1 div.sk-parallel-item:first-child::after {align-self: flex-end;width: 50%;}#sk-container-id-1 div.sk-parallel-item:last-child::after {align-self: flex-start;width: 50%;}#sk-container-id-1 div.sk-parallel-item:only-child::after {width: 0;}#sk-container-id-1 div.sk-dashed-wrapped {border: 1px dashed gray;margin: 0 0.4em 0.5em 0.4em;box-sizing: border-box;padding-bottom: 0.4em;background-color: white;}#sk-container-id-1 div.sk-label label {font-family: monospace;font-weight: bold;display: inline-block;line-height: 1.2em;}#sk-container-id-1 div.sk-label-container {text-align: center;}#sk-container-id-1 div.sk-container {/* jupyter's `normalize.less` sets `[hidden] { display: none; }` but bootstrap.min.css set `[hidden] { display: none !important; }` so we also need the `!important` here to be able to override the default hidden behavior on the sphinx rendered scikit-learn.org. See: https://github.com/scikit-learn/scikit-learn/issues/21755 */display: inline-block !important;position: relative;}#sk-container-id-1 div.sk-text-repr-fallback {display: none;}</style><div id=\"sk-container-id-1\" class=\"sk-top-container\"><div class=\"sk-text-repr-fallback\"><pre>DecisionTreeClassifier(max_depth=6)</pre><b>In a Jupyter environment, please rerun this cell to show the HTML representation or trust the notebook. <br />On GitHub, the HTML representation is unable to render, please try loading this page with nbviewer.org.</b></div><div class=\"sk-container\" hidden><div class=\"sk-item\"><div class=\"sk-estimator sk-toggleable\"><input class=\"sk-toggleable__control sk-hidden--visually\" id=\"sk-estimator-id-1\" type=\"checkbox\" checked><label for=\"sk-estimator-id-1\" class=\"sk-toggleable__label sk-toggleable__label-arrow\">DecisionTreeClassifier</label><div class=\"sk-toggleable__content\"><pre>DecisionTreeClassifier(max_depth=6)</pre></div></div></div></div></div>"
      ],
      "text/plain": [
       "DecisionTreeClassifier(max_depth=6)"
      ]
     },
     "execution_count": 9,
     "metadata": {},
     "output_type": "execute_result"
    }
   ],
   "source": [
    "dtc=DecisionTreeClassifier(max_depth=6)\n",
    "dtc.fit(df.drop(['preventive_visit_gap_ind','Unnamed: 0','id'], axis=1), df['preventive_visit_gap_ind'])"
   ]
  },
  {
   "cell_type": "code",
   "execution_count": 11,
   "id": "14d0811c-42e7-4e7c-acdb-a5f0d47df4c7",
   "metadata": {},
   "outputs": [],
   "source": [
    "y_pred=dtc.predict(df.drop(['preventive_visit_gap_ind','Unnamed: 0','id'], axis=1))"
   ]
  },
  {
   "cell_type": "code",
   "execution_count": 21,
   "id": "881fbede-763b-4cc8-97b0-e2affb6d5832",
   "metadata": {},
   "outputs": [],
   "source": [
    "export_graphviz(dtc, out_file='dtc.png')"
   ]
  },
  {
   "cell_type": "code",
   "execution_count": 17,
   "id": "b79576ed-54bc-4bc7-881d-3a4c244d30e1",
   "metadata": {},
   "outputs": [
    {
     "ename": "ModuleNotFoundError",
     "evalue": "No module named 'sklearn.externals.six'",
     "output_type": "error",
     "traceback": [
      "\u001b[1;31m---------------------------------------------------------------------------\u001b[0m",
      "\u001b[1;31mModuleNotFoundError\u001b[0m                       Traceback (most recent call last)",
      "Cell \u001b[1;32mIn[17], line 2\u001b[0m\n\u001b[0;32m      1\u001b[0m \u001b[38;5;28;01mfrom\u001b[39;00m \u001b[38;5;21;01msklearn\u001b[39;00m\u001b[38;5;21;01m.\u001b[39;00m\u001b[38;5;21;01mtree\u001b[39;00m \u001b[38;5;28;01mimport\u001b[39;00m export_graphviz\n\u001b[1;32m----> 2\u001b[0m \u001b[38;5;28;01mfrom\u001b[39;00m \u001b[38;5;21;01msklearn\u001b[39;00m\u001b[38;5;21;01m.\u001b[39;00m\u001b[38;5;21;01mexternals\u001b[39;00m\u001b[38;5;21;01m.\u001b[39;00m\u001b[38;5;21;01msix\u001b[39;00m \u001b[38;5;28;01mimport\u001b[39;00m StringIO  \n\u001b[0;32m      3\u001b[0m \u001b[38;5;28;01mimport\u001b[39;00m \u001b[38;5;21;01mpydotplus\u001b[39;00m\n\u001b[0;32m      4\u001b[0m feature_cols\u001b[38;5;241m=\u001b[39mdf\u001b[38;5;241m.\u001b[39mdrop([\u001b[38;5;124m'\u001b[39m\u001b[38;5;124mpreventive_visit_gap_ind\u001b[39m\u001b[38;5;124m'\u001b[39m,\u001b[38;5;124m'\u001b[39m\u001b[38;5;124mUnnamed: 0\u001b[39m\u001b[38;5;124m'\u001b[39m,\u001b[38;5;124m'\u001b[39m\u001b[38;5;124mid\u001b[39m\u001b[38;5;124m'\u001b[39m], axis\u001b[38;5;241m=\u001b[39m\u001b[38;5;241m1\u001b[39m)\u001b[38;5;241m.\u001b[39mcolumns\n",
      "\u001b[1;31mModuleNotFoundError\u001b[0m: No module named 'sklearn.externals.six'"
     ]
    }
   ],
   "source": [
    "from sklearn.tree import export_graphviz\n",
    "from sklearn.externals.six import StringIO  \n",
    "import pydotplus\n",
    "feature_cols=df.drop(['preventive_visit_gap_ind','Unnamed: 0','id'], axis=1).columns\n",
    "dot_data = StringIO()\n",
    "export_graphviz(dtc, out_file=dot_data,  \n",
    "                filled=True, rounded=True,\n",
    "                special_characters=True,feature_names = feature_cols,class_names=['0','1'])\n",
    "graph = pydotplus.graph_from_dot_data(dot_data.getvalue())  \n",
    "graph.write_png('my_decision_tree.png')"
   ]
  },
  {
   "cell_type": "code",
   "execution_count": 23,
   "id": "3d6dc8da-a4bc-4e05-af3a-cc32dab20273",
   "metadata": {
    "scrolled": true
   },
   "outputs": [
    {
     "data": {
      "text/plain": [
       "[Text(0.5, 0.9285714285714286, 'x[95] <= 27.5\\ngini = 0.495\\nsamples = 1527904\\nvalue = [840844, 687060]'),\n",
       " Text(0.25, 0.7857142857142857, 'x[128] <= 85.5\\ngini = 0.398\\nsamples = 199391\\nvalue = [54666, 144725]'),\n",
       " Text(0.125, 0.6428571428571429, 'x[232] <= 0.5\\ngini = 0.477\\nsamples = 97488\\nvalue = [38397, 59091]'),\n",
       " Text(0.0625, 0.5, 'x[229] <= 0.5\\ngini = 0.489\\nsamples = 83965\\nvalue = [35885, 48080]'),\n",
       " Text(0.03125, 0.35714285714285715, 'x[300] <= 0.5\\ngini = 0.5\\nsamples = 42618\\nvalue = [21132, 21486]'),\n",
       " Text(0.015625, 0.21428571428571427, 'x[224] <= 7.5\\ngini = 0.498\\nsamples = 31522\\nvalue = [14788, 16734]'),\n",
       " Text(0.0078125, 0.07142857142857142, 'gini = 0.489\\nsamples = 3866\\nvalue = [2223, 1643]'),\n",
       " Text(0.0234375, 0.07142857142857142, 'gini = 0.496\\nsamples = 27656\\nvalue = [12565, 15091]'),\n",
       " Text(0.046875, 0.21428571428571427, 'x[199] <= 5.5\\ngini = 0.49\\nsamples = 11096\\nvalue = [6344, 4752]'),\n",
       " Text(0.0390625, 0.07142857142857142, 'gini = 0.453\\nsamples = 2871\\nvalue = [1874, 997]'),\n",
       " Text(0.0546875, 0.07142857142857142, 'gini = 0.496\\nsamples = 8225\\nvalue = [4470, 3755]'),\n",
       " Text(0.09375, 0.35714285714285715, 'x[236] <= 6.5\\ngini = 0.459\\nsamples = 41347\\nvalue = [14753, 26594]'),\n",
       " Text(0.078125, 0.21428571428571427, 'x[230] <= 0.5\\ngini = 0.382\\nsamples = 15909\\nvalue = [4093, 11816]'),\n",
       " Text(0.0703125, 0.07142857142857142, 'gini = 0.465\\nsamples = 7749\\nvalue = [2850, 4899]'),\n",
       " Text(0.0859375, 0.07142857142857142, 'gini = 0.258\\nsamples = 8160\\nvalue = [1243, 6917]'),\n",
       " Text(0.109375, 0.21428571428571427, 'x[224] <= 7.5\\ngini = 0.487\\nsamples = 25438\\nvalue = [10660, 14778]'),\n",
       " Text(0.1015625, 0.07142857142857142, 'gini = 0.494\\nsamples = 6533\\nvalue = [3637, 2896]'),\n",
       " Text(0.1171875, 0.07142857142857142, 'gini = 0.467\\nsamples = 18905\\nvalue = [7023, 11882]'),\n",
       " Text(0.1875, 0.5, 'x[374] <= 0.5\\ngini = 0.303\\nsamples = 13523\\nvalue = [2512, 11011]'),\n",
       " Text(0.15625, 0.35714285714285715, 'x[230] <= 0.5\\ngini = 0.216\\nsamples = 10135\\nvalue = [1245, 8890]'),\n",
       " Text(0.140625, 0.21428571428571427, 'x[74] <= 0.5\\ngini = 0.312\\nsamples = 4831\\nvalue = [936, 3895]'),\n",
       " Text(0.1328125, 0.07142857142857142, 'gini = 0.266\\nsamples = 3651\\nvalue = [576, 3075]'),\n",
       " Text(0.1484375, 0.07142857142857142, 'gini = 0.424\\nsamples = 1180\\nvalue = [360, 820]'),\n",
       " Text(0.171875, 0.21428571428571427, 'x[223] <= 5.5\\ngini = 0.11\\nsamples = 5304\\nvalue = [309, 4995]'),\n",
       " Text(0.1640625, 0.07142857142857142, 'gini = 0.376\\nsamples = 438\\nvalue = [110, 328]'),\n",
       " Text(0.1796875, 0.07142857142857142, 'gini = 0.078\\nsamples = 4866\\nvalue = [199, 4667]'),\n",
       " Text(0.21875, 0.35714285714285715, 'x[229] <= 0.5\\ngini = 0.468\\nsamples = 3388\\nvalue = [1267, 2121]'),\n",
       " Text(0.203125, 0.21428571428571427, 'x[101] <= 269.5\\ngini = 0.495\\nsamples = 1863\\nvalue = [841, 1022]'),\n",
       " Text(0.1953125, 0.07142857142857142, 'gini = 0.5\\nsamples = 1506\\nvalue = [730, 776]'),\n",
       " Text(0.2109375, 0.07142857142857142, 'gini = 0.429\\nsamples = 357\\nvalue = [111, 246]'),\n",
       " Text(0.234375, 0.21428571428571427, 'x[236] <= 6.5\\ngini = 0.403\\nsamples = 1525\\nvalue = [426, 1099]'),\n",
       " Text(0.2265625, 0.07142857142857142, 'gini = 0.307\\nsamples = 654\\nvalue = [124, 530]'),\n",
       " Text(0.2421875, 0.07142857142857142, 'gini = 0.453\\nsamples = 871\\nvalue = [302, 569]'),\n",
       " Text(0.375, 0.6428571428571429, 'x[232] <= 0.5\\ngini = 0.268\\nsamples = 101903\\nvalue = [16269, 85634]'),\n",
       " Text(0.3125, 0.5, 'x[72] <= 0.5\\ngini = 0.338\\nsamples = 64033\\nvalue = [13778, 50255]'),\n",
       " Text(0.28125, 0.35714285714285715, 'x[101] <= 349.5\\ngini = 0.298\\nsamples = 53976\\nvalue = [9819, 44157]'),\n",
       " Text(0.265625, 0.21428571428571427, 'x[229] <= 0.5\\ngini = 0.39\\nsamples = 22920\\nvalue = [6094, 16826]'),\n",
       " Text(0.2578125, 0.07142857142857142, 'gini = 0.455\\nsamples = 9387\\nvalue = [3293, 6094]'),\n",
       " Text(0.2734375, 0.07142857142857142, 'gini = 0.328\\nsamples = 13533\\nvalue = [2801, 10732]'),\n",
       " Text(0.296875, 0.21428571428571427, 'x[236] <= 6.5\\ngini = 0.211\\nsamples = 31056\\nvalue = [3725, 27331]'),\n",
       " Text(0.2890625, 0.07142857142857142, 'gini = 0.109\\nsamples = 15463\\nvalue = [893, 14570]'),\n",
       " Text(0.3046875, 0.07142857142857142, 'gini = 0.297\\nsamples = 15593\\nvalue = [2832, 12761]'),\n",
       " Text(0.34375, 0.35714285714285715, 'x[1] <= 7.5\\ngini = 0.477\\nsamples = 10057\\nvalue = [3959, 6098]'),\n",
       " Text(0.328125, 0.21428571428571427, 'x[236] <= 6.5\\ngini = 0.5\\nsamples = 3769\\nvalue = [1857, 1912]'),\n",
       " Text(0.3203125, 0.07142857142857142, 'gini = 0.462\\nsamples = 1186\\nvalue = [429, 757]'),\n",
       " Text(0.3359375, 0.07142857142857142, 'gini = 0.494\\nsamples = 2583\\nvalue = [1428, 1155]'),\n",
       " Text(0.359375, 0.21428571428571427, 'x[236] <= 6.5\\ngini = 0.445\\nsamples = 6288\\nvalue = [2102, 4186]'),\n",
       " Text(0.3515625, 0.07142857142857142, 'gini = 0.365\\nsamples = 2045\\nvalue = [492, 1553]'),\n",
       " Text(0.3671875, 0.07142857142857142, 'gini = 0.471\\nsamples = 4243\\nvalue = [1610, 2633]'),\n",
       " Text(0.4375, 0.5, 'x[373] <= 4.5\\ngini = 0.123\\nsamples = 37870\\nvalue = [2491, 35379]'),\n",
       " Text(0.40625, 0.35714285714285715, 'x[236] <= 6.5\\ngini = 0.106\\nsamples = 35715\\nvalue = [2000, 33715]'),\n",
       " Text(0.390625, 0.21428571428571427, 'x[230] <= 0.5\\ngini = 0.055\\nsamples = 19265\\nvalue = [545, 18720]'),\n",
       " Text(0.3828125, 0.07142857142857142, 'gini = 0.144\\nsamples = 5608\\nvalue = [439, 5169]'),\n",
       " Text(0.3984375, 0.07142857142857142, 'gini = 0.015\\nsamples = 13657\\nvalue = [106, 13551]'),\n",
       " Text(0.421875, 0.21428571428571427, 'x[224] <= 5.5\\ngini = 0.161\\nsamples = 16450\\nvalue = [1455, 14995]'),\n",
       " Text(0.4140625, 0.07142857142857142, 'gini = 0.346\\nsamples = 1401\\nvalue = [312, 1089]'),\n",
       " Text(0.4296875, 0.07142857142857142, 'gini = 0.14\\nsamples = 15049\\nvalue = [1143, 13906]'),\n",
       " Text(0.46875, 0.35714285714285715, 'x[111] <= 0.5\\ngini = 0.352\\nsamples = 2155\\nvalue = [491, 1664]'),\n",
       " Text(0.453125, 0.21428571428571427, 'x[101] <= 314.5\\ngini = 0.316\\nsamples = 1838\\nvalue = [361, 1477]'),\n",
       " Text(0.4453125, 0.07142857142857142, 'gini = 0.36\\nsamples = 1227\\nvalue = [289, 938]'),\n",
       " Text(0.4609375, 0.07142857142857142, 'gini = 0.208\\nsamples = 611\\nvalue = [72, 539]'),\n",
       " Text(0.484375, 0.21428571428571427, 'x[292] <= 0.5\\ngini = 0.484\\nsamples = 317\\nvalue = [130, 187]'),\n",
       " Text(0.4765625, 0.07142857142857142, 'gini = 0.404\\nsamples = 196\\nvalue = [55, 141]'),\n",
       " Text(0.4921875, 0.07142857142857142, 'gini = 0.471\\nsamples = 121\\nvalue = [75, 46]'),\n",
       " Text(0.75, 0.7857142857142857, 'x[229] <= 0.5\\ngini = 0.483\\nsamples = 1328513\\nvalue = [786178, 542335]'),\n",
       " Text(0.625, 0.6428571428571429, 'x[111] <= 0.5\\ngini = 0.453\\nsamples = 821485\\nvalue = [536808, 284677]'),\n",
       " Text(0.5625, 0.5, 'x[307] <= 0.5\\ngini = 0.465\\nsamples = 704594\\nvalue = [445878, 258716]'),\n",
       " Text(0.53125, 0.35714285714285715, 'x[281] <= 0.5\\ngini = 0.479\\nsamples = 422808\\nvalue = [254420, 168388]'),\n",
       " Text(0.515625, 0.21428571428571427, 'x[128] <= 93.5\\ngini = 0.468\\nsamples = 285118\\nvalue = [178667, 106451]'),\n",
       " Text(0.5078125, 0.07142857142857142, 'gini = 0.462\\nsamples = 256700\\nvalue = [163769, 92931]'),\n",
       " Text(0.5234375, 0.07142857142857142, 'gini = 0.499\\nsamples = 28418\\nvalue = [14898, 13520]'),\n",
       " Text(0.546875, 0.21428571428571427, 'x[371] <= 0.5\\ngini = 0.495\\nsamples = 137690\\nvalue = [75753, 61937]'),\n",
       " Text(0.5390625, 0.07142857142857142, 'gini = 0.5\\nsamples = 47785\\nvalue = [23633, 24152]'),\n",
       " Text(0.5546875, 0.07142857142857142, 'gini = 0.487\\nsamples = 89905\\nvalue = [52120, 37785]'),\n",
       " Text(0.59375, 0.35714285714285715, 'x[248] <= 0.5\\ngini = 0.436\\nsamples = 281786\\nvalue = [191458, 90328]'),\n",
       " Text(0.578125, 0.21428571428571427, 'x[226] <= 0.5\\ngini = 0.442\\nsamples = 266784\\nvalue = [178808, 87976]'),\n",
       " Text(0.5703125, 0.07142857142857142, 'gini = 0.425\\nsamples = 190627\\nvalue = [132224, 58403]'),\n",
       " Text(0.5859375, 0.07142857142857142, 'gini = 0.475\\nsamples = 76157\\nvalue = [46584, 29573]'),\n",
       " Text(0.609375, 0.21428571428571427, 'x[282] <= 0.5\\ngini = 0.264\\nsamples = 15002\\nvalue = [12650, 2352]'),\n",
       " Text(0.6015625, 0.07142857142857142, 'gini = 0.318\\nsamples = 6543\\nvalue = [5245, 1298]'),\n",
       " Text(0.6171875, 0.07142857142857142, 'gini = 0.218\\nsamples = 8459\\nvalue = [7405, 1054]'),\n",
       " Text(0.6875, 0.5, 'x[235] <= 6.5\\ngini = 0.346\\nsamples = 116891\\nvalue = [90930, 25961]'),\n",
       " Text(0.65625, 0.35714285714285715, 'x[163] <= 1344.0\\ngini = 0.324\\nsamples = 104899\\nvalue = [83557, 21342]'),\n",
       " Text(0.640625, 0.21428571428571427, 'x[128] <= 114.5\\ngini = 0.318\\nsamples = 103514\\nvalue = [83025, 20489]'),\n",
       " Text(0.6328125, 0.07142857142857142, 'gini = 0.303\\nsamples = 96168\\nvalue = [78271, 17897]'),\n",
       " Text(0.6484375, 0.07142857142857142, 'gini = 0.457\\nsamples = 7346\\nvalue = [4754, 2592]'),\n",
       " Text(0.671875, 0.21428571428571427, 'x[163] <= 1778.0\\ngini = 0.473\\nsamples = 1385\\nvalue = [532, 853]'),\n",
       " Text(0.6640625, 0.07142857142857142, 'gini = 0.452\\nsamples = 1235\\nvalue = [427, 808]'),\n",
       " Text(0.6796875, 0.07142857142857142, 'gini = 0.42\\nsamples = 150\\nvalue = [105, 45]'),\n",
       " Text(0.71875, 0.35714285714285715, 'x[193] <= 44.5\\ngini = 0.474\\nsamples = 11992\\nvalue = [7373, 4619]'),\n",
       " Text(0.703125, 0.21428571428571427, 'x[193] <= 21.5\\ngini = 0.436\\nsamples = 7243\\nvalue = [4914, 2329]'),\n",
       " Text(0.6953125, 0.07142857142857142, 'gini = 0.474\\nsamples = 409\\nvalue = [158, 251]'),\n",
       " Text(0.7109375, 0.07142857142857142, 'gini = 0.423\\nsamples = 6834\\nvalue = [4756, 2078]'),\n",
       " Text(0.734375, 0.21428571428571427, 'x[207] <= 7997.0\\ngini = 0.499\\nsamples = 4749\\nvalue = [2459, 2290]'),\n",
       " Text(0.7265625, 0.07142857142857142, 'gini = 0.481\\nsamples = 2801\\nvalue = [1675, 1126]'),\n",
       " Text(0.7421875, 0.07142857142857142, 'gini = 0.481\\nsamples = 1948\\nvalue = [784, 1164]'),\n",
       " Text(0.875, 0.6428571428571429, 'x[128] <= 119.5\\ngini = 0.5\\nsamples = 507028\\nvalue = [249370, 257658]'),\n",
       " Text(0.8125, 0.5, 'x[307] <= 0.5\\ngini = 0.5\\nsamples = 451056\\nvalue = [231454, 219602]'),\n",
       " Text(0.78125, 0.35714285714285715, 'x[325] <= 0.5\\ngini = 0.499\\nsamples = 299492\\nvalue = [144933, 154559]'),\n",
       " Text(0.765625, 0.21428571428571427, 'x[271] <= 0.5\\ngini = 0.496\\nsamples = 200248\\nvalue = [91725, 108523]'),\n",
       " Text(0.7578125, 0.07142857142857142, 'gini = 0.495\\nsamples = 194648\\nvalue = [87896, 106752]'),\n",
       " Text(0.7734375, 0.07142857142857142, 'gini = 0.432\\nsamples = 5600\\nvalue = [3829, 1771]'),\n",
       " Text(0.796875, 0.21428571428571427, 'x[139] <= 33.5\\ngini = 0.497\\nsamples = 99244\\nvalue = [53208, 46036]'),\n",
       " Text(0.7890625, 0.07142857142857142, 'gini = 0.493\\nsamples = 69841\\nvalue = [39148, 30693]'),\n",
       " Text(0.8046875, 0.07142857142857142, 'gini = 0.499\\nsamples = 29403\\nvalue = [14060, 15343]'),\n",
       " Text(0.84375, 0.35714285714285715, 'x[248] <= 0.5\\ngini = 0.49\\nsamples = 151564\\nvalue = [86521, 65043]'),\n",
       " Text(0.828125, 0.21428571428571427, 'x[226] <= 0.5\\ngini = 0.493\\nsamples = 144017\\nvalue = [80676, 63341]'),\n",
       " Text(0.8203125, 0.07142857142857142, 'gini = 0.484\\nsamples = 95482\\nvalue = [56390, 39092]'),\n",
       " Text(0.8359375, 0.07142857142857142, 'gini = 0.5\\nsamples = 48535\\nvalue = [24286, 24249]'),\n",
       " Text(0.859375, 0.21428571428571427, 'x[271] <= 0.5\\ngini = 0.349\\nsamples = 7547\\nvalue = [5845, 1702]'),\n",
       " Text(0.8515625, 0.07142857142857142, 'gini = 0.393\\nsamples = 4433\\nvalue = [3244, 1189]'),\n",
       " Text(0.8671875, 0.07142857142857142, 'gini = 0.275\\nsamples = 3114\\nvalue = [2601, 513]'),\n",
       " Text(0.9375, 0.5, 'x[232] <= 0.5\\ngini = 0.435\\nsamples = 55972\\nvalue = [17916, 38056]'),\n",
       " Text(0.90625, 0.35714285714285715, 'x[311] <= 0.5\\ngini = 0.478\\nsamples = 36699\\nvalue = [14496, 22203]'),\n",
       " Text(0.890625, 0.21428571428571427, 'x[101] <= 109.5\\ngini = 0.459\\nsamples = 26215\\nvalue = [9332, 16883]'),\n",
       " Text(0.8828125, 0.07142857142857142, 'gini = 0.476\\nsamples = 19777\\nvalue = [7706, 12071]'),\n",
       " Text(0.8984375, 0.07142857142857142, 'gini = 0.378\\nsamples = 6438\\nvalue = [1626, 4812]'),\n",
       " Text(0.921875, 0.21428571428571427, 'x[146] <= 20.5\\ngini = 0.5\\nsamples = 10484\\nvalue = [5164, 5320]'),\n",
       " Text(0.9140625, 0.07142857142857142, 'gini = 0.5\\nsamples = 7940\\nvalue = [4080, 3860]'),\n",
       " Text(0.9296875, 0.07142857142857142, 'gini = 0.489\\nsamples = 2544\\nvalue = [1084, 1460]'),\n",
       " Text(0.96875, 0.35714285714285715, 'x[370] <= 1.5\\ngini = 0.292\\nsamples = 19273\\nvalue = [3420, 15853]'),\n",
       " Text(0.953125, 0.21428571428571427, 'x[230] <= 0.5\\ngini = 0.222\\nsamples = 15114\\nvalue = [1918, 13196]'),\n",
       " Text(0.9453125, 0.07142857142857142, 'gini = 0.353\\nsamples = 4314\\nvalue = [986, 3328]'),\n",
       " Text(0.9609375, 0.07142857142857142, 'gini = 0.158\\nsamples = 10800\\nvalue = [932, 9868]'),\n",
       " Text(0.984375, 0.21428571428571427, 'x[311] <= 3.5\\ngini = 0.461\\nsamples = 4159\\nvalue = [1502, 2657]'),\n",
       " Text(0.9765625, 0.07142857142857142, 'gini = 0.427\\nsamples = 2490\\nvalue = [770, 1720]'),\n",
       " Text(0.9921875, 0.07142857142857142, 'gini = 0.492\\nsamples = 1669\\nvalue = [732, 937]')]"
      ]
     },
     "execution_count": 23,
     "metadata": {},
     "output_type": "execute_result"
    },
    {
     "data": {
      "image/png": "[encoded data removed]",
      "text/plain": [
       "<Figure size 640x480 with 1 Axes>"
      ]
     },
     "metadata": {},
     "output_type": "display_data"
    }
   ],
   "source": [
    "plot_tree(dtc)"
   ]
  },
  {
   "cell_type": "code",
   "execution_count": 29,
   "id": "1803e6d3-5e50-4749-8dfa-35a2f7d9463c",
   "metadata": {},
   "outputs": [],
   "source": [
    "feature_cols=df.drop(['preventive_visit_gap_ind','Unnamed: 0','id'], axis=1).columns"
   ]
  },
  {
   "cell_type": "code",
   "execution_count": 60,
   "id": "ba10f8c4-296b-4ecf-8a5f-259c291df313",
   "metadata": {},
   "outputs": [
    {
     "data": {
      "text/plain": [
       "'veteran_ind'"
      ]
     },
     "execution_count": 60,
     "metadata": {},
     "output_type": "execute_result"
    }
   ],
   "source": [
    "feature_cols[232]"
   ]
  },
  {
   "cell_type": "code",
   "execution_count": 30,
   "id": "3a9e754e-ac48-4c4f-ba4c-0b4850c0c00c",
   "metadata": {},
   "outputs": [],
   "source": [
    "feat_imp=pd.DataFrame({'cols':feature_cols,'value':dtc.feature_importances_})"
   ]
  },
  {
   "cell_type": "code",
   "execution_count": 6,
   "id": "77510ce6-9877-444a-a291-9e828ad88615",
   "metadata": {},
   "outputs": [],
   "source": [
    "import numpy as np"
   ]
  },
  {
   "cell_type": "code",
   "execution_count": 45,
   "id": "46a72a46-ff9b-483e-b52d-96514ee1b1bc",
   "metadata": {},
   "outputs": [
    {
     "data": {
      "text/plain": [
       "1.0"
      ]
     },
     "execution_count": 45,
     "metadata": {},
     "output_type": "execute_result"
    }
   ],
   "source": [
    "np.sum(feat_imp['value'])"
   ]
  },
  {
   "cell_type": "code",
   "execution_count": 43,
   "id": "22ae50fa-267c-4e10-9a04-ff3236738557",
   "metadata": {},
   "outputs": [],
   "source": [
    "feat_imp['percentage']=(feat_imp['value']/)*100"
   ]
  },
  {
   "cell_type": "code",
   "execution_count": 44,
   "id": "74783a9d-b969-41a6-8961-4781565f5917",
   "metadata": {},
   "outputs": [
    {
     "data": {
      "text/html": [
       "<div>\n",
       "<style scoped>\n",
       "    .dataframe tbody tr th:only-of-type {\n",
       "        vertical-align: middle;\n",
       "    }\n",
       "\n",
       "    .dataframe tbody tr th {\n",
       "        vertical-align: top;\n",
       "    }\n",
       "\n",
       "    .dataframe thead th {\n",
       "        text-align: right;\n",
       "    }\n",
       "</style>\n",
       "<table border=\"1\" class=\"dataframe\">\n",
       "  <thead>\n",
       "    <tr style=\"text-align: right;\">\n",
       "      <th></th>\n",
       "      <th>cols</th>\n",
       "      <th>value</th>\n",
       "      <th>percentage</th>\n",
       "    </tr>\n",
       "  </thead>\n",
       "  <tbody>\n",
       "    <tr>\n",
       "      <th>95</th>\n",
       "      <td>total_net_paid_pmpm_cost</td>\n",
       "      <td>0.402730</td>\n",
       "      <td>40.273036</td>\n",
       "    </tr>\n",
       "    <tr>\n",
       "      <th>229</th>\n",
       "      <td>generic_grouper</td>\n",
       "      <td>0.201173</td>\n",
       "      <td>20.117338</td>\n",
       "    </tr>\n",
       "    <tr>\n",
       "      <th>128</th>\n",
       "      <td>rx_days_since_last_script</td>\n",
       "      <td>0.117661</td>\n",
       "      <td>11.766081</td>\n",
       "    </tr>\n",
       "    <tr>\n",
       "      <th>111</th>\n",
       "      <td>riskarr_downside</td>\n",
       "      <td>0.048885</td>\n",
       "      <td>4.888511</td>\n",
       "    </tr>\n",
       "    <tr>\n",
       "      <th>232</th>\n",
       "      <td>veteran_ind</td>\n",
       "      <td>0.041660</td>\n",
       "      <td>4.166049</td>\n",
       "    </tr>\n",
       "    <tr>\n",
       "      <th>...</th>\n",
       "      <td>...</td>\n",
       "      <td>...</td>\n",
       "      <td>...</td>\n",
       "    </tr>\n",
       "    <tr>\n",
       "      <th>125</th>\n",
       "      <td>rx_tier_2_pmpm_ct</td>\n",
       "      <td>0.000000</td>\n",
       "      <td>0.000000</td>\n",
       "    </tr>\n",
       "    <tr>\n",
       "      <th>124</th>\n",
       "      <td>rx_tier_1_pmpm_ct</td>\n",
       "      <td>0.000000</td>\n",
       "      <td>0.000000</td>\n",
       "    </tr>\n",
       "    <tr>\n",
       "      <th>123</th>\n",
       "      <td>rx_overall_pmpm_ct</td>\n",
       "      <td>0.000000</td>\n",
       "      <td>0.000000</td>\n",
       "    </tr>\n",
       "    <tr>\n",
       "      <th>122</th>\n",
       "      <td>rx_overall_dist_gpi6_pmpm_ct</td>\n",
       "      <td>0.000000</td>\n",
       "      <td>0.000000</td>\n",
       "    </tr>\n",
       "    <tr>\n",
       "      <th>375</th>\n",
       "      <td>rucc_category</td>\n",
       "      <td>0.000000</td>\n",
       "      <td>0.000000</td>\n",
       "    </tr>\n",
       "  </tbody>\n",
       "</table>\n",
       "<p>376 rows × 3 columns</p>\n",
       "</div>"
      ],
      "text/plain": [
       "                             cols     value  percentage\n",
       "95       total_net_paid_pmpm_cost  0.402730   40.273036\n",
       "229               generic_grouper  0.201173   20.117338\n",
       "128     rx_days_since_last_script  0.117661   11.766081\n",
       "111              riskarr_downside  0.048885    4.888511\n",
       "232                   veteran_ind  0.041660    4.166049\n",
       "..                            ...       ...         ...\n",
       "125             rx_tier_2_pmpm_ct  0.000000    0.000000\n",
       "124             rx_tier_1_pmpm_ct  0.000000    0.000000\n",
       "123            rx_overall_pmpm_ct  0.000000    0.000000\n",
       "122  rx_overall_dist_gpi6_pmpm_ct  0.000000    0.000000\n",
       "375                 rucc_category  0.000000    0.000000\n",
       "\n",
       "[376 rows x 3 columns]"
      ]
     },
     "execution_count": 44,
     "metadata": {},
     "output_type": "execute_result"
    }
   ],
   "source": [
    "feat_imp.sort_values(by='value',ascending=False)"
   ]
  },
  {
   "cell_type": "code",
   "execution_count": 7,
   "id": "9ba0a0df-e76f-4199-8eb1-86322895d23d",
   "metadata": {},
   "outputs": [],
   "source": [
    "from sklearn.metrics import *"
   ]
  },
  {
   "cell_type": "code",
   "execution_count": 49,
   "id": "729163b6-8ce3-471b-a9f0-4e2c12d12601",
   "metadata": {},
   "outputs": [
    {
     "data": {
      "text/plain": [
       "(array([0.        , 0.35964079, 1.        ]),\n",
       " array([0.        , 0.63551134, 1.        ]),\n",
       " array([inf,  1.,  0.]))"
      ]
     },
     "execution_count": 49,
     "metadata": {},
     "output_type": "execute_result"
    }
   ],
   "source": [
    "roc_curve(y_pred,df['preventive_visit_gap_ind'])"
   ]
  },
  {
   "cell_type": "code",
   "execution_count": 50,
   "id": "09ab1343-7496-4b51-ba02-d8d7a55e5c01",
   "metadata": {},
   "outputs": [
    {
     "data": {
      "text/plain": [
       "array([[659091, 370161],\n",
       "       [181753, 316899]], dtype=int64)"
      ]
     },
     "execution_count": 50,
     "metadata": {},
     "output_type": "execute_result"
    }
   ],
   "source": [
    "confusion_matrix(y_pred,df['preventive_visit_gap_ind'])"
   ]
  },
  {
   "cell_type": "code",
   "execution_count": 52,
   "id": "15020b9b-93cc-4533-988e-8920086bdac4",
   "metadata": {},
   "outputs": [
    {
     "name": "stdout",
     "output_type": "stream",
     "text": [
      "              precision    recall  f1-score   support\n",
      "\n",
      "           0       0.78      0.64      0.70   1029252\n",
      "           1       0.46      0.64      0.53    498652\n",
      "\n",
      "    accuracy                           0.64   1527904\n",
      "   macro avg       0.62      0.64      0.62   1527904\n",
      "weighted avg       0.68      0.64      0.65   1527904\n",
      "\n"
     ]
    }
   ],
   "source": [
    "print(classification_report(y_pred,df['preventive_visit_gap_ind']))"
   ]
  },
  {
   "cell_type": "code",
   "execution_count": 54,
   "id": "4baf6b50-fdbd-488c-b3d7-bc6f2ed85bce",
   "metadata": {},
   "outputs": [
    {
     "data": {
      "text/plain": [
       "0.6379352754449811"
      ]
     },
     "execution_count": 54,
     "metadata": {},
     "output_type": "execute_result"
    }
   ],
   "source": [
    "roc_auc_score(y_pred,df['preventive_visit_gap_ind'])"
   ]
  },
  {
   "cell_type": "code",
   "execution_count": 57,
   "id": "8905c5d8-54f4-498b-89e8-e08eee8b5ef1",
   "metadata": {},
   "outputs": [
    {
     "data": {
      "text/html": [
       "<div>\n",
       "<style scoped>\n",
       "    .dataframe tbody tr th:only-of-type {\n",
       "        vertical-align: middle;\n",
       "    }\n",
       "\n",
       "    .dataframe tbody tr th {\n",
       "        vertical-align: top;\n",
       "    }\n",
       "\n",
       "    .dataframe thead th {\n",
       "        text-align: right;\n",
       "    }\n",
       "</style>\n",
       "<table border=\"1\" class=\"dataframe\">\n",
       "  <thead>\n",
       "    <tr style=\"text-align: right;\">\n",
       "      <th></th>\n",
       "      <th>count</th>\n",
       "      <th>mean</th>\n",
       "      <th>std</th>\n",
       "      <th>min</th>\n",
       "      <th>25%</th>\n",
       "      <th>50%</th>\n",
       "      <th>75%</th>\n",
       "      <th>max</th>\n",
       "    </tr>\n",
       "    <tr>\n",
       "      <th>preventive_visit_gap_ind</th>\n",
       "      <th></th>\n",
       "      <th></th>\n",
       "      <th></th>\n",
       "      <th></th>\n",
       "      <th></th>\n",
       "      <th></th>\n",
       "      <th></th>\n",
       "      <th></th>\n",
       "    </tr>\n",
       "  </thead>\n",
       "  <tbody>\n",
       "    <tr>\n",
       "      <th>0</th>\n",
       "      <td>840844.0</td>\n",
       "      <td>584.218637</td>\n",
       "      <td>1373.165364</td>\n",
       "      <td>0.0</td>\n",
       "      <td>89.0</td>\n",
       "      <td>200.0</td>\n",
       "      <td>501.0</td>\n",
       "      <td>259272.0</td>\n",
       "    </tr>\n",
       "    <tr>\n",
       "      <th>1</th>\n",
       "      <td>687060.0</td>\n",
       "      <td>569.759634</td>\n",
       "      <td>1471.314565</td>\n",
       "      <td>0.0</td>\n",
       "      <td>39.0</td>\n",
       "      <td>140.0</td>\n",
       "      <td>443.0</td>\n",
       "      <td>182149.0</td>\n",
       "    </tr>\n",
       "  </tbody>\n",
       "</table>\n",
       "</div>"
      ],
      "text/plain": [
       "                             count        mean          std  min   25%    50%  \\\n",
       "preventive_visit_gap_ind                                                        \n",
       "0                         840844.0  584.218637  1373.165364  0.0  89.0  200.0   \n",
       "1                         687060.0  569.759634  1471.314565  0.0  39.0  140.0   \n",
       "\n",
       "                            75%       max  \n",
       "preventive_visit_gap_ind                   \n",
       "0                         501.0  259272.0  \n",
       "1                         443.0  182149.0  "
      ]
     },
     "execution_count": 57,
     "metadata": {},
     "output_type": "execute_result"
    }
   ],
   "source": [
    "df.groupby('preventive_visit_gap_ind')['total_net_paid_pmpm_cost'].describe()"
   ]
  },
  {
   "cell_type": "code",
   "execution_count": 8,
   "id": "0002c98d-6fc7-496c-9259-9d69d202a1ff",
   "metadata": {},
   "outputs": [],
   "source": [
    "import matplotlib.pyplot as plt\n",
    "import seaborn as sns"
   ]
  },
  {
   "cell_type": "code",
   "execution_count": 77,
   "id": "e7673570-1a18-4425-bd1b-7aae5ed16d6a",
   "metadata": {},
   "outputs": [
    {
     "name": "stderr",
     "output_type": "stream",
     "text": [
      "C:\\Users\\shanm\\AppData\\Local\\Temp\\ipykernel_11196\\3613554044.py:1: UserWarning: \n",
      "\n",
      "`distplot` is a deprecated function and will be removed in seaborn v0.14.0.\n",
      "\n",
      "Please adapt your code to use either `displot` (a figure-level function with\n",
      "similar flexibility) or `histplot` (an axes-level function for histograms).\n",
      "\n",
      "For a guide to updating your code to use the new functions, please see\n",
      "https://gist.github.com/mwaskom/de44147ed2974457ad6372750bbe5751\n",
      "\n",
      "  sns.distplot(df[df['preventive_visit_gap_ind']==0]['total_net_paid_pmpm_cost'], hist=True, kde=True,\n"
     ]
    },
    {
     "data": {
      "text/plain": [
       "(0.0, 20000.0)"
      ]
     },
     "execution_count": 77,
     "metadata": {},
     "output_type": "execute_result"
    },
    {
     "data": {
      "image/png": "[encoded data removed]",
      "text/plain": [
       "<Figure size 640x480 with 1 Axes>"
      ]
     },
     "metadata": {},
     "output_type": "display_data"
    }
   ],
   "source": [
    "sns.distplot(df[df['preventive_visit_gap_ind']==0]['total_net_paid_pmpm_cost'], hist=True, kde=True, \n",
    "             bins=int(180/5), color = 'darkblue', \n",
    "             hist_kws={'edgecolor':'black'},\n",
    "             kde_kws={'linewidth': 4})\n",
    "plt.xlim(0, 20000)  # Show up to the 95th percentile for clarity\n"
   ]
  },
  {
   "cell_type": "code",
   "execution_count": 78,
   "id": "7a2ff9b4-4ff5-49d1-98fc-ebcf3fd3dab3",
   "metadata": {},
   "outputs": [
    {
     "name": "stderr",
     "output_type": "stream",
     "text": [
      "C:\\Users\\shanm\\AppData\\Local\\Temp\\ipykernel_11196\\2062746203.py:1: UserWarning: \n",
      "\n",
      "`distplot` is a deprecated function and will be removed in seaborn v0.14.0.\n",
      "\n",
      "Please adapt your code to use either `displot` (a figure-level function with\n",
      "similar flexibility) or `histplot` (an axes-level function for histograms).\n",
      "\n",
      "For a guide to updating your code to use the new functions, please see\n",
      "https://gist.github.com/mwaskom/de44147ed2974457ad6372750bbe5751\n",
      "\n",
      "  sns.distplot(df[df['preventive_visit_gap_ind']==1]['total_net_paid_pmpm_cost'], hist=True, kde=True,\n"
     ]
    },
    {
     "data": {
      "text/plain": [
       "(0.0, 20000.0)"
      ]
     },
     "execution_count": 78,
     "metadata": {},
     "output_type": "execute_result"
    },
    {
     "data": {
      "image/png": "[encoded data removed]",
      "text/plain": [
       "<Figure size 640x480 with 1 Axes>"
      ]
     },
     "metadata": {},
     "output_type": "display_data"
    }
   ],
   "source": [
    "sns.distplot(df[df['preventive_visit_gap_ind']==1]['total_net_paid_pmpm_cost'], hist=True, kde=True, \n",
    "             bins=int(180/5), color = 'darkblue', \n",
    "             hist_kws={'edgecolor':'black'},\n",
    "             kde_kws={'linewidth': 4})\n",
    "plt.xlim(0, 20000)  # Show up to the 95th percentile for clarity\n"
   ]
  },
  {
   "cell_type": "code",
   "execution_count": 82,
   "id": "45d4cc3b-9d99-4c58-a795-6713ad825c9d",
   "metadata": {},
   "outputs": [
    {
     "data": {
      "text/plain": [
       "preventive_visit_gap_ind\n",
       "1    144725\n",
       "0     54666\n",
       "Name: count, dtype: int64"
      ]
     },
     "execution_count": 82,
     "metadata": {},
     "output_type": "execute_result"
    }
   ],
   "source": [
    "df[df['total_net_paid_pmpm_cost']<27.5]['preventive_visit_gap_ind'].value_counts()"
   ]
  },
  {
   "cell_type": "code",
   "execution_count": 83,
   "id": "5426d9c0-6320-45e2-8c78-d8ed9a5dd47a",
   "metadata": {},
   "outputs": [
    {
     "data": {
      "text/plain": [
       "27.416483191317564"
      ]
     },
     "execution_count": 83,
     "metadata": {},
     "output_type": "execute_result"
    }
   ],
   "source": [
    "(54666/(54666+144725))*100"
   ]
  },
  {
   "cell_type": "code",
   "execution_count": 81,
   "id": "b37b342a-9b31-498b-9b81-03b8ea18612f",
   "metadata": {},
   "outputs": [
    {
     "data": {
      "text/plain": [
       "preventive_visit_gap_ind\n",
       "0    786178\n",
       "1    542335\n",
       "Name: count, dtype: int64"
      ]
     },
     "execution_count": 81,
     "metadata": {},
     "output_type": "execute_result"
    }
   ],
   "source": [
    "df[df['total_net_paid_pmpm_cost']>=27.5]['preventive_visit_gap_ind'].value_counts()"
   ]
  },
  {
   "cell_type": "code",
   "execution_count": 84,
   "id": "416e9594-8d85-4fc7-bba1-f62b5212a717",
   "metadata": {},
   "outputs": [
    {
     "data": {
      "text/plain": [
       "0.4082270929979609"
      ]
     },
     "execution_count": 84,
     "metadata": {},
     "output_type": "execute_result"
    }
   ],
   "source": [
    "542335/(542335+786178)"
   ]
  },
  {
   "cell_type": "code",
   "execution_count": 9,
   "id": "fa9d5247",
   "metadata": {},
   "outputs": [],
   "source": [
    "from sklearn.ensemble import GradientBoostingClassifier, HistGradientBoostingClassifier"
   ]
  },
  {
   "cell_type": "code",
   "execution_count": 20,
   "id": "7c0531fc-0781-4009-b5f4-5e7222a661ab",
   "metadata": {},
   "outputs": [],
   "source": [
    "feature_cols=df.drop(['preventive_visit_gap_ind','Unnamed: 0','id'], axis=1).columns"
   ]
  },
  {
   "cell_type": "code",
   "execution_count": 10,
   "id": "0685a6d4",
   "metadata": {},
   "outputs": [
    {
     "data": {
      "text/html": [
       "<style>#sk-container-id-1 {color: black;}#sk-container-id-1 pre{padding: 0;}#sk-container-id-1 div.sk-toggleable {background-color: white;}#sk-container-id-1 label.sk-toggleable__label {cursor: pointer;display: block;width: 100%;margin-bottom: 0;padding: 0.3em;box-sizing: border-box;text-align: center;}#sk-container-id-1 label.sk-toggleable__label-arrow:before {content: \"▸\";float: left;margin-right: 0.25em;color: #696969;}#sk-container-id-1 label.sk-toggleable__label-arrow:hover:before {color: black;}#sk-container-id-1 div.sk-estimator:hover label.sk-toggleable__label-arrow:before {color: black;}#sk-container-id-1 div.sk-toggleable__content {max-height: 0;max-width: 0;overflow: hidden;text-align: left;background-color: #f0f8ff;}#sk-container-id-1 div.sk-toggleable__content pre {margin: 0.2em;color: black;border-radius: 0.25em;background-color: #f0f8ff;}#sk-container-id-1 input.sk-toggleable__control:checked~div.sk-toggleable__content {max-height: 200px;max-width: 100%;overflow: auto;}#sk-container-id-1 input.sk-toggleable__control:checked~label.sk-toggleable__label-arrow:before {content: \"▾\";}#sk-container-id-1 div.sk-estimator input.sk-toggleable__control:checked~label.sk-toggleable__label {background-color: #d4ebff;}#sk-container-id-1 div.sk-label input.sk-toggleable__control:checked~label.sk-toggleable__label {background-color: #d4ebff;}#sk-container-id-1 input.sk-hidden--visually {border: 0;clip: rect(1px 1px 1px 1px);clip: rect(1px, 1px, 1px, 1px);height: 1px;margin: -1px;overflow: hidden;padding: 0;position: absolute;width: 1px;}#sk-container-id-1 div.sk-estimator {font-family: monospace;background-color: #f0f8ff;border: 1px dotted black;border-radius: 0.25em;box-sizing: border-box;margin-bottom: 0.5em;}#sk-container-id-1 div.sk-estimator:hover {background-color: #d4ebff;}#sk-container-id-1 div.sk-parallel-item::after {content: \"\";width: 100%;border-bottom: 1px solid gray;flex-grow: 1;}#sk-container-id-1 div.sk-label:hover label.sk-toggleable__label {background-color: #d4ebff;}#sk-container-id-1 div.sk-serial::before {content: \"\";position: absolute;border-left: 1px solid gray;box-sizing: border-box;top: 0;bottom: 0;left: 50%;z-index: 0;}#sk-container-id-1 div.sk-serial {display: flex;flex-direction: column;align-items: center;background-color: white;padding-right: 0.2em;padding-left: 0.2em;position: relative;}#sk-container-id-1 div.sk-item {position: relative;z-index: 1;}#sk-container-id-1 div.sk-parallel {display: flex;align-items: stretch;justify-content: center;background-color: white;position: relative;}#sk-container-id-1 div.sk-item::before, #sk-container-id-1 div.sk-parallel-item::before {content: \"\";position: absolute;border-left: 1px solid gray;box-sizing: border-box;top: 0;bottom: 0;left: 50%;z-index: -1;}#sk-container-id-1 div.sk-parallel-item {display: flex;flex-direction: column;z-index: 1;position: relative;background-color: white;}#sk-container-id-1 div.sk-parallel-item:first-child::after {align-self: flex-end;width: 50%;}#sk-container-id-1 div.sk-parallel-item:last-child::after {align-self: flex-start;width: 50%;}#sk-container-id-1 div.sk-parallel-item:only-child::after {width: 0;}#sk-container-id-1 div.sk-dashed-wrapped {border: 1px dashed gray;margin: 0 0.4em 0.5em 0.4em;box-sizing: border-box;padding-bottom: 0.4em;background-color: white;}#sk-container-id-1 div.sk-label label {font-family: monospace;font-weight: bold;display: inline-block;line-height: 1.2em;}#sk-container-id-1 div.sk-label-container {text-align: center;}#sk-container-id-1 div.sk-container {/* jupyter's `normalize.less` sets `[hidden] { display: none; }` but bootstrap.min.css set `[hidden] { display: none !important; }` so we also need the `!important` here to be able to override the default hidden behavior on the sphinx rendered scikit-learn.org. See: https://github.com/scikit-learn/scikit-learn/issues/21755 */display: inline-block !important;position: relative;}#sk-container-id-1 div.sk-text-repr-fallback {display: none;}</style><div id=\"sk-container-id-1\" class=\"sk-top-container\"><div class=\"sk-text-repr-fallback\"><pre>HistGradientBoostingClassifier(l2_regularization=0.3, max_depth=6,\n",
       "                               max_iter=1000)</pre><b>In a Jupyter environment, please rerun this cell to show the HTML representation or trust the notebook. <br />On GitHub, the HTML representation is unable to render, please try loading this page with nbviewer.org.</b></div><div class=\"sk-container\" hidden><div class=\"sk-item\"><div class=\"sk-estimator sk-toggleable\"><input class=\"sk-toggleable__control sk-hidden--visually\" id=\"sk-estimator-id-1\" type=\"checkbox\" checked><label for=\"sk-estimator-id-1\" class=\"sk-toggleable__label sk-toggleable__label-arrow\">HistGradientBoostingClassifier</label><div class=\"sk-toggleable__content\"><pre>HistGradientBoostingClassifier(l2_regularization=0.3, max_depth=6,\n",
       "                               max_iter=1000)</pre></div></div></div></div></div>"
      ],
      "text/plain": [
       "HistGradientBoostingClassifier(l2_regularization=0.3, max_depth=6,\n",
       "                               max_iter=1000)"
      ]
     },
     "execution_count": 10,
     "metadata": {},
     "output_type": "execute_result"
    }
   ],
   "source": [
    "hgbc=HistGradientBoostingClassifier(max_iter=1000,max_depth=6 , l2_regularization=0.3)\n",
    "hgbc.fit(df[feature_cols], df['preventive_visit_gap_ind'])"
   ]
  },
  {
   "cell_type": "code",
   "execution_count": 13,
   "id": "07d64c95-5685-46f8-af32-9723702637bc",
   "metadata": {},
   "outputs": [],
   "source": [
    "y_preds=hgbc.predict(df[feature_cols])"
   ]
  },
  {
   "cell_type": "code",
   "execution_count": 14,
   "id": "a326243e-f939-4eae-a964-cd23c07ccb58",
   "metadata": {},
   "outputs": [
    {
     "data": {
      "text/plain": [
       "array([[690659, 291656],\n",
       "       [150185, 395404]], dtype=int64)"
      ]
     },
     "execution_count": 14,
     "metadata": {},
     "output_type": "execute_result"
    }
   ],
   "source": [
    "confusion_matrix(y_preds,df['preventive_visit_gap_ind'])"
   ]
  },
  {
   "cell_type": "code",
   "execution_count": 16,
   "id": "802802a5-cbdd-4d68-a6a0-62e189abaf7c",
   "metadata": {},
   "outputs": [
    {
     "name": "stdout",
     "output_type": "stream",
     "text": [
      "              precision    recall  f1-score   support\n",
      "\n",
      "           0       0.82      0.70      0.76    982315\n",
      "           1       0.58      0.72      0.64    545589\n",
      "\n",
      "    accuracy                           0.71   1527904\n",
      "   macro avg       0.70      0.71      0.70   1527904\n",
      "weighted avg       0.73      0.71      0.72   1527904\n",
      "\n"
     ]
    }
   ],
   "source": [
    "print(classification_report(y_preds,df['preventive_visit_gap_ind']))"
   ]
  },
  {
   "cell_type": "code",
   "execution_count": 18,
   "id": "838cbded-c445-45dd-92e8-2f8916649145",
   "metadata": {},
   "outputs": [
    {
     "ename": "AttributeError",
     "evalue": "'HistGradientBoostingClassifier' object has no attribute 'feature_importances_'",
     "output_type": "error",
     "traceback": [
      "\u001b[1;31m---------------------------------------------------------------------------\u001b[0m",
      "\u001b[1;31mAttributeError\u001b[0m                            Traceback (most recent call last)",
      "Cell \u001b[1;32mIn[18], line 1\u001b[0m\n\u001b[1;32m----> 1\u001b[0m feat_colum \u001b[38;5;241m=\u001b[39m pd\u001b[38;5;241m.\u001b[39mDataFrame({\u001b[38;5;124m'\u001b[39m\u001b[38;5;124mcolumns\u001b[39m\u001b[38;5;124m'\u001b[39m: feature_cols, \u001b[38;5;124m'\u001b[39m\u001b[38;5;124mvalue\u001b[39m\u001b[38;5;124m'\u001b[39m: \u001b[43mhgbc\u001b[49m\u001b[38;5;241;43m.\u001b[39;49m\u001b[43mfeature_importances_\u001b[49m})\n",
      "\u001b[1;31mAttributeError\u001b[0m: 'HistGradientBoostingClassifier' object has no attribute 'feature_importances_'"
     ]
    }
   ],
   "source": [
    "feat_colum = pd.DataFrame({'columns': feature_cols, 'value': hgbc.feature_importances_})\n"
   ]
  },
  {
   "cell_type": "code",
   "execution_count": 24,
   "id": "a8b9a0e1-71cb-41b6-bd04-893571c6f6d0",
   "metadata": {},
   "outputs": [],
   "source": [
    "del hgbc"
   ]
  },
  {
   "cell_type": "code",
   "execution_count": 20,
   "id": "f12b12cb-32dd-410c-9dd7-b77296ec2e62",
   "metadata": {},
   "outputs": [],
   "source": [
    "from sklearn.inspection import permutation_importance"
   ]
  },
  {
   "cell_type": "code",
   "execution_count": 23,
   "id": "43da3c5b-0820-49ab-84ba-a9614860c348",
   "metadata": {},
   "outputs": [],
   "source": [
    "import xgboost as xgb"
   ]
  },
  {
   "cell_type": "code",
   "execution_count": 2,
   "id": "7d21689c-1cbb-4e51-beba-374ddcbe0803",
   "metadata": {},
   "outputs": [],
   "source": [
    "from xgboost import XGBClassifier"
   ]
  },
  {
   "cell_type": "code",
   "execution_count": 29,
   "id": "4f03b94a-b264-4494-87cf-e166b483e81f",
   "metadata": {},
   "outputs": [
    {
     "data": {
      "text/html": [
       "<style>#sk-container-id-3 {color: black;}#sk-container-id-3 pre{padding: 0;}#sk-container-id-3 div.sk-toggleable {background-color: white;}#sk-container-id-3 label.sk-toggleable__label {cursor: pointer;display: block;width: 100%;margin-bottom: 0;padding: 0.3em;box-sizing: border-box;text-align: center;}#sk-container-id-3 label.sk-toggleable__label-arrow:before {content: \"▸\";float: left;margin-right: 0.25em;color: #696969;}#sk-container-id-3 label.sk-toggleable__label-arrow:hover:before {color: black;}#sk-container-id-3 div.sk-estimator:hover label.sk-toggleable__label-arrow:before {color: black;}#sk-container-id-3 div.sk-toggleable__content {max-height: 0;max-width: 0;overflow: hidden;text-align: left;background-color: #f0f8ff;}#sk-container-id-3 div.sk-toggleable__content pre {margin: 0.2em;color: black;border-radius: 0.25em;background-color: #f0f8ff;}#sk-container-id-3 input.sk-toggleable__control:checked~div.sk-toggleable__content {max-height: 200px;max-width: 100%;overflow: auto;}#sk-container-id-3 input.sk-toggleable__control:checked~label.sk-toggleable__label-arrow:before {content: \"▾\";}#sk-container-id-3 div.sk-estimator input.sk-toggleable__control:checked~label.sk-toggleable__label {background-color: #d4ebff;}#sk-container-id-3 div.sk-label input.sk-toggleable__control:checked~label.sk-toggleable__label {background-color: #d4ebff;}#sk-container-id-3 input.sk-hidden--visually {border: 0;clip: rect(1px 1px 1px 1px);clip: rect(1px, 1px, 1px, 1px);height: 1px;margin: -1px;overflow: hidden;padding: 0;position: absolute;width: 1px;}#sk-container-id-3 div.sk-estimator {font-family: monospace;background-color: #f0f8ff;border: 1px dotted black;border-radius: 0.25em;box-sizing: border-box;margin-bottom: 0.5em;}#sk-container-id-3 div.sk-estimator:hover {background-color: #d4ebff;}#sk-container-id-3 div.sk-parallel-item::after {content: \"\";width: 100%;border-bottom: 1px solid gray;flex-grow: 1;}#sk-container-id-3 div.sk-label:hover label.sk-toggleable__label {background-color: #d4ebff;}#sk-container-id-3 div.sk-serial::before {content: \"\";position: absolute;border-left: 1px solid gray;box-sizing: border-box;top: 0;bottom: 0;left: 50%;z-index: 0;}#sk-container-id-3 div.sk-serial {display: flex;flex-direction: column;align-items: center;background-color: white;padding-right: 0.2em;padding-left: 0.2em;position: relative;}#sk-container-id-3 div.sk-item {position: relative;z-index: 1;}#sk-container-id-3 div.sk-parallel {display: flex;align-items: stretch;justify-content: center;background-color: white;position: relative;}#sk-container-id-3 div.sk-item::before, #sk-container-id-3 div.sk-parallel-item::before {content: \"\";position: absolute;border-left: 1px solid gray;box-sizing: border-box;top: 0;bottom: 0;left: 50%;z-index: -1;}#sk-container-id-3 div.sk-parallel-item {display: flex;flex-direction: column;z-index: 1;position: relative;background-color: white;}#sk-container-id-3 div.sk-parallel-item:first-child::after {align-self: flex-end;width: 50%;}#sk-container-id-3 div.sk-parallel-item:last-child::after {align-self: flex-start;width: 50%;}#sk-container-id-3 div.sk-parallel-item:only-child::after {width: 0;}#sk-container-id-3 div.sk-dashed-wrapped {border: 1px dashed gray;margin: 0 0.4em 0.5em 0.4em;box-sizing: border-box;padding-bottom: 0.4em;background-color: white;}#sk-container-id-3 div.sk-label label {font-family: monospace;font-weight: bold;display: inline-block;line-height: 1.2em;}#sk-container-id-3 div.sk-label-container {text-align: center;}#sk-container-id-3 div.sk-container {/* jupyter's `normalize.less` sets `[hidden] { display: none; }` but bootstrap.min.css set `[hidden] { display: none !important; }` so we also need the `!important` here to be able to override the default hidden behavior on the sphinx rendered scikit-learn.org. See: https://github.com/scikit-learn/scikit-learn/issues/21755 */display: inline-block !important;position: relative;}#sk-container-id-3 div.sk-text-repr-fallback {display: none;}</style><div id=\"sk-container-id-3\" class=\"sk-top-container\"><div class=\"sk-text-repr-fallback\"><pre>XGBClassifier(base_score=None, booster=None, callbacks=None,\n",
       "              colsample_bylevel=None, colsample_bynode=None,\n",
       "              colsample_bytree=0.8, device=None, early_stopping_rounds=None,\n",
       "              enable_categorical=False, eval_metric=None, feature_types=None,\n",
       "              gamma=None, grow_policy=None, importance_type=None,\n",
       "              interaction_constraints=None, learning_rate=0.01, max_bin=None,\n",
       "              max_cat_threshold=None, max_cat_to_onehot=None,\n",
       "              max_delta_step=None, max_depth=7, max_leaves=None,\n",
       "              min_child_weight=None, missing=nan, monotone_constraints=None,\n",
       "              multi_strategy=None, n_estimators=1000, n_jobs=None,\n",
       "              num_parallel_tree=None, random_state=None, ...)</pre><b>In a Jupyter environment, please rerun this cell to show the HTML representation or trust the notebook. <br />On GitHub, the HTML representation is unable to render, please try loading this page with nbviewer.org.</b></div><div class=\"sk-container\" hidden><div class=\"sk-item\"><div class=\"sk-estimator sk-toggleable\"><input class=\"sk-toggleable__control sk-hidden--visually\" id=\"sk-estimator-id-3\" type=\"checkbox\" checked><label for=\"sk-estimator-id-3\" class=\"sk-toggleable__label sk-toggleable__label-arrow\">XGBClassifier</label><div class=\"sk-toggleable__content\"><pre>XGBClassifier(base_score=None, booster=None, callbacks=None,\n",
       "              colsample_bylevel=None, colsample_bynode=None,\n",
       "              colsample_bytree=0.8, device=None, early_stopping_rounds=None,\n",
       "              enable_categorical=False, eval_metric=None, feature_types=None,\n",
       "              gamma=None, grow_policy=None, importance_type=None,\n",
       "              interaction_constraints=None, learning_rate=0.01, max_bin=None,\n",
       "              max_cat_threshold=None, max_cat_to_onehot=None,\n",
       "              max_delta_step=None, max_depth=7, max_leaves=None,\n",
       "              min_child_weight=None, missing=nan, monotone_constraints=None,\n",
       "              multi_strategy=None, n_estimators=1000, n_jobs=None,\n",
       "              num_parallel_tree=None, random_state=None, ...)</pre></div></div></div></div></div>"
      ],
      "text/plain": [
       "XGBClassifier(base_score=None, booster=None, callbacks=None,\n",
       "              colsample_bylevel=None, colsample_bynode=None,\n",
       "              colsample_bytree=0.8, device=None, early_stopping_rounds=None,\n",
       "              enable_categorical=False, eval_metric=None, feature_types=None,\n",
       "              gamma=None, grow_policy=None, importance_type=None,\n",
       "              interaction_constraints=None, learning_rate=0.01, max_bin=None,\n",
       "              max_cat_threshold=None, max_cat_to_onehot=None,\n",
       "              max_delta_step=None, max_depth=7, max_leaves=None,\n",
       "              min_child_weight=None, missing=nan, monotone_constraints=None,\n",
       "              multi_strategy=None, n_estimators=1000, n_jobs=None,\n",
       "              num_parallel_tree=None, random_state=None, ...)"
      ]
     },
     "execution_count": 29,
     "metadata": {},
     "output_type": "execute_result"
    }
   ],
   "source": [
    "xgbc=xgb.XGBClassifier(n_estimators=1000,learning_rate=0.01, max_depth=7,colsample_bytree=0.8,reg_lambda=500,reg_alpha=0.6, objective='binary:logistic')\n",
    "xgbc.fit(df[feature_cols], df['preventive_visit_gap_ind'])"
   ]
  },
  {
   "cell_type": "code",
   "execution_count": 30,
   "id": "42bb2a91-7184-49ad-a4e8-2dd726d5d6fb",
   "metadata": {},
   "outputs": [],
   "source": [
    "y_preds=xgbc.predict(df[feature_cols])"
   ]
  },
  {
   "cell_type": "code",
   "execution_count": 31,
   "id": "64dd9b96-b7ce-4486-b611-882a8e8d984b",
   "metadata": {},
   "outputs": [
    {
     "data": {
      "text/plain": [
       "array([[694138, 330701],\n",
       "       [146706, 356359]], dtype=int64)"
      ]
     },
     "execution_count": 31,
     "metadata": {},
     "output_type": "execute_result"
    }
   ],
   "source": [
    "confusion_matrix(y_preds,df['preventive_visit_gap_ind'])"
   ]
  },
  {
   "cell_type": "code",
   "execution_count": 32,
   "id": "57e94a76-67e8-4277-af02-32c924d1cb63",
   "metadata": {},
   "outputs": [
    {
     "name": "stdout",
     "output_type": "stream",
     "text": [
      "              precision    recall  f1-score   support\n",
      "\n",
      "           0       0.83      0.68      0.74   1024839\n",
      "           1       0.52      0.71      0.60    503065\n",
      "\n",
      "    accuracy                           0.69   1527904\n",
      "   macro avg       0.67      0.69      0.67   1527904\n",
      "weighted avg       0.72      0.69      0.70   1527904\n",
      "\n"
     ]
    }
   ],
   "source": [
    "print(classification_report(y_preds,df['preventive_visit_gap_ind']))"
   ]
  },
  {
   "cell_type": "code",
   "execution_count": 33,
   "id": "5e5f54a7-2035-4ccd-ac1d-3202276ae1e4",
   "metadata": {},
   "outputs": [
    {
     "data": {
      "text/plain": [
       "0.692844924993561"
      ]
     },
     "execution_count": 33,
     "metadata": {},
     "output_type": "execute_result"
    }
   ],
   "source": [
    "roc_auc_score(y_preds,df['preventive_visit_gap_ind'])"
   ]
  },
  {
   "cell_type": "code",
   "execution_count": 34,
   "id": "626cff00-7fdb-4115-a76a-6deb1e7ddb88",
   "metadata": {},
   "outputs": [
    {
     "data": {
      "text/plain": [
       "<sklearn.metrics._plot.roc_curve.RocCurveDisplay at 0x23f08c077f0>"
      ]
     },
     "execution_count": 34,
     "metadata": {},
     "output_type": "execute_result"
    },
    {
     "data": {
      "image/png": "[encoded data removed]",
      "text/plain": [
       "<Figure size 640x480 with 1 Axes>"
      ]
     },
     "metadata": {},
     "output_type": "display_data"
    }
   ],
   "source": [
    "RocCurveDisplay.from_predictions(y_preds,df['preventive_visit_gap_ind'])"
   ]
  },
  {
   "cell_type": "code",
   "execution_count": 36,
   "id": "f6793709-60c0-40bc-a2da-eb480efe89b3",
   "metadata": {},
   "outputs": [],
   "source": [
    "feat_colum = pd.DataFrame({'columns': feature_cols, 'value': xgbc.feature_importances_})"
   ]
  },
  {
   "cell_type": "code",
   "execution_count": 38,
   "id": "fb2e0fdd-8d5e-4904-bc55-6ad49dc3db51",
   "metadata": {},
   "outputs": [
    {
     "data": {
      "text/html": [
       "<div>\n",
       "<style scoped>\n",
       "    .dataframe tbody tr th:only-of-type {\n",
       "        vertical-align: middle;\n",
       "    }\n",
       "\n",
       "    .dataframe tbody tr th {\n",
       "        vertical-align: top;\n",
       "    }\n",
       "\n",
       "    .dataframe thead th {\n",
       "        text-align: right;\n",
       "    }\n",
       "</style>\n",
       "<table border=\"1\" class=\"dataframe\">\n",
       "  <thead>\n",
       "    <tr style=\"text-align: right;\">\n",
       "      <th></th>\n",
       "      <th>columns</th>\n",
       "      <th>value</th>\n",
       "    </tr>\n",
       "  </thead>\n",
       "  <tbody>\n",
       "    <tr>\n",
       "      <th>229</th>\n",
       "      <td>generic_grouper</td>\n",
       "      <td>0.076573</td>\n",
       "    </tr>\n",
       "    <tr>\n",
       "      <th>95</th>\n",
       "      <td>total_net_paid_pmpm_cost</td>\n",
       "      <td>0.075766</td>\n",
       "    </tr>\n",
       "    <tr>\n",
       "      <th>128</th>\n",
       "      <td>rx_days_since_last_script</td>\n",
       "      <td>0.052634</td>\n",
       "    </tr>\n",
       "    <tr>\n",
       "      <th>94</th>\n",
       "      <td>total_allowed_pmpm_cost</td>\n",
       "      <td>0.050305</td>\n",
       "    </tr>\n",
       "    <tr>\n",
       "      <th>74</th>\n",
       "      <td>cnt_cp_webstatement_pmpm_ct</td>\n",
       "      <td>0.042548</td>\n",
       "    </tr>\n",
       "    <tr>\n",
       "      <th>...</th>\n",
       "      <td>...</td>\n",
       "      <td>...</td>\n",
       "    </tr>\n",
       "    <tr>\n",
       "      <th>343</th>\n",
       "      <td>COA_(MDR)_elig_cnt</td>\n",
       "      <td>0.000038</td>\n",
       "    </tr>\n",
       "    <tr>\n",
       "      <th>297</th>\n",
       "      <td>ART_comp_cnt</td>\n",
       "      <td>0.000036</td>\n",
       "    </tr>\n",
       "    <tr>\n",
       "      <th>306</th>\n",
       "      <td>COA_(PNS)_comp_cnt</td>\n",
       "      <td>0.000022</td>\n",
       "    </tr>\n",
       "    <tr>\n",
       "      <th>344</th>\n",
       "      <td>COA_(PNS)_elig_cnt</td>\n",
       "      <td>0.000019</td>\n",
       "    </tr>\n",
       "    <tr>\n",
       "      <th>79</th>\n",
       "      <td>nonpar_cob_paid_pmpm_cost</td>\n",
       "      <td>0.000010</td>\n",
       "    </tr>\n",
       "  </tbody>\n",
       "</table>\n",
       "<p>308 rows × 2 columns</p>\n",
       "</div>"
      ],
      "text/plain": [
       "                         columns     value\n",
       "229              generic_grouper  0.076573\n",
       "95      total_net_paid_pmpm_cost  0.075766\n",
       "128    rx_days_since_last_script  0.052634\n",
       "94       total_allowed_pmpm_cost  0.050305\n",
       "74   cnt_cp_webstatement_pmpm_ct  0.042548\n",
       "..                           ...       ...\n",
       "343           COA_(MDR)_elig_cnt  0.000038\n",
       "297                 ART_comp_cnt  0.000036\n",
       "306           COA_(PNS)_comp_cnt  0.000022\n",
       "344           COA_(PNS)_elig_cnt  0.000019\n",
       "79     nonpar_cob_paid_pmpm_cost  0.000010\n",
       "\n",
       "[308 rows x 2 columns]"
      ]
     },
     "execution_count": 38,
     "metadata": {},
     "output_type": "execute_result"
    }
   ],
   "source": [
    "feat_colum[feat_colum['value']>0].sort_values(by='value',ascending=False)"
   ]
  },
  {
   "cell_type": "code",
   "execution_count": 39,
   "id": "4d2bc3dc-16d9-4d9c-9f78-a8b0f1291455",
   "metadata": {},
   "outputs": [
    {
     "data": {
      "text/plain": [
       "generic_grouper  preventive_visit_gap_ind\n",
       "0.0              0                           567055\n",
       "                 1                           333751\n",
       "1.0              1                           353224\n",
       "                 0                           273711\n",
       "Name: count, dtype: int64"
      ]
     },
     "execution_count": 39,
     "metadata": {},
     "output_type": "execute_result"
    }
   ],
   "source": [
    "df.groupby('generic_grouper')['preventive_visit_gap_ind'].value_counts()"
   ]
  },
  {
   "cell_type": "code",
   "execution_count": 10,
   "id": "deb8027c-ab58-408e-8a83-cfb93276f57e",
   "metadata": {},
   "outputs": [],
   "source": [
    "from sklearn.model_selection import RandomizedSearchCV"
   ]
  },
  {
   "cell_type": "code",
   "execution_count": 22,
   "id": "5b03ac95-362e-4cf3-a920-1d9b6595237d",
   "metadata": {},
   "outputs": [],
   "source": [
    "X_train,X_test,y_train,y_test=train_test_split(df[feature_cols], df['preventive_visit_gap_ind'], test_size=0.3)"
   ]
  },
  {
   "cell_type": "code",
   "execution_count": 23,
   "id": "bac43c50-fa29-45e1-bf3d-d8c792b71010",
   "metadata": {},
   "outputs": [],
   "source": [
    "pd.concat([X_train,y_train], axis=1).to_csv(r\"C:\\Users\\shanm\\OneDrive\\Desktop\\Kavya\\Humana_Mays_24\\Data\\Training_final\\Training_final\\final_train_trian.csv\")"
   ]
  },
  {
   "cell_type": "code",
   "execution_count": 53,
   "id": "d319124d-46c6-4af3-a19b-c98d97c4ad51",
   "metadata": {},
   "outputs": [],
   "source": [
    "pd.concat([X_test,y_test],axis=1).to_csv(r\"C:\\Users\\shanm\\OneDrive\\Desktop\\Kavya\\Humana_Mays_24\\Data\\Training_final\\Training_final\\final_train_test.csv\")"
   ]
  },
  {
   "cell_type": "code",
   "execution_count": 3,
   "id": "8cdcb9d8-b59c-4a35-b70c-632dc90e450c",
   "metadata": {},
   "outputs": [],
   "source": [
    "train_df=pd.read_csv(r\"C:\\Users\\shanm\\OneDrive\\Desktop\\Kavya\\Humana_Mays_24\\Data\\Training_final\\Training_final\\final_train_trian.csv\")"
   ]
  },
  {
   "cell_type": "code",
   "execution_count": 5,
   "id": "c129278f-4438-4fb6-8d71-6181ee5c7027",
   "metadata": {},
   "outputs": [
    {
     "data": {
      "text/plain": [
       "Index(['Unnamed: 0', 'cms_frailty_ind', 'cms_tot_ma_payment_amt',\n",
       "       'cms_tot_partd_payment_amt', 'atlas_recfacpth14', 'atlas_ffrpth14',\n",
       "       'atlas_fsrpth14', 'atlas_grocpth14', 'atlas_povertyallagespct',\n",
       "       'cci_score',\n",
       "       ...\n",
       "       'TRC_(MRP)_elig_cnt', 'TRC_(PED)_elig_cnt', 'HEDIS_comp_cnt',\n",
       "       'Patient_Experience_comp_cnt', 'Patient_Safety_comp_cnt',\n",
       "       'HEDIS_elig_cnt', 'Patient_Experience_elig_cnt',\n",
       "       'Patient_Safety_elig_cnt', 'rucc_category', 'preventive_visit_gap_ind'],\n",
       "      dtype='object', length=378)"
      ]
     },
     "execution_count": 5,
     "metadata": {},
     "output_type": "execute_result"
    }
   ],
   "source": [
    "train_df.columns"
   ]
  },
  {
   "cell_type": "code",
   "execution_count": 12,
   "id": "5351dfcb-5cc9-4644-893d-045073f8c5bc",
   "metadata": {},
   "outputs": [],
   "source": [
    "feature_cols=train_df.drop(['Unnamed: 0','preventive_visit_gap_ind'], axis=1).columns"
   ]
  },
  {
   "cell_type": "code",
   "execution_count": 6,
   "id": "1f38dcaf-a5ab-422b-9f8e-1c61fb5cf703",
   "metadata": {},
   "outputs": [
    {
     "data": {
      "text/plain": [
       "0          1\n",
       "1          0\n",
       "2          0\n",
       "3          1\n",
       "4          0\n",
       "          ..\n",
       "1069527    0\n",
       "1069528    1\n",
       "1069529    0\n",
       "1069530    1\n",
       "1069531    0\n",
       "Name: preventive_visit_gap_ind, Length: 1069532, dtype: int64"
      ]
     },
     "execution_count": 6,
     "metadata": {},
     "output_type": "execute_result"
    }
   ],
   "source": [
    "train_df['preventive_visit_gap_ind']"
   ]
  },
  {
   "cell_type": "code",
   "execution_count": 7,
   "id": "d0fa865e-1cdb-4b2a-a377-ec5e3da9db9e",
   "metadata": {},
   "outputs": [],
   "source": [
    "param_grid={'n_estimators':[750, 1000,1250,1500],\n",
    "              'max_depth':[ 6, 7, 8, 9],\n",
    "              'learning_rate':[0.1,  0.01, 0.001, 0.005],\n",
    "              'reg_lambda':[ 10, 100,500, 1000, 2000], \n",
    "              'reg_alpha':[0, 0.25,0.5,0.75, 1, 1.5] ,\n",
    "              'colsample_bytree':[0.5,0.6, 0.7,0.8,0.9],\n",
    "              'min_child_weight':[5,50,100,200,250]\n",
    "           }"
   ]
  },
  {
   "cell_type": "code",
   "execution_count": 8,
   "id": "83d3391a-4e88-4ccf-9322-48b77a76f282",
   "metadata": {},
   "outputs": [],
   "source": [
    "xgbc=XGBClassifier(objective='binary:logistic')"
   ]
  },
  {
   "cell_type": "code",
   "execution_count": 13,
   "id": "03fb48b9-de5a-4398-986c-e7b33bbff9d8",
   "metadata": {},
   "outputs": [
    {
     "name": "stdout",
     "output_type": "stream",
     "text": [
      "Fitting 3 folds for each of 100 candidates, totalling 300 fits\n"
     ]
    },
    {
     "ename": "MemoryError",
     "evalue": "Unable to allocate 1.92 GiB for an array with shape (362, 713021) and data type float64",
     "output_type": "error",
     "traceback": [
      "\u001b[1;31m---------------------------------------------------------------------------\u001b[0m",
      "\u001b[1;31m_RemoteTraceback\u001b[0m                          Traceback (most recent call last)",
      "\u001b[1;31m_RemoteTraceback\u001b[0m: \n\"\"\"\nTraceback (most recent call last):\n  File \"C:\\Users\\shanm\\anaconda3\\envs\\spark\\lib\\site-packages\\joblib\\externals\\loky\\process_executor.py\", line 463, in _process_worker\n    r = call_item()\n  File \"C:\\Users\\shanm\\anaconda3\\envs\\spark\\lib\\site-packages\\joblib\\externals\\loky\\process_executor.py\", line 291, in __call__\n    return self.fn(*self.args, **self.kwargs)\n  File \"C:\\Users\\shanm\\anaconda3\\envs\\spark\\lib\\site-packages\\joblib\\parallel.py\", line 598, in __call__\n    return [func(*args, **kwargs)\n  File \"C:\\Users\\shanm\\anaconda3\\envs\\spark\\lib\\site-packages\\joblib\\parallel.py\", line 598, in <listcomp>\n    return [func(*args, **kwargs)\n  File \"C:\\Users\\shanm\\anaconda3\\envs\\spark\\lib\\site-packages\\sklearn\\utils\\parallel.py\", line 127, in __call__\n    return self.function(*args, **kwargs)\n  File \"C:\\Users\\shanm\\anaconda3\\envs\\spark\\lib\\site-packages\\sklearn\\model_selection\\_validation.py\", line 721, in _fit_and_score\n    X_train, y_train = _safe_split(estimator, X, y, train)\n  File \"C:\\Users\\shanm\\anaconda3\\envs\\spark\\lib\\site-packages\\sklearn\\utils\\metaestimators.py\", line 155, in _safe_split\n    X_subset = _safe_indexing(X, indices)\n  File \"C:\\Users\\shanm\\anaconda3\\envs\\spark\\lib\\site-packages\\sklearn\\utils\\__init__.py\", line 353, in _safe_indexing\n    return _pandas_indexing(X, indices, indices_dtype, axis=axis)\n  File \"C:\\Users\\shanm\\anaconda3\\envs\\spark\\lib\\site-packages\\sklearn\\utils\\__init__.py\", line 195, in _pandas_indexing\n    return X.take(key, axis=axis)\n  File \"C:\\Users\\shanm\\anaconda3\\envs\\spark\\lib\\site-packages\\pandas\\core\\generic.py\", line 3909, in take\n    return self._take(indices, axis)\n  File \"C:\\Users\\shanm\\anaconda3\\envs\\spark\\lib\\site-packages\\pandas\\core\\generic.py\", line 3932, in _take\n    new_data = self._mgr.take(\n  File \"C:\\Users\\shanm\\anaconda3\\envs\\spark\\lib\\site-packages\\pandas\\core\\internals\\managers.py\", line 963, in take\n    return self.reindex_indexer(\n  File \"C:\\Users\\shanm\\anaconda3\\envs\\spark\\lib\\site-packages\\pandas\\core\\internals\\managers.py\", line 747, in reindex_indexer\n    new_blocks = [\n  File \"C:\\Users\\shanm\\anaconda3\\envs\\spark\\lib\\site-packages\\pandas\\core\\internals\\managers.py\", line 748, in <listcomp>\n    blk.take_nd(\n  File \"C:\\Users\\shanm\\anaconda3\\envs\\spark\\lib\\site-packages\\pandas\\core\\internals\\blocks.py\", line 945, in take_nd\n    new_values = algos.take_nd(\n  File \"C:\\Users\\shanm\\anaconda3\\envs\\spark\\lib\\site-packages\\pandas\\core\\array_algos\\take.py\", line 117, in take_nd\n    return _take_nd_ndarray(arr, indexer, axis, fill_value, allow_fill)\n  File \"C:\\Users\\shanm\\anaconda3\\envs\\spark\\lib\\site-packages\\pandas\\core\\array_algos\\take.py\", line 157, in _take_nd_ndarray\n    out = np.empty(out_shape, dtype=dtype)\nnumpy.core._exceptions._ArrayMemoryError: Unable to allocate 1.92 GiB for an array with shape (362, 713021) and data type float64\n\"\"\"",
      "\nThe above exception was the direct cause of the following exception:\n",
      "\u001b[1;31mMemoryError\u001b[0m                               Traceback (most recent call last)",
      "Cell \u001b[1;32mIn[13], line 4\u001b[0m\n\u001b[0;32m      1\u001b[0m clf\u001b[38;5;241m=\u001b[39mRandomizedSearchCV(xgbc, \n\u001b[0;32m      2\u001b[0m                    param_grid,  n_iter\u001b[38;5;241m=\u001b[39m\u001b[38;5;241m100\u001b[39m, scoring\u001b[38;5;241m=\u001b[39m\u001b[38;5;124m'\u001b[39m\u001b[38;5;124mroc_auc\u001b[39m\u001b[38;5;124m'\u001b[39m,\n\u001b[0;32m      3\u001b[0m                    n_jobs\u001b[38;5;241m=\u001b[39m\u001b[38;5;241m-\u001b[39m\u001b[38;5;241m1\u001b[39m, cv\u001b[38;5;241m=\u001b[39m\u001b[38;5;241m3\u001b[39m, verbose\u001b[38;5;241m=\u001b[39m\u001b[38;5;241m1\u001b[39m, random_state\u001b[38;5;241m=\u001b[39m\u001b[38;5;241m1111\u001b[39m)\n\u001b[1;32m----> 4\u001b[0m \u001b[43mclf\u001b[49m\u001b[38;5;241;43m.\u001b[39;49m\u001b[43mfit\u001b[49m\u001b[43m(\u001b[49m\u001b[43mtrain_df\u001b[49m\u001b[43m[\u001b[49m\u001b[43mfeature_cols\u001b[49m\u001b[43m]\u001b[49m\u001b[43m,\u001b[49m\u001b[43mtrain_df\u001b[49m\u001b[43m[\u001b[49m\u001b[38;5;124;43m'\u001b[39;49m\u001b[38;5;124;43mpreventive_visit_gap_ind\u001b[39;49m\u001b[38;5;124;43m'\u001b[39;49m\u001b[43m]\u001b[49m\u001b[43m)\u001b[49m\n",
      "File \u001b[1;32m~\\anaconda3\\envs\\spark\\lib\\site-packages\\sklearn\\base.py:1152\u001b[0m, in \u001b[0;36m_fit_context.<locals>.decorator.<locals>.wrapper\u001b[1;34m(estimator, *args, **kwargs)\u001b[0m\n\u001b[0;32m   1145\u001b[0m     estimator\u001b[38;5;241m.\u001b[39m_validate_params()\n\u001b[0;32m   1147\u001b[0m \u001b[38;5;28;01mwith\u001b[39;00m config_context(\n\u001b[0;32m   1148\u001b[0m     skip_parameter_validation\u001b[38;5;241m=\u001b[39m(\n\u001b[0;32m   1149\u001b[0m         prefer_skip_nested_validation \u001b[38;5;129;01mor\u001b[39;00m global_skip_validation\n\u001b[0;32m   1150\u001b[0m     )\n\u001b[0;32m   1151\u001b[0m ):\n\u001b[1;32m-> 1152\u001b[0m     \u001b[38;5;28;01mreturn\u001b[39;00m \u001b[43mfit_method\u001b[49m\u001b[43m(\u001b[49m\u001b[43mestimator\u001b[49m\u001b[43m,\u001b[49m\u001b[43m \u001b[49m\u001b[38;5;241;43m*\u001b[39;49m\u001b[43margs\u001b[49m\u001b[43m,\u001b[49m\u001b[43m \u001b[49m\u001b[38;5;241;43m*\u001b[39;49m\u001b[38;5;241;43m*\u001b[39;49m\u001b[43mkwargs\u001b[49m\u001b[43m)\u001b[49m\n",
      "File \u001b[1;32m~\\anaconda3\\envs\\spark\\lib\\site-packages\\sklearn\\model_selection\\_search.py:898\u001b[0m, in \u001b[0;36mBaseSearchCV.fit\u001b[1;34m(self, X, y, groups, **fit_params)\u001b[0m\n\u001b[0;32m    892\u001b[0m     results \u001b[38;5;241m=\u001b[39m \u001b[38;5;28mself\u001b[39m\u001b[38;5;241m.\u001b[39m_format_results(\n\u001b[0;32m    893\u001b[0m         all_candidate_params, n_splits, all_out, all_more_results\n\u001b[0;32m    894\u001b[0m     )\n\u001b[0;32m    896\u001b[0m     \u001b[38;5;28;01mreturn\u001b[39;00m results\n\u001b[1;32m--> 898\u001b[0m \u001b[38;5;28;43mself\u001b[39;49m\u001b[38;5;241;43m.\u001b[39;49m\u001b[43m_run_search\u001b[49m\u001b[43m(\u001b[49m\u001b[43mevaluate_candidates\u001b[49m\u001b[43m)\u001b[49m\n\u001b[0;32m    900\u001b[0m \u001b[38;5;66;03m# multimetric is determined here because in the case of a callable\u001b[39;00m\n\u001b[0;32m    901\u001b[0m \u001b[38;5;66;03m# self.scoring the return type is only known after calling\u001b[39;00m\n\u001b[0;32m    902\u001b[0m first_test_score \u001b[38;5;241m=\u001b[39m all_out[\u001b[38;5;241m0\u001b[39m][\u001b[38;5;124m\"\u001b[39m\u001b[38;5;124mtest_scores\u001b[39m\u001b[38;5;124m\"\u001b[39m]\n",
      "File \u001b[1;32m~\\anaconda3\\envs\\spark\\lib\\site-packages\\sklearn\\model_selection\\_search.py:1809\u001b[0m, in \u001b[0;36mRandomizedSearchCV._run_search\u001b[1;34m(self, evaluate_candidates)\u001b[0m\n\u001b[0;32m   1807\u001b[0m \u001b[38;5;28;01mdef\u001b[39;00m \u001b[38;5;21m_run_search\u001b[39m(\u001b[38;5;28mself\u001b[39m, evaluate_candidates):\n\u001b[0;32m   1808\u001b[0m \u001b[38;5;250m    \u001b[39m\u001b[38;5;124;03m\"\"\"Search n_iter candidates from param_distributions\"\"\"\u001b[39;00m\n\u001b[1;32m-> 1809\u001b[0m     \u001b[43mevaluate_candidates\u001b[49m\u001b[43m(\u001b[49m\n\u001b[0;32m   1810\u001b[0m \u001b[43m        \u001b[49m\u001b[43mParameterSampler\u001b[49m\u001b[43m(\u001b[49m\n\u001b[0;32m   1811\u001b[0m \u001b[43m            \u001b[49m\u001b[38;5;28;43mself\u001b[39;49m\u001b[38;5;241;43m.\u001b[39;49m\u001b[43mparam_distributions\u001b[49m\u001b[43m,\u001b[49m\u001b[43m \u001b[49m\u001b[38;5;28;43mself\u001b[39;49m\u001b[38;5;241;43m.\u001b[39;49m\u001b[43mn_iter\u001b[49m\u001b[43m,\u001b[49m\u001b[43m \u001b[49m\u001b[43mrandom_state\u001b[49m\u001b[38;5;241;43m=\u001b[39;49m\u001b[38;5;28;43mself\u001b[39;49m\u001b[38;5;241;43m.\u001b[39;49m\u001b[43mrandom_state\u001b[49m\n\u001b[0;32m   1812\u001b[0m \u001b[43m        \u001b[49m\u001b[43m)\u001b[49m\n\u001b[0;32m   1813\u001b[0m \u001b[43m    \u001b[49m\u001b[43m)\u001b[49m\n",
      "File \u001b[1;32m~\\anaconda3\\envs\\spark\\lib\\site-packages\\sklearn\\model_selection\\_search.py:845\u001b[0m, in \u001b[0;36mBaseSearchCV.fit.<locals>.evaluate_candidates\u001b[1;34m(candidate_params, cv, more_results)\u001b[0m\n\u001b[0;32m    837\u001b[0m \u001b[38;5;28;01mif\u001b[39;00m \u001b[38;5;28mself\u001b[39m\u001b[38;5;241m.\u001b[39mverbose \u001b[38;5;241m>\u001b[39m \u001b[38;5;241m0\u001b[39m:\n\u001b[0;32m    838\u001b[0m     \u001b[38;5;28mprint\u001b[39m(\n\u001b[0;32m    839\u001b[0m         \u001b[38;5;124m\"\u001b[39m\u001b[38;5;124mFitting \u001b[39m\u001b[38;5;132;01m{0}\u001b[39;00m\u001b[38;5;124m folds for each of \u001b[39m\u001b[38;5;132;01m{1}\u001b[39;00m\u001b[38;5;124m candidates,\u001b[39m\u001b[38;5;124m\"\u001b[39m\n\u001b[0;32m    840\u001b[0m         \u001b[38;5;124m\"\u001b[39m\u001b[38;5;124m totalling \u001b[39m\u001b[38;5;132;01m{2}\u001b[39;00m\u001b[38;5;124m fits\u001b[39m\u001b[38;5;124m\"\u001b[39m\u001b[38;5;241m.\u001b[39mformat(\n\u001b[0;32m    841\u001b[0m             n_splits, n_candidates, n_candidates \u001b[38;5;241m*\u001b[39m n_splits\n\u001b[0;32m    842\u001b[0m         )\n\u001b[0;32m    843\u001b[0m     )\n\u001b[1;32m--> 845\u001b[0m out \u001b[38;5;241m=\u001b[39m \u001b[43mparallel\u001b[49m\u001b[43m(\u001b[49m\n\u001b[0;32m    846\u001b[0m \u001b[43m    \u001b[49m\u001b[43mdelayed\u001b[49m\u001b[43m(\u001b[49m\u001b[43m_fit_and_score\u001b[49m\u001b[43m)\u001b[49m\u001b[43m(\u001b[49m\n\u001b[0;32m    847\u001b[0m \u001b[43m        \u001b[49m\u001b[43mclone\u001b[49m\u001b[43m(\u001b[49m\u001b[43mbase_estimator\u001b[49m\u001b[43m)\u001b[49m\u001b[43m,\u001b[49m\n\u001b[0;32m    848\u001b[0m \u001b[43m        \u001b[49m\u001b[43mX\u001b[49m\u001b[43m,\u001b[49m\n\u001b[0;32m    849\u001b[0m \u001b[43m        \u001b[49m\u001b[43my\u001b[49m\u001b[43m,\u001b[49m\n\u001b[0;32m    850\u001b[0m \u001b[43m        \u001b[49m\u001b[43mtrain\u001b[49m\u001b[38;5;241;43m=\u001b[39;49m\u001b[43mtrain\u001b[49m\u001b[43m,\u001b[49m\n\u001b[0;32m    851\u001b[0m \u001b[43m        \u001b[49m\u001b[43mtest\u001b[49m\u001b[38;5;241;43m=\u001b[39;49m\u001b[43mtest\u001b[49m\u001b[43m,\u001b[49m\n\u001b[0;32m    852\u001b[0m \u001b[43m        \u001b[49m\u001b[43mparameters\u001b[49m\u001b[38;5;241;43m=\u001b[39;49m\u001b[43mparameters\u001b[49m\u001b[43m,\u001b[49m\n\u001b[0;32m    853\u001b[0m \u001b[43m        \u001b[49m\u001b[43msplit_progress\u001b[49m\u001b[38;5;241;43m=\u001b[39;49m\u001b[43m(\u001b[49m\u001b[43msplit_idx\u001b[49m\u001b[43m,\u001b[49m\u001b[43m \u001b[49m\u001b[43mn_splits\u001b[49m\u001b[43m)\u001b[49m\u001b[43m,\u001b[49m\n\u001b[0;32m    854\u001b[0m \u001b[43m        \u001b[49m\u001b[43mcandidate_progress\u001b[49m\u001b[38;5;241;43m=\u001b[39;49m\u001b[43m(\u001b[49m\u001b[43mcand_idx\u001b[49m\u001b[43m,\u001b[49m\u001b[43m \u001b[49m\u001b[43mn_candidates\u001b[49m\u001b[43m)\u001b[49m\u001b[43m,\u001b[49m\n\u001b[0;32m    855\u001b[0m \u001b[43m        \u001b[49m\u001b[38;5;241;43m*\u001b[39;49m\u001b[38;5;241;43m*\u001b[39;49m\u001b[43mfit_and_score_kwargs\u001b[49m\u001b[43m,\u001b[49m\n\u001b[0;32m    856\u001b[0m \u001b[43m    \u001b[49m\u001b[43m)\u001b[49m\n\u001b[0;32m    857\u001b[0m \u001b[43m    \u001b[49m\u001b[38;5;28;43;01mfor\u001b[39;49;00m\u001b[43m \u001b[49m\u001b[43m(\u001b[49m\u001b[43mcand_idx\u001b[49m\u001b[43m,\u001b[49m\u001b[43m \u001b[49m\u001b[43mparameters\u001b[49m\u001b[43m)\u001b[49m\u001b[43m,\u001b[49m\u001b[43m \u001b[49m\u001b[43m(\u001b[49m\u001b[43msplit_idx\u001b[49m\u001b[43m,\u001b[49m\u001b[43m \u001b[49m\u001b[43m(\u001b[49m\u001b[43mtrain\u001b[49m\u001b[43m,\u001b[49m\u001b[43m \u001b[49m\u001b[43mtest\u001b[49m\u001b[43m)\u001b[49m\u001b[43m)\u001b[49m\u001b[43m \u001b[49m\u001b[38;5;129;43;01min\u001b[39;49;00m\u001b[43m \u001b[49m\u001b[43mproduct\u001b[49m\u001b[43m(\u001b[49m\n\u001b[0;32m    858\u001b[0m \u001b[43m        \u001b[49m\u001b[38;5;28;43menumerate\u001b[39;49m\u001b[43m(\u001b[49m\u001b[43mcandidate_params\u001b[49m\u001b[43m)\u001b[49m\u001b[43m,\u001b[49m\u001b[43m \u001b[49m\u001b[38;5;28;43menumerate\u001b[39;49m\u001b[43m(\u001b[49m\u001b[43mcv\u001b[49m\u001b[38;5;241;43m.\u001b[39;49m\u001b[43msplit\u001b[49m\u001b[43m(\u001b[49m\u001b[43mX\u001b[49m\u001b[43m,\u001b[49m\u001b[43m \u001b[49m\u001b[43my\u001b[49m\u001b[43m,\u001b[49m\u001b[43m \u001b[49m\u001b[43mgroups\u001b[49m\u001b[43m)\u001b[49m\u001b[43m)\u001b[49m\n\u001b[0;32m    859\u001b[0m \u001b[43m    \u001b[49m\u001b[43m)\u001b[49m\n\u001b[0;32m    860\u001b[0m \u001b[43m\u001b[49m\u001b[43m)\u001b[49m\n\u001b[0;32m    862\u001b[0m \u001b[38;5;28;01mif\u001b[39;00m \u001b[38;5;28mlen\u001b[39m(out) \u001b[38;5;241m<\u001b[39m \u001b[38;5;241m1\u001b[39m:\n\u001b[0;32m    863\u001b[0m     \u001b[38;5;28;01mraise\u001b[39;00m \u001b[38;5;167;01mValueError\u001b[39;00m(\n\u001b[0;32m    864\u001b[0m         \u001b[38;5;124m\"\u001b[39m\u001b[38;5;124mNo fits were performed. \u001b[39m\u001b[38;5;124m\"\u001b[39m\n\u001b[0;32m    865\u001b[0m         \u001b[38;5;124m\"\u001b[39m\u001b[38;5;124mWas the CV iterator empty? \u001b[39m\u001b[38;5;124m\"\u001b[39m\n\u001b[0;32m    866\u001b[0m         \u001b[38;5;124m\"\u001b[39m\u001b[38;5;124mWere there no candidates?\u001b[39m\u001b[38;5;124m\"\u001b[39m\n\u001b[0;32m    867\u001b[0m     )\n",
      "File \u001b[1;32m~\\anaconda3\\envs\\spark\\lib\\site-packages\\sklearn\\utils\\parallel.py:65\u001b[0m, in \u001b[0;36mParallel.__call__\u001b[1;34m(self, iterable)\u001b[0m\n\u001b[0;32m     60\u001b[0m config \u001b[38;5;241m=\u001b[39m get_config()\n\u001b[0;32m     61\u001b[0m iterable_with_config \u001b[38;5;241m=\u001b[39m (\n\u001b[0;32m     62\u001b[0m     (_with_config(delayed_func, config), args, kwargs)\n\u001b[0;32m     63\u001b[0m     \u001b[38;5;28;01mfor\u001b[39;00m delayed_func, args, kwargs \u001b[38;5;129;01min\u001b[39;00m iterable\n\u001b[0;32m     64\u001b[0m )\n\u001b[1;32m---> 65\u001b[0m \u001b[38;5;28;01mreturn\u001b[39;00m \u001b[38;5;28;43msuper\u001b[39;49m\u001b[43m(\u001b[49m\u001b[43m)\u001b[49m\u001b[38;5;241;43m.\u001b[39;49m\u001b[38;5;21;43m__call__\u001b[39;49m\u001b[43m(\u001b[49m\u001b[43miterable_with_config\u001b[49m\u001b[43m)\u001b[49m\n",
      "File \u001b[1;32m~\\anaconda3\\envs\\spark\\lib\\site-packages\\joblib\\parallel.py:2007\u001b[0m, in \u001b[0;36mParallel.__call__\u001b[1;34m(self, iterable)\u001b[0m\n\u001b[0;32m   2001\u001b[0m \u001b[38;5;66;03m# The first item from the output is blank, but it makes the interpreter\u001b[39;00m\n\u001b[0;32m   2002\u001b[0m \u001b[38;5;66;03m# progress until it enters the Try/Except block of the generator and\u001b[39;00m\n\u001b[0;32m   2003\u001b[0m \u001b[38;5;66;03m# reaches the first `yield` statement. This starts the asynchronous\u001b[39;00m\n\u001b[0;32m   2004\u001b[0m \u001b[38;5;66;03m# dispatch of the tasks to the workers.\u001b[39;00m\n\u001b[0;32m   2005\u001b[0m \u001b[38;5;28mnext\u001b[39m(output)\n\u001b[1;32m-> 2007\u001b[0m \u001b[38;5;28;01mreturn\u001b[39;00m output \u001b[38;5;28;01mif\u001b[39;00m \u001b[38;5;28mself\u001b[39m\u001b[38;5;241m.\u001b[39mreturn_generator \u001b[38;5;28;01melse\u001b[39;00m \u001b[38;5;28;43mlist\u001b[39;49m\u001b[43m(\u001b[49m\u001b[43moutput\u001b[49m\u001b[43m)\u001b[49m\n",
      "File \u001b[1;32m~\\anaconda3\\envs\\spark\\lib\\site-packages\\joblib\\parallel.py:1650\u001b[0m, in \u001b[0;36mParallel._get_outputs\u001b[1;34m(self, iterator, pre_dispatch)\u001b[0m\n\u001b[0;32m   1647\u001b[0m     \u001b[38;5;28;01myield\u001b[39;00m\n\u001b[0;32m   1649\u001b[0m     \u001b[38;5;28;01mwith\u001b[39;00m \u001b[38;5;28mself\u001b[39m\u001b[38;5;241m.\u001b[39m_backend\u001b[38;5;241m.\u001b[39mretrieval_context():\n\u001b[1;32m-> 1650\u001b[0m         \u001b[38;5;28;01myield from\u001b[39;00m \u001b[38;5;28mself\u001b[39m\u001b[38;5;241m.\u001b[39m_retrieve()\n\u001b[0;32m   1652\u001b[0m \u001b[38;5;28;01mexcept\u001b[39;00m \u001b[38;5;167;01mGeneratorExit\u001b[39;00m:\n\u001b[0;32m   1653\u001b[0m     \u001b[38;5;66;03m# The generator has been garbage collected before being fully\u001b[39;00m\n\u001b[0;32m   1654\u001b[0m     \u001b[38;5;66;03m# consumed. This aborts the remaining tasks if possible and warn\u001b[39;00m\n\u001b[0;32m   1655\u001b[0m     \u001b[38;5;66;03m# the user if necessary.\u001b[39;00m\n\u001b[0;32m   1656\u001b[0m     \u001b[38;5;28mself\u001b[39m\u001b[38;5;241m.\u001b[39m_exception \u001b[38;5;241m=\u001b[39m \u001b[38;5;28;01mTrue\u001b[39;00m\n",
      "File \u001b[1;32m~\\anaconda3\\envs\\spark\\lib\\site-packages\\joblib\\parallel.py:1754\u001b[0m, in \u001b[0;36mParallel._retrieve\u001b[1;34m(self)\u001b[0m\n\u001b[0;32m   1747\u001b[0m \u001b[38;5;28;01mwhile\u001b[39;00m \u001b[38;5;28mself\u001b[39m\u001b[38;5;241m.\u001b[39m_wait_retrieval():\n\u001b[0;32m   1748\u001b[0m \n\u001b[0;32m   1749\u001b[0m     \u001b[38;5;66;03m# If the callback thread of a worker has signaled that its task\u001b[39;00m\n\u001b[0;32m   1750\u001b[0m     \u001b[38;5;66;03m# triggered an exception, or if the retrieval loop has raised an\u001b[39;00m\n\u001b[0;32m   1751\u001b[0m     \u001b[38;5;66;03m# exception (e.g. `GeneratorExit`), exit the loop and surface the\u001b[39;00m\n\u001b[0;32m   1752\u001b[0m     \u001b[38;5;66;03m# worker traceback.\u001b[39;00m\n\u001b[0;32m   1753\u001b[0m     \u001b[38;5;28;01mif\u001b[39;00m \u001b[38;5;28mself\u001b[39m\u001b[38;5;241m.\u001b[39m_aborting:\n\u001b[1;32m-> 1754\u001b[0m         \u001b[38;5;28;43mself\u001b[39;49m\u001b[38;5;241;43m.\u001b[39;49m\u001b[43m_raise_error_fast\u001b[49m\u001b[43m(\u001b[49m\u001b[43m)\u001b[49m\n\u001b[0;32m   1755\u001b[0m         \u001b[38;5;28;01mbreak\u001b[39;00m\n\u001b[0;32m   1757\u001b[0m     \u001b[38;5;66;03m# If the next job is not ready for retrieval yet, we just wait for\u001b[39;00m\n\u001b[0;32m   1758\u001b[0m     \u001b[38;5;66;03m# async callbacks to progress.\u001b[39;00m\n",
      "File \u001b[1;32m~\\anaconda3\\envs\\spark\\lib\\site-packages\\joblib\\parallel.py:1789\u001b[0m, in \u001b[0;36mParallel._raise_error_fast\u001b[1;34m(self)\u001b[0m\n\u001b[0;32m   1785\u001b[0m \u001b[38;5;66;03m# If this error job exists, immediately raise the error by\u001b[39;00m\n\u001b[0;32m   1786\u001b[0m \u001b[38;5;66;03m# calling get_result. This job might not exists if abort has been\u001b[39;00m\n\u001b[0;32m   1787\u001b[0m \u001b[38;5;66;03m# called directly or if the generator is gc'ed.\u001b[39;00m\n\u001b[0;32m   1788\u001b[0m \u001b[38;5;28;01mif\u001b[39;00m error_job \u001b[38;5;129;01mis\u001b[39;00m \u001b[38;5;129;01mnot\u001b[39;00m \u001b[38;5;28;01mNone\u001b[39;00m:\n\u001b[1;32m-> 1789\u001b[0m     \u001b[43merror_job\u001b[49m\u001b[38;5;241;43m.\u001b[39;49m\u001b[43mget_result\u001b[49m\u001b[43m(\u001b[49m\u001b[38;5;28;43mself\u001b[39;49m\u001b[38;5;241;43m.\u001b[39;49m\u001b[43mtimeout\u001b[49m\u001b[43m)\u001b[49m\n",
      "File \u001b[1;32m~\\anaconda3\\envs\\spark\\lib\\site-packages\\joblib\\parallel.py:745\u001b[0m, in \u001b[0;36mBatchCompletionCallBack.get_result\u001b[1;34m(self, timeout)\u001b[0m\n\u001b[0;32m    739\u001b[0m backend \u001b[38;5;241m=\u001b[39m \u001b[38;5;28mself\u001b[39m\u001b[38;5;241m.\u001b[39mparallel\u001b[38;5;241m.\u001b[39m_backend\n\u001b[0;32m    741\u001b[0m \u001b[38;5;28;01mif\u001b[39;00m backend\u001b[38;5;241m.\u001b[39msupports_retrieve_callback:\n\u001b[0;32m    742\u001b[0m     \u001b[38;5;66;03m# We assume that the result has already been retrieved by the\u001b[39;00m\n\u001b[0;32m    743\u001b[0m     \u001b[38;5;66;03m# callback thread, and is stored internally. It's just waiting to\u001b[39;00m\n\u001b[0;32m    744\u001b[0m     \u001b[38;5;66;03m# be returned.\u001b[39;00m\n\u001b[1;32m--> 745\u001b[0m     \u001b[38;5;28;01mreturn\u001b[39;00m \u001b[38;5;28;43mself\u001b[39;49m\u001b[38;5;241;43m.\u001b[39;49m\u001b[43m_return_or_raise\u001b[49m\u001b[43m(\u001b[49m\u001b[43m)\u001b[49m\n\u001b[0;32m    747\u001b[0m \u001b[38;5;66;03m# For other backends, the main thread needs to run the retrieval step.\u001b[39;00m\n\u001b[0;32m    748\u001b[0m \u001b[38;5;28;01mtry\u001b[39;00m:\n",
      "File \u001b[1;32m~\\anaconda3\\envs\\spark\\lib\\site-packages\\joblib\\parallel.py:763\u001b[0m, in \u001b[0;36mBatchCompletionCallBack._return_or_raise\u001b[1;34m(self)\u001b[0m\n\u001b[0;32m    761\u001b[0m \u001b[38;5;28;01mtry\u001b[39;00m:\n\u001b[0;32m    762\u001b[0m     \u001b[38;5;28;01mif\u001b[39;00m \u001b[38;5;28mself\u001b[39m\u001b[38;5;241m.\u001b[39mstatus \u001b[38;5;241m==\u001b[39m TASK_ERROR:\n\u001b[1;32m--> 763\u001b[0m         \u001b[38;5;28;01mraise\u001b[39;00m \u001b[38;5;28mself\u001b[39m\u001b[38;5;241m.\u001b[39m_result\n\u001b[0;32m    764\u001b[0m     \u001b[38;5;28;01mreturn\u001b[39;00m \u001b[38;5;28mself\u001b[39m\u001b[38;5;241m.\u001b[39m_result\n\u001b[0;32m    765\u001b[0m \u001b[38;5;28;01mfinally\u001b[39;00m:\n",
      "\u001b[1;31mMemoryError\u001b[0m: Unable to allocate 1.92 GiB for an array with shape (362, 713021) and data type float64"
     ]
    }
   ],
   "source": [
    "clf=RandomizedSearchCV(xgbc, \n",
    "                   param_grid,  n_iter=100, scoring='roc_auc',\n",
    "                   n_jobs=-1, cv=3, verbose=1, random_state=1111)\n",
    "clf.fit(train_df[feature_cols],train_df['preventive_visit_gap_ind'])"
   ]
  },
  {
   "cell_type": "code",
   "execution_count": null,
   "id": "29f9498f-3db1-4a1d-8834-330ea7cca317",
   "metadata": {},
   "outputs": [],
   "source": []
  },
  {
   "cell_type": "code",
   "execution_count": null,
   "id": "be39b9fd-d8e7-4fd2-8160-a0365ea40f73",
   "metadata": {},
   "outputs": [],
   "source": []
  }
 ],
 "metadata": {
  "kernelspec": {
   "display_name": "Python 3 (ipykernel)",
   "language": "python",
   "name": "python3"
  },
  "language_info": {
   "codemirror_mode": {
    "name": "ipython",
    "version": 3
   },
   "file_extension": ".py",
   "mimetype": "text/x-python",
   "name": "python",
   "nbconvert_exporter": "python",
   "pygments_lexer": "ipython3",
   "version": "3.11.1"
  }
 },
 "nbformat": 4,
 "nbformat_minor": 5
}

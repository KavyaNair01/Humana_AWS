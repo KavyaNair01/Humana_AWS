{
 "cells": [
  {
   "cell_type": "markdown",
   "metadata": {
    "editable": true
   },
   "source": [
    "# AWS Glue Studio Notebook\n",
    "##### You are now running a AWS Glue Studio notebook; To start using your notebook you need to start an AWS Glue Interactive Session.\n"
   ]
  },
  {
   "cell_type": "markdown",
   "metadata": {
    "editable": true
   },
   "source": [
    "#### Optional: Run this cell to see available notebook commands (\"magics\").\n"
   ]
  },
  {
   "cell_type": "code",
   "execution_count": null,
   "metadata": {
    "editable": true
   },
   "outputs": [],
   "source": [
    "%help"
   ]
  },
  {
   "cell_type": "markdown",
   "metadata": {
    "editable": true
   },
   "source": [
    "####  Run this cell to set up and start your interactive session.\n"
   ]
  },
  {
   "cell_type": "code",
   "execution_count": 1,
   "metadata": {
    "editable": true
   },
   "outputs": [
    {
     "name": "stdout",
     "output_type": "stream",
     "text": [
      "Welcome to the Glue Interactive Sessions Kernel\n",
      "For more information on available magic commands, please type %help in any new cell.\n",
      "\n",
      "Please view our Getting Started page to access the most up-to-date information on the Interactive Sessions kernel: https://docs.aws.amazon.com/glue/latest/dg/interactive-sessions.html\n",
      "Installed kernel version: 1.0.7 \n",
      "Current idle_timeout is None minutes.\n",
      "idle_timeout has been set to 2880 minutes.\n",
      "Setting Glue version to: 5.0\n",
      "Previous worker type: None\n",
      "Setting new worker type to: G.1X\n",
      "Previous number of workers: None\n",
      "Setting new number of workers to: 5\n",
      "Trying to create a Glue session for the kernel.\n",
      "Session Type: glueetl\n",
      "Worker Type: G.1X\n",
      "Number of Workers: 5\n",
      "Idle Timeout: 2880\n",
      "Session ID: b2f52d62-b276-4acb-9a58-f4edc9167d7c\n",
      "Applying the following default arguments:\n",
      "--glue_kernel_version 1.0.7\n",
      "--enable-glue-datacatalog true\n",
      "Waiting for session b2f52d62-b276-4acb-9a58-f4edc9167d7c to get into ready status...\n",
      "Session b2f52d62-b276-4acb-9a58-f4edc9167d7c has been created.\n",
      "\n"
     ]
    }
   ],
   "source": [
    "%idle_timeout 2880\n",
    "%glue_version 5.0\n",
    "%worker_type G.1X\n",
    "%number_of_workers 5\n",
    "\n",
    "import sys\n",
    "from awsglue.transforms import *\n",
    "from awsglue.utils import getResolvedOptions\n",
    "from pyspark.context import SparkContext\n",
    "from awsglue.context import GlueContext\n",
    "from awsglue.job import Job\n",
    "  \n",
    "sc = SparkContext.getOrCreate()\n",
    "glueContext = GlueContext(sc)\n",
    "spark = glueContext.spark_session\n",
    "job = Job(glueContext)"
   ]
  },
  {
   "cell_type": "markdown",
   "metadata": {
    "editable": true
   },
   "source": [
    "#### Example: Create a DynamicFrame from a table in the AWS Glue Data Catalog and display its schema\n"
   ]
  },
  {
   "cell_type": "code",
   "execution_count": null,
   "metadata": {
    "editable": true
   },
   "outputs": [],
   "source": [
    "# dyf = glueContext.create_dynamic_frame.from_catalog(database='database_name', table_name='table_name')\n",
    "# dyf.printSchema()"
   ]
  },
  {
   "cell_type": "markdown",
   "metadata": {
    "editable": true
   },
   "source": [
    "#### Example: Convert the DynamicFrame to a Spark DataFrame and display a sample of the data\n"
   ]
  },
  {
   "cell_type": "code",
   "execution_count": null,
   "metadata": {
    "editable": true
   },
   "outputs": [],
   "source": [
    "# df = dyf.toDF()\n",
    "# df.show()"
   ]
  },
  {
   "cell_type": "markdown",
   "metadata": {
    "editable": true
   },
   "source": [
    "#### Example: Visualize data with matplotlib\n"
   ]
  },
  {
   "cell_type": "code",
   "execution_count": 1,
   "metadata": {
    "editable": true
   },
   "outputs": [
    {
     "name": "stdout",
     "output_type": "stream",
     "text": [
      "Welcome to the Glue Interactive Sessions Kernel\n",
      "For more information on available magic commands, please type %help in any new cell.\n",
      "\n",
      "Please view our Getting Started page to access the most up-to-date information on the Interactive Sessions kernel: https://docs.aws.amazon.com/glue/latest/dg/interactive-sessions.html\n",
      "Installed kernel version: 1.0.7 \n",
      "Trying to create a Glue session for the kernel.\n",
      "Session Type: glueetl\n",
      "Session ID: 7c2607aa-d018-49be-a2a0-acab848ad6fb\n",
      "Applying the following default arguments:\n",
      "--glue_kernel_version 1.0.7\n",
      "--enable-glue-datacatalog true\n",
      "Waiting for session 7c2607aa-d018-49be-a2a0-acab848ad6fb to get into ready status...\n",
      "Session 7c2607aa-d018-49be-a2a0-acab848ad6fb has been created.\n",
      "<BarContainer object of 5 artists>\n",
      "\n"
     ]
    },
    {
     "data": {
      "image/png": "[encoded data removed]"
     },
     "metadata": {
      "image/png": {
       "height": 480,
       "width": 640
      }
     },
     "output_type": "display_data"
    }
   ],
   "source": [
    "# import matplotlib.pyplot as plt\n",
    "\n",
    "# # Set X-axis and Y-axis values\n",
    "# x = [5, 2, 8, 4, 9]\n",
    "# y = [10, 4, 8, 5, 2]\n",
    "  \n",
    "# # Create a bar chart \n",
    "# plt.bar(x, y)\n",
    "  \n",
    "# # Show the plot\n",
    "# %matplot plt"
   ]
  },
  {
   "cell_type": "markdown",
   "metadata": {
    "editable": true
   },
   "source": [
    "#### Example: Write the data in the DynamicFrame to a location in Amazon S3 and a table for it in the AWS Glue Data Catalog\n"
   ]
  },
  {
   "cell_type": "code",
   "execution_count": null,
   "metadata": {
    "editable": true
   },
   "outputs": [],
   "source": [
    "# s3output = glueContext.getSink(\n",
    "#   path=\"s3://bucket_name/folder_name\",\n",
    "#   connection_type=\"s3\",\n",
    "#   updateBehavior=\"UPDATE_IN_DATABASE\",\n",
    "#   partitionKeys=[],\n",
    "#   compression=\"snappy\",\n",
    "#   enableUpdateCatalog=True,\n",
    "#   transformation_ctx=\"s3output\",\n",
    "# )\n",
    "# s3output.setCatalogInfo(\n",
    "#   catalogDatabase=\"demo\", catalogTableName=\"populations\"\n",
    "# )\n",
    "# s3output.setFormat(\"glueparquet\")\n",
    "# s3output.writeFrame(DyF)"
   ]
  },
  {
   "cell_type": "code",
   "execution_count": 2,
   "metadata": {
    "tags": []
   },
   "outputs": [
    {
     "name": "stdout",
     "output_type": "stream",
     "text": [
      "root\n",
      " |-- measurement_year: string (nullable = true)\n",
      " |-- measure_name: string (nullable = true)\n",
      " |-- measure_desc: string (nullable = true)\n",
      " |-- measure_type: string (nullable = true)\n",
      " |-- base_event_date: string (nullable = true)\n",
      " |-- compliant_cnt: string (nullable = true)\n",
      " |-- eligible_cnt: string (nullable = true)\n",
      " |-- id: string (nullable = true)\n"
     ]
    }
   ],
   "source": [
    "from pyspark.sql import SparkSession\n",
    "\n",
    "# Read CSV File\n",
    "df = spark.read.option(\"header\",True).csv(\"s3://humanaproject/QUALITY_DATA.csv\")\n",
    "df.printSchema()"
   ]
  },
  {
   "cell_type": "code",
   "execution_count": 3,
   "metadata": {
    "tags": []
   },
   "outputs": [
    {
     "name": "stdout",
     "output_type": "stream",
     "text": [
      "\n"
     ]
    }
   ],
   "source": [
    "from pyspark.sql.types import IntegerType, StringType, DoubleType, LongType, BooleanType\n",
    "from pyspark.sql.functions import col\n",
    "df = df.withColumn('eligible_cnt', col('eligible_cnt').cast(IntegerType()))\n",
    "df = df.withColumn('compliant_cnt', col('compliant_cnt').cast(IntegerType()))"
   ]
  },
  {
   "cell_type": "code",
   "execution_count": 4,
   "metadata": {
    "tags": []
   },
   "outputs": [
    {
     "name": "stdout",
     "output_type": "stream",
     "text": [
      "DataFrame[measurement_year: string, measure_name: string, measure_desc: string, measure_type: string, base_event_date: string, compliant_cnt: int, eligible_cnt: int, id: string]\n"
     ]
    }
   ],
   "source": [
    "df.dropDuplicates( subset=['measurement_year','measure_name', 'measure_type','base_event_date','compliant_cnt',\t'eligible_cnt',\t'id'])"
   ]
  },
  {
   "cell_type": "code",
   "execution_count": 5,
   "metadata": {
    "tags": []
   },
   "outputs": [
    {
     "name": "stdout",
     "output_type": "stream",
     "text": [
      "\n"
     ]
    }
   ],
   "source": [
    "from pyspark.sql import functions as F\n",
    "\n",
    "df_agg=df.groupby(['id']).pivot('measure_name').agg({'eligible_cnt':'sum'})\n"
   ]
  },
  {
   "cell_type": "code",
   "execution_count": 6,
   "metadata": {
    "tags": []
   },
   "outputs": [
    {
     "name": "stdout",
     "output_type": "stream",
     "text": [
      "{'ABA': 'ABA_elig_cnt', 'ADH (ACE)': 'ADH_(ACE)_elig_cnt', 'ADH (DIAB)': 'ADH_(DIAB)_elig_cnt', 'ADH (STATIN)': 'ADH_(STATIN)_elig_cnt', 'ART': 'ART_elig_cnt', 'ASV': 'ASV_elig_cnt', 'BCS': 'BCS_elig_cnt', 'CBP': 'CBP_elig_cnt', 'CDC (EYE)': 'CDC_(EYE)_elig_cnt', 'CDC (HbA1c)': 'CDC_(HbA1c)_elig_cnt', 'CDC (NPH)': 'CDC_(NPH)_elig_cnt', 'COA (FSA)': 'COA_(FSA)_elig_cnt', 'COA (MDR)': 'COA_(MDR)_elig_cnt', 'COA (PNS)': 'COA_(PNS)_elig_cnt', 'COL': 'COL_elig_cnt', 'COL (45-50)': 'COL_(45-50)_elig_cnt', 'EED': 'EED_elig_cnt', 'EGR': 'EGR_elig_cnt', 'ESA': 'ESA_elig_cnt', 'ETA': 'ETA_elig_cnt', 'FMC': 'FMC_elig_cnt', 'HBD': 'HBD_elig_cnt', 'KED': 'KED_elig_cnt', 'MDR': 'MDR_elig_cnt', 'MRP': 'MRP_elig_cnt', 'OMW': 'OMW_elig_cnt', 'PCR': 'PCR_elig_cnt', 'RXC': 'RXC_elig_cnt', 'SBT': 'SBT_elig_cnt', 'SFT': 'SFT_elig_cnt', 'SPC STATIN': 'SPC_STATIN_elig_cnt', 'SUPD': 'SUPD_elig_cnt', 'SWT': 'SWT_elig_cnt', 'TBC': 'TBC_elig_cnt', 'TEX': 'TEX_elig_cnt', 'TFP': 'TFP_elig_cnt', 'TRC (MRP)': 'TRC_(MRP)_elig_cnt', 'TRC (PED)': 'TRC_(PED)_elig_cnt'}\n"
     ]
    }
   ],
   "source": [
    "dct=dict()\n",
    "for i in df_agg.columns:\n",
    "  if i not in ['id','measurement_year''measure_name']:\n",
    "    dct[i]= i.replace(' ', '_')+'_elig_cnt'\n",
    "    \n",
    "dct"
   ]
  },
  {
   "cell_type": "code",
   "execution_count": 7,
   "metadata": {
    "tags": []
   },
   "outputs": [
    {
     "name": "stdout",
     "output_type": "stream",
     "text": [
      "\n"
     ]
    }
   ],
   "source": [
    "from pyspark.sql import DataFrame\n",
    "\n",
    "def rename_columns(df: DataFrame, rename_dict: dict) -> DataFrame:\n",
    "    \"\"\"\n",
    "    Rename columns in a PySpark DataFrame based on a dictionary.\n",
    "\n",
    "    :param df: Input PySpark DataFrame\n",
    "    :param rename_dict: Dictionary with old column names as keys and new column names as values\n",
    "    :return: PySpark DataFrame with renamed columns\n",
    "    \"\"\"\n",
    "    for old_col, new_col in rename_dict.items():\n",
    "        df = df.withColumnRenamed(old_col, new_col)\n",
    "    return df\n",
    "\n",
    "# Example usage:\n",
    "# Assuming df_agg is your DataFrame and dct_comp is your dictionary\n",
    "df_agg_renamed_mn_elg = rename_columns(df_agg, dct)\n"
   ]
  },
  {
   "cell_type": "code",
   "execution_count": 8,
   "metadata": {
    "tags": []
   },
   "outputs": [
    {
     "name": "stdout",
     "output_type": "stream",
     "text": [
      "\n"
     ]
    }
   ],
   "source": [
    "from pyspark.sql import functions as F\n",
    "\n",
    "df_agg_comp=df.groupby(['id']).pivot('measure_name').agg({'compliant_cnt':'sum'}) "
   ]
  },
  {
   "cell_type": "code",
   "execution_count": 9,
   "metadata": {
    "tags": []
   },
   "outputs": [
    {
     "name": "stdout",
     "output_type": "stream",
     "text": [
      "{'ABA': 'ABA_comp_cnt', 'ADH (ACE)': 'ADH_(ACE)_comp_cnt', 'ADH (DIAB)': 'ADH_(DIAB)_comp_cnt', 'ADH (STATIN)': 'ADH_(STATIN)_comp_cnt', 'ART': 'ART_comp_cnt', 'ASV': 'ASV_comp_cnt', 'BCS': 'BCS_comp_cnt', 'CBP': 'CBP_comp_cnt', 'CDC (EYE)': 'CDC_(EYE)_comp_cnt', 'CDC (HbA1c)': 'CDC_(HbA1c)_comp_cnt', 'CDC (NPH)': 'CDC_(NPH)_comp_cnt', 'COA (FSA)': 'COA_(FSA)_comp_cnt', 'COA (MDR)': 'COA_(MDR)_comp_cnt', 'COA (PNS)': 'COA_(PNS)_comp_cnt', 'COL': 'COL_comp_cnt', 'COL (45-50)': 'COL_(45-50)_comp_cnt', 'EED': 'EED_comp_cnt', 'EGR': 'EGR_comp_cnt', 'ESA': 'ESA_comp_cnt', 'ETA': 'ETA_comp_cnt', 'FMC': 'FMC_comp_cnt', 'HBD': 'HBD_comp_cnt', 'KED': 'KED_comp_cnt', 'MDR': 'MDR_comp_cnt', 'MRP': 'MRP_comp_cnt', 'OMW': 'OMW_comp_cnt', 'PCR': 'PCR_comp_cnt', 'RXC': 'RXC_comp_cnt', 'SBT': 'SBT_comp_cnt', 'SFT': 'SFT_comp_cnt', 'SPC STATIN': 'SPC_STATIN_comp_cnt', 'SUPD': 'SUPD_comp_cnt', 'SWT': 'SWT_comp_cnt', 'TBC': 'TBC_comp_cnt', 'TEX': 'TEX_comp_cnt', 'TFP': 'TFP_comp_cnt', 'TRC (MRP)': 'TRC_(MRP)_comp_cnt', 'TRC (PED)': 'TRC_(PED)_comp_cnt'}\n"
     ]
    }
   ],
   "source": [
    "dct_comp=dict()\n",
    "for i in df_agg.columns:\n",
    "  if i not in ['id','measurement_year''measure_name']:\n",
    "    dct_comp[i]= i.replace(' ', '_')+'_comp_cnt'\n",
    "    \n",
    "dct_comp"
   ]
  },
  {
   "cell_type": "code",
   "execution_count": 10,
   "metadata": {
    "tags": []
   },
   "outputs": [
    {
     "name": "stdout",
     "output_type": "stream",
     "text": [
      "\n"
     ]
    }
   ],
   "source": [
    "df_agg_renamed_mn_comp = rename_columns(df_agg_comp, dct_comp)"
   ]
  },
  {
   "cell_type": "code",
   "execution_count": 11,
   "metadata": {
    "tags": []
   },
   "outputs": [
    {
     "name": "stdout",
     "output_type": "stream",
     "text": [
      "\n"
     ]
    }
   ],
   "source": [
    "from pyspark.sql import functions as F\n",
    "\n",
    "df_agg_mt_comp=df.groupby(['id']).pivot('measure_type').agg({'compliant_cnt':'sum'})"
   ]
  },
  {
   "cell_type": "code",
   "execution_count": 14,
   "metadata": {
    "tags": []
   },
   "outputs": [
    {
     "name": "stdout",
     "output_type": "stream",
     "text": [
      "{'HEDIS': 'HEDIS_comp_cnt', 'Patient Experience': 'Patient_Experience_comp_cnt', 'Patient Safety': 'Patient_Safety_comp_cnt'}\n"
     ]
    }
   ],
   "source": [
    "dct_comp_mt=dict()\n",
    "for i in df_agg_mt_comp.columns:\n",
    "  if i not in ['id','measurement_year''measure_name']:\n",
    "    dct_comp_mt[i]= i.replace(' ', '_')+'_comp_cnt'\n",
    "    \n",
    "dct_comp_mt"
   ]
  },
  {
   "cell_type": "code",
   "execution_count": 15,
   "metadata": {
    "tags": []
   },
   "outputs": [
    {
     "name": "stdout",
     "output_type": "stream",
     "text": [
      "\n"
     ]
    }
   ],
   "source": [
    "df_agg_renamed_mt_comp = rename_columns(df_agg_mt_comp, dct_comp_mt)"
   ]
  },
  {
   "cell_type": "code",
   "execution_count": 16,
   "metadata": {
    "tags": []
   },
   "outputs": [
    {
     "name": "stdout",
     "output_type": "stream",
     "text": [
      "\n"
     ]
    }
   ],
   "source": [
    "from pyspark.sql import functions as F\n",
    "\n",
    "df_agg_mt_elg=df.groupby(['id']).pivot('measure_type').agg({'eligible_cnt':'sum'})"
   ]
  },
  {
   "cell_type": "code",
   "execution_count": 17,
   "metadata": {
    "tags": []
   },
   "outputs": [
    {
     "name": "stdout",
     "output_type": "stream",
     "text": [
      "{'HEDIS': 'HEDIS_elig_cnt', 'Patient Experience': 'Patient_Experience_elig_cnt', 'Patient Safety': 'Patient_Safety_elig_cnt'}\n"
     ]
    }
   ],
   "source": [
    "dct_elg_mt=dict()\n",
    "for i in df_agg_mt_elg.columns:\n",
    "  if i not in ['id','measurement_year''measure_name']:\n",
    "    dct_elg_mt[i]= i.replace(' ', '_')+'_elig_cnt'\n",
    "    \n",
    "dct_elg_mt"
   ]
  },
  {
   "cell_type": "code",
   "execution_count": 18,
   "metadata": {
    "tags": []
   },
   "outputs": [
    {
     "name": "stdout",
     "output_type": "stream",
     "text": [
      "\n"
     ]
    }
   ],
   "source": [
    "df_agg_renamed_mt_elg = rename_columns(df_agg_mt_elg, dct_elg_mt)"
   ]
  },
  {
   "cell_type": "code",
   "execution_count": 23,
   "metadata": {
    "tags": []
   },
   "outputs": [
    {
     "name": "stdout",
     "output_type": "stream",
     "text": [
      "\n"
     ]
    }
   ],
   "source": [
    "final_agg_df = df_agg_renamed_mn_elg.join(df_agg_renamed_mn_comp, on=\"id\", how=\"outer\").join(df_agg_renamed_mt_comp, on=\"id\", how=\"outer\").join(df_agg_renamed_mt_elg, on=\"id\", how=\"outer\").fillna(0)\n"
   ]
  },
  {
   "cell_type": "code",
   "execution_count": 24,
   "metadata": {
    "tags": []
   },
   "outputs": [
    {
     "name": "stdout",
     "output_type": "stream",
     "text": [
      "\n"
     ]
    }
   ],
   "source": [
    "eligible_columns = [col for col in final_agg_df.columns if col.endswith(\"_elig_cnt\")]\n",
    "compliant_columns = [col for col in final_agg_df.columns if col.endswith(\"_comp_cnt\")]"
   ]
  },
  {
   "cell_type": "code",
   "execution_count": 27,
   "metadata": {
    "tags": []
   },
   "outputs": [
    {
     "name": "stdout",
     "output_type": "stream",
     "text": [
      "\n"
     ]
    }
   ],
   "source": [
    "eligible_columns.sort()\n",
    "compliant_columns.sort()"
   ]
  },
  {
   "cell_type": "code",
   "execution_count": 29,
   "metadata": {
    "tags": []
   },
   "outputs": [
    {
     "name": "stdout",
     "output_type": "stream",
     "text": [
      "['ABA_comp_cnt', 'ADH_(ACE)_comp_cnt', 'ADH_(DIAB)_comp_cnt', 'ADH_(STATIN)_comp_cnt', 'ART_comp_cnt', 'ASV_comp_cnt', 'BCS_comp_cnt', 'CBP_comp_cnt', 'CDC_(EYE)_comp_cnt', 'CDC_(HbA1c)_comp_cnt', 'CDC_(NPH)_comp_cnt', 'COA_(FSA)_comp_cnt', 'COA_(MDR)_comp_cnt', 'COA_(PNS)_comp_cnt', 'COL_(45-50)_comp_cnt', 'COL_comp_cnt', 'EED_comp_cnt', 'EGR_comp_cnt', 'ESA_comp_cnt', 'ETA_comp_cnt', 'FMC_comp_cnt', 'HBD_comp_cnt', 'HEDIS_comp_cnt', 'KED_comp_cnt', 'MDR_comp_cnt', 'MRP_comp_cnt', 'OMW_comp_cnt', 'PCR_comp_cnt', 'Patient_Experience_comp_cnt', 'Patient_Safety_comp_cnt', 'RXC_comp_cnt', 'SBT_comp_cnt', 'SFT_comp_cnt', 'SPC_STATIN_comp_cnt', 'SUPD_comp_cnt', 'SWT_comp_cnt', 'TBC_comp_cnt', 'TEX_comp_cnt', 'TFP_comp_cnt', 'TRC_(MRP)_comp_cnt', 'TRC_(PED)_comp_cnt']\n"
     ]
    }
   ],
   "source": []
  },
  {
   "cell_type": "code",
   "execution_count": 30,
   "metadata": {
    "tags": []
   },
   "outputs": [
    {
     "name": "stdout",
     "output_type": "stream",
     "text": [
      "{'ABA_ratio': ['ABA_elig_cnt', 'ABA_comp_cnt'], 'ADH_(ACE)_ratio': ['ADH_(ACE)_elig_cnt', 'ADH_(ACE)_comp_cnt'], 'ADH_(DIAB)_ratio': ['ADH_(DIAB)_elig_cnt', 'ADH_(DIAB)_comp_cnt'], 'ADH_(STATIN)_ratio': ['ADH_(STATIN)_elig_cnt', 'ADH_(STATIN)_comp_cnt'], 'ART_ratio': ['ART_elig_cnt', 'ART_comp_cnt'], 'ASV_ratio': ['ASV_elig_cnt', 'ASV_comp_cnt'], 'BCS_ratio': ['BCS_elig_cnt', 'BCS_comp_cnt'], 'CBP_ratio': ['CBP_elig_cnt', 'CBP_comp_cnt'], 'CDC_(EYE)_ratio': ['CDC_(EYE)_elig_cnt', 'CDC_(EYE)_comp_cnt'], 'CDC_(HbA1c)_ratio': ['CDC_(HbA1c)_elig_cnt', 'CDC_(HbA1c)_comp_cnt'], 'CDC_(NPH)_ratio': ['CDC_(NPH)_elig_cnt', 'CDC_(NPH)_comp_cnt'], 'COA_(FSA)_ratio': ['COA_(FSA)_elig_cnt', 'COA_(FSA)_comp_cnt'], 'COA_(MDR)_ratio': ['COA_(MDR)_elig_cnt', 'COA_(MDR)_comp_cnt'], 'COA_(PNS)_ratio': ['COA_(PNS)_elig_cnt', 'COA_(PNS)_comp_cnt'], 'COL_(45-50)_ratio': ['COL_(45-50)_elig_cnt', 'COL_(45-50)_comp_cnt'], 'COL_ratio': ['COL_elig_cnt', 'COL_comp_cnt'], 'EED_ratio': ['EED_elig_cnt', 'EED_comp_cnt'], 'EGR_ratio': ['EGR_elig_cnt', 'EGR_comp_cnt'], 'ESA_ratio': ['ESA_elig_cnt', 'ESA_comp_cnt'], 'ETA_ratio': ['ETA_elig_cnt', 'ETA_comp_cnt'], 'FMC_ratio': ['FMC_elig_cnt', 'FMC_comp_cnt'], 'HBD_ratio': ['HBD_elig_cnt', 'HBD_comp_cnt'], 'HEDIS_ratio': ['HEDIS_elig_cnt', 'HEDIS_comp_cnt'], 'KED_ratio': ['KED_elig_cnt', 'KED_comp_cnt'], 'MDR_ratio': ['MDR_elig_cnt', 'MDR_comp_cnt'], 'MRP_ratio': ['MRP_elig_cnt', 'MRP_comp_cnt'], 'OMW_ratio': ['OMW_elig_cnt', 'OMW_comp_cnt'], 'PCR_ratio': ['PCR_elig_cnt', 'PCR_comp_cnt'], 'Patient_Experience_ratio': ['Patient_Experience_elig_cnt', 'Patient_Experience_comp_cnt'], 'Patient_Safety_ratio': ['Patient_Safety_elig_cnt', 'Patient_Safety_comp_cnt'], 'RXC_ratio': ['RXC_elig_cnt', 'RXC_comp_cnt'], 'SBT_ratio': ['SBT_elig_cnt', 'SBT_comp_cnt'], 'SFT_ratio': ['SFT_elig_cnt', 'SFT_comp_cnt'], 'SPC_STATIN_ratio': ['SPC_STATIN_elig_cnt', 'SPC_STATIN_comp_cnt'], 'SUPD_ratio': ['SUPD_elig_cnt', 'SUPD_comp_cnt'], 'SWT_ratio': ['SWT_elig_cnt', 'SWT_comp_cnt'], 'TBC_ratio': ['TBC_elig_cnt', 'TBC_comp_cnt'], 'TEX_ratio': ['TEX_elig_cnt', 'TEX_comp_cnt'], 'TFP_ratio': ['TFP_elig_cnt', 'TFP_comp_cnt'], 'TRC_(MRP)_ratio': ['TRC_(MRP)_elig_cnt', 'TRC_(MRP)_comp_cnt'], 'TRC_(PED)_ratio': ['TRC_(PED)_elig_cnt', 'TRC_(PED)_comp_cnt']}\n"
     ]
    }
   ],
   "source": [
    "dict_ratio = {}\n",
    "for i in range(len(eligible_columns)):\n",
    "    dict_ratio[eligible_columns[i][0:-9]+\"_ratio\"] = [eligible_columns[i],compliant_columns[i]]\n",
    "\n",
    "dict_ratio"
   ]
  },
  {
   "cell_type": "code",
   "execution_count": 32,
   "metadata": {
    "tags": []
   },
   "outputs": [
    {
     "name": "stdout",
     "output_type": "stream",
     "text": [
      "\n"
     ]
    }
   ],
   "source": [
    "for key, value in dict_ratio.items():\n",
    "    final_agg_df = final_agg_df.withColumn(key, F.when( F.col(value[0]) !=0, F.col(value[1])/ F.col(value[0])).otherwise(None))\n",
    "    \n"
   ]
  },
  {
   "cell_type": "code",
   "execution_count": 34,
   "metadata": {
    "tags": []
   },
   "outputs": [
    {
     "name": "stdout",
     "output_type": "stream",
     "text": [
      "root\n",
      " |-- id: string (nullable = true)\n",
      " |-- ABA_elig_cnt: long (nullable = true)\n",
      " |-- ADH_(ACE)_elig_cnt: long (nullable = true)\n",
      " |-- ADH_(DIAB)_elig_cnt: long (nullable = true)\n",
      " |-- ADH_(STATIN)_elig_cnt: long (nullable = true)\n",
      " |-- ART_elig_cnt: long (nullable = true)\n",
      " |-- ASV_elig_cnt: long (nullable = true)\n",
      " |-- BCS_elig_cnt: long (nullable = true)\n",
      " |-- CBP_elig_cnt: long (nullable = true)\n",
      " |-- CDC_(EYE)_elig_cnt: long (nullable = true)\n",
      " |-- CDC_(HbA1c)_elig_cnt: long (nullable = true)\n",
      " |-- CDC_(NPH)_elig_cnt: long (nullable = true)\n",
      " |-- COA_(FSA)_elig_cnt: long (nullable = true)\n",
      " |-- COA_(MDR)_elig_cnt: long (nullable = true)\n",
      " |-- COA_(PNS)_elig_cnt: long (nullable = true)\n",
      " |-- COL_elig_cnt: long (nullable = true)\n",
      " |-- COL_(45-50)_elig_cnt: long (nullable = true)\n",
      " |-- EED_elig_cnt: long (nullable = true)\n",
      " |-- EGR_elig_cnt: long (nullable = true)\n",
      " |-- ESA_elig_cnt: long (nullable = true)\n",
      " |-- ETA_elig_cnt: long (nullable = true)\n",
      " |-- FMC_elig_cnt: long (nullable = true)\n",
      " |-- HBD_elig_cnt: long (nullable = true)\n",
      " |-- KED_elig_cnt: long (nullable = true)\n",
      " |-- MDR_elig_cnt: long (nullable = true)\n",
      " |-- MRP_elig_cnt: long (nullable = true)\n",
      " |-- OMW_elig_cnt: long (nullable = true)\n",
      " |-- PCR_elig_cnt: long (nullable = true)\n",
      " |-- RXC_elig_cnt: long (nullable = true)\n",
      " |-- SBT_elig_cnt: long (nullable = true)\n",
      " |-- SFT_elig_cnt: long (nullable = true)\n",
      " |-- SPC_STATIN_elig_cnt: long (nullable = true)\n",
      " |-- SUPD_elig_cnt: long (nullable = true)\n",
      " |-- SWT_elig_cnt: long (nullable = true)\n",
      " |-- TBC_elig_cnt: long (nullable = true)\n",
      " |-- TEX_elig_cnt: long (nullable = true)\n",
      " |-- TFP_elig_cnt: long (nullable = true)\n",
      " |-- TRC_(MRP)_elig_cnt: long (nullable = true)\n",
      " |-- TRC_(PED)_elig_cnt: long (nullable = true)\n",
      " |-- ABA_comp_cnt: long (nullable = true)\n",
      " |-- ADH_(ACE)_comp_cnt: long (nullable = true)\n",
      " |-- ADH_(DIAB)_comp_cnt: long (nullable = true)\n",
      " |-- ADH_(STATIN)_comp_cnt: long (nullable = true)\n",
      " |-- ART_comp_cnt: long (nullable = true)\n",
      " |-- ASV_comp_cnt: long (nullable = true)\n",
      " |-- BCS_comp_cnt: long (nullable = true)\n",
      " |-- CBP_comp_cnt: long (nullable = true)\n",
      " |-- CDC_(EYE)_comp_cnt: long (nullable = true)\n",
      " |-- CDC_(HbA1c)_comp_cnt: long (nullable = true)\n",
      " |-- CDC_(NPH)_comp_cnt: long (nullable = true)\n",
      " |-- COA_(FSA)_comp_cnt: long (nullable = true)\n",
      " |-- COA_(MDR)_comp_cnt: long (nullable = true)\n",
      " |-- COA_(PNS)_comp_cnt: long (nullable = true)\n",
      " |-- COL_comp_cnt: long (nullable = true)\n",
      " |-- COL_(45-50)_comp_cnt: long (nullable = true)\n",
      " |-- EED_comp_cnt: long (nullable = true)\n",
      " |-- EGR_comp_cnt: long (nullable = true)\n",
      " |-- ESA_comp_cnt: long (nullable = true)\n",
      " |-- ETA_comp_cnt: long (nullable = true)\n",
      " |-- FMC_comp_cnt: long (nullable = true)\n",
      " |-- HBD_comp_cnt: long (nullable = true)\n",
      " |-- KED_comp_cnt: long (nullable = true)\n",
      " |-- MDR_comp_cnt: long (nullable = true)\n",
      " |-- MRP_comp_cnt: long (nullable = true)\n",
      " |-- OMW_comp_cnt: long (nullable = true)\n",
      " |-- PCR_comp_cnt: long (nullable = true)\n",
      " |-- RXC_comp_cnt: long (nullable = true)\n",
      " |-- SBT_comp_cnt: long (nullable = true)\n",
      " |-- SFT_comp_cnt: long (nullable = true)\n",
      " |-- SPC_STATIN_comp_cnt: long (nullable = true)\n",
      " |-- SUPD_comp_cnt: long (nullable = true)\n",
      " |-- SWT_comp_cnt: long (nullable = true)\n",
      " |-- TBC_comp_cnt: long (nullable = true)\n",
      " |-- TEX_comp_cnt: long (nullable = true)\n",
      " |-- TFP_comp_cnt: long (nullable = true)\n",
      " |-- TRC_(MRP)_comp_cnt: long (nullable = true)\n",
      " |-- TRC_(PED)_comp_cnt: long (nullable = true)\n",
      " |-- HEDIS_comp_cnt: long (nullable = true)\n",
      " |-- Patient_Experience_comp_cnt: long (nullable = true)\n",
      " |-- Patient_Safety_comp_cnt: long (nullable = true)\n",
      " |-- HEDIS_elig_cnt: long (nullable = true)\n",
      " |-- Patient_Experience_elig_cnt: long (nullable = true)\n",
      " |-- Patient_Safety_elig_cnt: long (nullable = true)\n",
      " |-- ABA_ratio: double (nullable = true)\n",
      " |-- ADH_(ACE)_ratio: double (nullable = true)\n",
      " |-- ADH_(DIAB)_ratio: double (nullable = true)\n",
      " |-- ADH_(STATIN)_ratio: double (nullable = true)\n",
      " |-- ART_ratio: double (nullable = true)\n",
      " |-- ASV_ratio: double (nullable = true)\n",
      " |-- BCS_ratio: double (nullable = true)\n",
      " |-- CBP_ratio: double (nullable = true)\n",
      " |-- CDC_(EYE)_ratio: double (nullable = true)\n",
      " |-- CDC_(HbA1c)_ratio: double (nullable = true)\n",
      " |-- CDC_(NPH)_ratio: double (nullable = true)\n",
      " |-- COA_(FSA)_ratio: double (nullable = true)\n",
      " |-- COA_(MDR)_ratio: double (nullable = true)\n",
      " |-- COA_(PNS)_ratio: double (nullable = true)\n",
      " |-- COL_(45-50)_ratio: double (nullable = true)\n",
      " |-- COL_ratio: double (nullable = true)\n",
      " |-- EED_ratio: double (nullable = true)\n",
      " |-- EGR_ratio: double (nullable = true)\n",
      " |-- ESA_ratio: double (nullable = true)\n",
      " |-- ETA_ratio: double (nullable = true)\n",
      " |-- FMC_ratio: double (nullable = true)\n",
      " |-- HBD_ratio: double (nullable = true)\n",
      " |-- HEDIS_ratio: double (nullable = true)\n",
      " |-- KED_ratio: double (nullable = true)\n",
      " |-- MDR_ratio: double (nullable = true)\n",
      " |-- MRP_ratio: double (nullable = true)\n",
      " |-- OMW_ratio: double (nullable = true)\n",
      " |-- PCR_ratio: double (nullable = true)\n",
      " |-- Patient_Experience_ratio: double (nullable = true)\n",
      " |-- Patient_Safety_ratio: double (nullable = true)\n",
      " |-- RXC_ratio: double (nullable = true)\n",
      " |-- SBT_ratio: double (nullable = true)\n",
      " |-- SFT_ratio: double (nullable = true)\n",
      " |-- SPC_STATIN_ratio: double (nullable = true)\n",
      " |-- SUPD_ratio: double (nullable = true)\n",
      " |-- SWT_ratio: double (nullable = true)\n",
      " |-- TBC_ratio: double (nullable = true)\n",
      " |-- TEX_ratio: double (nullable = true)\n",
      " |-- TFP_ratio: double (nullable = true)\n",
      " |-- TRC_(MRP)_ratio: double (nullable = true)\n",
      " |-- TRC_(PED)_ratio: double (nullable = true)\n"
     ]
    }
   ],
   "source": [
    "# final_agg_df.printSchema()"
   ]
  },
  {
   "cell_type": "code",
   "execution_count": null,
   "metadata": {},
   "outputs": [],
   "source": [
    "from awsglue.dynamicframe import DynamicFrame\n",
    "# Convert Spark DataFrame to Glue DynamicFrame\n",
    "dynamic_df = DynamicFrame.fromDF(final_agg_df, glueContext, \"dynamic_df\")\n",
    "\n",
    "# Specify the S3 path where the file should be stored\n",
    "output_path = \"s3://humanaproject/staging_temp/quality/\"\n",
    "\n",
    "# Write the DynamicFrame to S3 in CSV format\n",
    "glueContext.write_dynamic_frame.from_options(\n",
    "    frame=dynamic_df,\n",
    "    connection_type=\"s3\",\n",
    "    connection_options={\"path\": output_path},\n",
    "    format=\"csv\"\n",
    ")\n",
    "\n",
    "print(f\"Data successfully written to {output_path}\")"
   ]
  }
 ],
 "metadata": {
  "kernelspec": {
   "display_name": "Python 3 (ipykernel)",
   "language": "python",
   "name": "python3"
  },
  "language_info": {
   "codemirror_mode": {
    "name": "ipython",
    "version": 3
   },
   "file_extension": ".py",
   "mimetype": "text/x-python",
   "name": "python",
   "nbconvert_exporter": "python",
   "pygments_lexer": "ipython3",
   "version": "3.8.19"
  }
 },
 "nbformat": 4,
 "nbformat_minor": 4
}
